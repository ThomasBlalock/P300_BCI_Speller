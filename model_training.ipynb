{
 "cells": [
  {
   "cell_type": "markdown",
   "metadata": {},
   "source": [
    "Notebook to train the model.\n",
    "\n",
    "Dataset:\n",
    "    lib/Datasets.py:\n",
    "        EEGDataset\n",
    "\n",
    "Models:\n",
    "    lib/models/EEG_Net_CNN.py : EEG_Net_CNN - a simple convolutional neural network [conv -> conv -> conv -> dense] with ELU activation, pooling, and batch normalization"
   ]
  },
  {
   "cell_type": "code",
   "execution_count": 1,
   "metadata": {},
   "outputs": [
    {
     "name": "stdout",
     "output_type": "stream",
     "text": [
      "pygame 2.5.1 (SDL 2.28.2, Python 3.11.5)\n",
      "Hello from the pygame community. https://www.pygame.org/contribute.html\n"
     ]
    }
   ],
   "source": [
    "# Packages\n",
    "from lib.models.EEG_Net_CNN import EEG_Net_CNN\n",
    "from lib.utils import load_data\n",
    "from lib.DataObject import DataObject\n",
    "import lib.DataObjectUtils as util\n",
    "import torch\n",
    "import pickle\n",
    "import torch.nn as nn\n",
    "from lib.DataHandler import DataAcquisitionHandler\n",
    "from torch.utils.data import DataLoader, TensorDataset\n",
    "from torch.utils.data import WeightedRandomSampler"
   ]
  },
  {
   "cell_type": "code",
   "execution_count": 5,
   "metadata": {},
   "outputs": [
    {
     "name": "stdout",
     "output_type": "stream",
     "text": [
      "List of samples: 354\n",
      "Sample - (channels, label): 2\n",
      "Channels: 24\n",
      "Max Channel Len - [reading_1, ...]: 250\n",
      "Min Channel Len - [reading_1, ...]: 250\n",
      "Sample example: (tensor([[ 2.4500e+02,  2.4600e+02,  2.4700e+02,  ...,  2.3600e+02,\n",
      "          2.3700e+02,  2.3800e+02],\n",
      "        [ 8.3703e+03,  8.4933e+03,  8.5348e+03,  ...,  8.4436e+03,\n",
      "          8.5442e+03,  8.3925e+03],\n",
      "        [-6.4812e+00, -6.1533e+00, -5.2448e+00,  ..., -3.8378e+00,\n",
      "         -3.7535e+00, -3.5997e+00],\n",
      "        ...,\n",
      "        [ 0.0000e+00,  0.0000e+00,  0.0000e+00,  ...,  0.0000e+00,\n",
      "          0.0000e+00,  0.0000e+00],\n",
      "        [ 1.6987e+09,  1.6987e+09,  1.6987e+09,  ...,  1.6987e+09,\n",
      "          1.6987e+09,  1.6987e+09],\n",
      "        [ 0.0000e+00,  0.0000e+00,  0.0000e+00,  ...,  0.0000e+00,\n",
      "          0.0000e+00,  0.0000e+00]]), tensor(1))\n"
     ]
    }
   ],
   "source": [
    "# Get Data\n",
    "\n",
    "# Get list of handler objects\n",
    "dir = [\"C:/Users/c25th/code/P300_BCI_Speller/data/box_data_handler\", \"C:/Users/c25th/code/P300_BCI_Speller/data/keyboard_data_handler\"]\n",
    "handler_list = []\n",
    "for d in dir:\n",
    "    handler_list.extend(load_data(d))\n",
    "\n",
    "# Make all Handler objects into one single DataObject\n",
    "data = DataObject(handler_list.pop(0).get_data())\n",
    "for handler in handler_list:\n",
    "    new_data_obj = DataObject(handler.get_data())\n",
    "    data.accept(util.AddDataVisitor(new_data_obj))\n",
    "\n",
    "# Apply Filters\n",
    "data.accept(util.BandpassFilterVisitor(low=0.1, high=10))\n",
    "data.accept(util.BandstopFilterVisitor(low=49, high=51))\n",
    "\n",
    "# Extract data\n",
    "key_data, box_data = data.get_data(decorator=util.MakeTensorWindowsDataDecorator())\n",
    "\n",
    "# Verify everything worked as expected\n",
    "sample = box_data[0]\n",
    "print(\"List of samples:\" ,len(box_data))\n",
    "print(\"Sample - (channels, label):\", len(box_data[0]))\n",
    "print(\"Channels:\", len(box_data[0][0]))\n",
    "max_channel_len = 0\n",
    "min_channel_len = 10000000\n",
    "for sample in box_data:\n",
    "    for channel in sample[0]:\n",
    "        if len(channel) > max_channel_len:\n",
    "            max_channel_len = len(channel)\n",
    "        if len(channel) < min_channel_len:\n",
    "            min_channel_len = len(channel)\n",
    "print(\"Max Channel Len - [reading_1, ...]:\", max_channel_len)\n",
    "print(\"Min Channel Len - [reading_1, ...]:\", min_channel_len)\n",
    "print(\"Sample example:\", sample)"
   ]
  },
  {
   "cell_type": "code",
   "execution_count": null,
   "metadata": {},
   "outputs": [],
   "source": []
  }
 ],
 "metadata": {
  "kernelspec": {
   "display_name": "Python 3",
   "language": "python",
   "name": "python3"
  },
  "language_info": {
   "codemirror_mode": {
    "name": "ipython",
    "version": 3
   },
   "file_extension": ".py",
   "mimetype": "text/x-python",
   "name": "python",
   "nbconvert_exporter": "python",
   "pygments_lexer": "ipython3",
   "version": "3.11.5"
  }
 },
 "nbformat": 4,
 "nbformat_minor": 2
}
