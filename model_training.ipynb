{
 "cells": [
  {
   "cell_type": "markdown",
   "metadata": {},
   "source": [
    "Notebook to train the model.\n",
    "\n",
    "Dataset:\n",
    "    lib/Datasets.py:\n",
    "        EEGDataset\n",
    "\n",
    "Models:\n",
    "    lib/models/EEG_Net_CNN.py : EEG_Net_CNN - a simple convolutional neural network [conv -> conv -> conv -> dense] with ELU activation, pooling, and batch normalization"
   ]
  },
  {
   "cell_type": "code",
   "execution_count": 1,
   "metadata": {},
   "outputs": [
    {
     "name": "stdout",
     "output_type": "stream",
     "text": [
      "pygame 2.5.1 (SDL 2.28.2, Python 3.11.5)\n",
      "Hello from the pygame community. https://www.pygame.org/contribute.html\n"
     ]
    }
   ],
   "source": [
    "# Packages\n",
    "from lib.models.EEG_Net_CNN import EEG_Net_CNN\n",
    "import matplotlib.pyplot as plt\n",
    "from lib.utils import load_data, train, test\n",
    "from lib.Datasets import EEGDataset\n",
    "from lib.DataObject import DataObject\n",
    "import lib.DataObjectUtils as util\n",
    "import torch\n",
    "import pickle\n",
    "import torch.nn as nn\n",
    "from lib.DataHandler import DataAcquisitionHandler\n",
    "from torch.utils.data import DataLoader, TensorDataset\n",
    "from torch.utils.data import WeightedRandomSampler"
   ]
  },
  {
   "cell_type": "code",
   "execution_count": 2,
   "metadata": {},
   "outputs": [],
   "source": [
    "# load pickle files\n",
    "filepath = \"C:/Users/c25th/code/P300_BCI_Speller/data/dataloaders/\"\n",
    "date = \"2023-11-28\"\n",
    "train_filename = \"train_loader_\"+date+\".txt\"\n",
    "val_filename = \"val_loader_\"+date+\".txt\"\n",
    "test_filename = \"test_loader_\"+date+\".txt\"\n",
    "\n",
    "with open(filepath + train_filename, 'rb') as f:\n",
    "    train_loader = pickle.load(f)\n",
    "\n",
    "with open(filepath + val_filename, 'rb') as f:\n",
    "    val_loader = pickle.load(f)\n",
    "\n",
    "with open(filepath + test_filename, 'rb') as f:\n",
    "    test_loader = pickle.load(f)"
   ]
  },
  {
   "cell_type": "code",
   "execution_count": 3,
   "metadata": {},
   "outputs": [],
   "source": [
    "# initialize model\n",
    "model = EEG_Net_CNN()\n",
    "\n",
    "# loss function\n",
    "loss_fn = torch.nn.CrossEntropyLoss()\n",
    "\n",
    "# optimizer\n",
    "optimizer = torch.optim.Adam(model.parameters(), lr=1e-3)"
   ]
  },
  {
   "cell_type": "code",
   "execution_count": 5,
   "metadata": {},
   "outputs": [
    {
     "name": "stdout",
     "output_type": "stream",
     "text": [
      "Epoch 1 - Train Loss: 0.6957 - Train Accuracy: 0.4998 - Val Loss: 0.7042 - Val Accuracy: 0.4710\n",
      "Epoch 2 - Train Loss: 0.7095 - Train Accuracy: 0.5084 - Val Loss: 0.6947 - Val Accuracy: 0.5145\n",
      "Epoch 3 - Train Loss: 0.7118 - Train Accuracy: 0.4993 - Val Loss: 0.6907 - Val Accuracy: 0.5217\n",
      "Epoch 4 - Train Loss: 0.6912 - Train Accuracy: 0.5034 - Val Loss: 0.7083 - Val Accuracy: 0.4565\n",
      "Epoch 5 - Train Loss: 0.7095 - Train Accuracy: 0.5052 - Val Loss: 0.7050 - Val Accuracy: 0.4601\n",
      "Epoch 6 - Train Loss: 0.6948 - Train Accuracy: 0.5120 - Val Loss: 0.7054 - Val Accuracy: 0.4783\n",
      "Epoch 7 - Train Loss: 0.6939 - Train Accuracy: 0.4934 - Val Loss: 0.6954 - Val Accuracy: 0.5181\n",
      "Epoch 8 - Train Loss: 0.6937 - Train Accuracy: 0.5011 - Val Loss: 0.6943 - Val Accuracy: 0.5145\n",
      "Epoch 9 - Train Loss: 0.6887 - Train Accuracy: 0.5229 - Val Loss: 0.6993 - Val Accuracy: 0.4601\n",
      "Epoch 10 - Train Loss: 0.7064 - Train Accuracy: 0.5043 - Val Loss: 0.7073 - Val Accuracy: 0.4348\n",
      "Epoch 11 - Train Loss: 0.6953 - Train Accuracy: 0.5156 - Val Loss: 0.6992 - Val Accuracy: 0.4493\n",
      "Epoch 12 - Train Loss: 0.7051 - Train Accuracy: 0.5170 - Val Loss: 0.6986 - Val Accuracy: 0.4819\n",
      "Epoch 13 - Train Loss: 0.6946 - Train Accuracy: 0.5043 - Val Loss: 0.6988 - Val Accuracy: 0.4601\n",
      "Epoch 14 - Train Loss: 0.6966 - Train Accuracy: 0.5043 - Val Loss: 0.6925 - Val Accuracy: 0.5072\n",
      "Epoch 15 - Train Loss: 0.6944 - Train Accuracy: 0.5002 - Val Loss: 0.6948 - Val Accuracy: 0.5072\n",
      "Epoch 16 - Train Loss: 0.7008 - Train Accuracy: 0.5016 - Val Loss: 0.7055 - Val Accuracy: 0.4348\n",
      "Epoch 17 - Train Loss: 0.7018 - Train Accuracy: 0.4984 - Val Loss: 0.7056 - Val Accuracy: 0.4601\n",
      "Epoch 18 - Train Loss: 0.6970 - Train Accuracy: 0.4989 - Val Loss: 0.7013 - Val Accuracy: 0.4565\n",
      "Epoch 19 - Train Loss: 0.6942 - Train Accuracy: 0.5192 - Val Loss: 0.7030 - Val Accuracy: 0.4457\n",
      "Epoch 20 - Train Loss: 0.6899 - Train Accuracy: 0.5224 - Val Loss: 0.6967 - Val Accuracy: 0.5036\n",
      "Epoch 21 - Train Loss: 0.6969 - Train Accuracy: 0.5079 - Val Loss: 0.6983 - Val Accuracy: 0.4529\n",
      "Epoch 22 - Train Loss: 0.6995 - Train Accuracy: 0.5111 - Val Loss: 0.6933 - Val Accuracy: 0.5072\n",
      "Epoch 23 - Train Loss: 0.6978 - Train Accuracy: 0.4903 - Val Loss: 0.6952 - Val Accuracy: 0.5072\n",
      "Epoch 24 - Train Loss: 0.6948 - Train Accuracy: 0.5066 - Val Loss: 0.6983 - Val Accuracy: 0.4493\n",
      "Epoch 25 - Train Loss: 0.6948 - Train Accuracy: 0.5066 - Val Loss: 0.6999 - Val Accuracy: 0.4529\n",
      "Epoch 26 - Train Loss: 0.6954 - Train Accuracy: 0.5066 - Val Loss: 0.6956 - Val Accuracy: 0.4964\n",
      "Epoch 27 - Train Loss: 0.6962 - Train Accuracy: 0.5179 - Val Loss: 0.6968 - Val Accuracy: 0.4783\n",
      "Epoch 28 - Train Loss: 0.6996 - Train Accuracy: 0.5038 - Val Loss: 0.6984 - Val Accuracy: 0.4457\n",
      "Epoch 29 - Train Loss: 0.7031 - Train Accuracy: 0.5161 - Val Loss: 0.7036 - Val Accuracy: 0.4819\n",
      "Epoch 30 - Train Loss: 0.6988 - Train Accuracy: 0.5007 - Val Loss: 0.6995 - Val Accuracy: 0.4565\n",
      "Epoch 31 - Train Loss: 0.6976 - Train Accuracy: 0.5097 - Val Loss: 0.7031 - Val Accuracy: 0.4457\n",
      "Epoch 32 - Train Loss: 0.6926 - Train Accuracy: 0.5052 - Val Loss: 0.7039 - Val Accuracy: 0.4420\n",
      "Epoch 33 - Train Loss: 0.6995 - Train Accuracy: 0.5088 - Val Loss: 0.6971 - Val Accuracy: 0.4710\n",
      "Epoch 34 - Train Loss: 0.6966 - Train Accuracy: 0.5161 - Val Loss: 0.7064 - Val Accuracy: 0.4420\n",
      "Epoch 35 - Train Loss: 0.6920 - Train Accuracy: 0.4971 - Val Loss: 0.7065 - Val Accuracy: 0.4457\n",
      "Epoch 36 - Train Loss: 0.6916 - Train Accuracy: 0.5138 - Val Loss: 0.6981 - Val Accuracy: 0.5036\n",
      "Epoch 37 - Train Loss: 0.7019 - Train Accuracy: 0.5011 - Val Loss: 0.7199 - Val Accuracy: 0.4565\n",
      "Epoch 38 - Train Loss: 0.6969 - Train Accuracy: 0.5038 - Val Loss: 0.7092 - Val Accuracy: 0.4275\n",
      "Epoch 39 - Train Loss: 0.6913 - Train Accuracy: 0.5075 - Val Loss: 0.6952 - Val Accuracy: 0.5000\n",
      "Epoch 40 - Train Loss: 0.6915 - Train Accuracy: 0.5093 - Val Loss: 0.7041 - Val Accuracy: 0.4601\n",
      "Epoch 41 - Train Loss: 0.6917 - Train Accuracy: 0.5138 - Val Loss: 0.7050 - Val Accuracy: 0.4529\n",
      "Epoch 42 - Train Loss: 0.7058 - Train Accuracy: 0.5066 - Val Loss: 0.7098 - Val Accuracy: 0.4384\n",
      "Epoch 43 - Train Loss: 0.6981 - Train Accuracy: 0.5147 - Val Loss: 0.7020 - Val Accuracy: 0.4565\n",
      "Epoch 44 - Train Loss: 0.6934 - Train Accuracy: 0.5165 - Val Loss: 0.6982 - Val Accuracy: 0.4710\n",
      "Epoch 45 - Train Loss: 0.7021 - Train Accuracy: 0.5002 - Val Loss: 0.7061 - Val Accuracy: 0.4783\n",
      "Epoch 46 - Train Loss: 0.6981 - Train Accuracy: 0.5106 - Val Loss: 0.7039 - Val Accuracy: 0.4746\n",
      "Epoch 47 - Train Loss: 0.6950 - Train Accuracy: 0.5070 - Val Loss: 0.6985 - Val Accuracy: 0.4493\n",
      "Epoch 48 - Train Loss: 0.6994 - Train Accuracy: 0.5183 - Val Loss: 0.7006 - Val Accuracy: 0.4710\n",
      "Epoch 49 - Train Loss: 0.6945 - Train Accuracy: 0.5034 - Val Loss: 0.7032 - Val Accuracy: 0.4348\n",
      "Epoch 50 - Train Loss: 0.6970 - Train Accuracy: 0.5156 - Val Loss: 0.6990 - Val Accuracy: 0.4565\n",
      "Epoch 51 - Train Loss: 0.6959 - Train Accuracy: 0.4925 - Val Loss: 0.6978 - Val Accuracy: 0.4493\n",
      "Epoch 52 - Train Loss: 0.6987 - Train Accuracy: 0.5197 - Val Loss: 0.6990 - Val Accuracy: 0.4493\n",
      "Epoch 53 - Train Loss: 0.6920 - Train Accuracy: 0.5147 - Val Loss: 0.7026 - Val Accuracy: 0.4493\n",
      "Epoch 54 - Train Loss: 0.6953 - Train Accuracy: 0.5315 - Val Loss: 0.7033 - Val Accuracy: 0.4384\n",
      "Epoch 55 - Train Loss: 0.6943 - Train Accuracy: 0.5364 - Val Loss: 0.7024 - Val Accuracy: 0.4964\n",
      "Epoch 56 - Train Loss: 0.6916 - Train Accuracy: 0.4943 - Val Loss: 0.7035 - Val Accuracy: 0.4348\n",
      "Epoch 57 - Train Loss: 0.6899 - Train Accuracy: 0.5043 - Val Loss: 0.7010 - Val Accuracy: 0.4420\n",
      "Epoch 58 - Train Loss: 0.6986 - Train Accuracy: 0.4980 - Val Loss: 0.7005 - Val Accuracy: 0.4529\n",
      "Epoch 59 - Train Loss: 0.7014 - Train Accuracy: 0.4966 - Val Loss: 0.7011 - Val Accuracy: 0.4457\n",
      "Epoch 60 - Train Loss: 0.6959 - Train Accuracy: 0.5147 - Val Loss: 0.7027 - Val Accuracy: 0.4928\n",
      "Epoch 61 - Train Loss: 0.6955 - Train Accuracy: 0.5269 - Val Loss: 0.7044 - Val Accuracy: 0.4601\n",
      "Epoch 62 - Train Loss: 0.6951 - Train Accuracy: 0.5070 - Val Loss: 0.7017 - Val Accuracy: 0.4420\n",
      "Epoch 63 - Train Loss: 0.6972 - Train Accuracy: 0.5052 - Val Loss: 0.7044 - Val Accuracy: 0.4493\n",
      "Epoch 64 - Train Loss: 0.6931 - Train Accuracy: 0.5152 - Val Loss: 0.7092 - Val Accuracy: 0.4239\n",
      "Epoch 65 - Train Loss: 0.6973 - Train Accuracy: 0.5174 - Val Loss: 0.6993 - Val Accuracy: 0.5036\n",
      "Epoch 66 - Train Loss: 0.6990 - Train Accuracy: 0.5097 - Val Loss: 0.7043 - Val Accuracy: 0.4312\n",
      "Epoch 67 - Train Loss: 0.6912 - Train Accuracy: 0.5247 - Val Loss: 0.6990 - Val Accuracy: 0.4420\n",
      "Epoch 68 - Train Loss: 0.6970 - Train Accuracy: 0.5038 - Val Loss: 0.6950 - Val Accuracy: 0.5036\n",
      "Epoch 69 - Train Loss: 0.6930 - Train Accuracy: 0.5143 - Val Loss: 0.6975 - Val Accuracy: 0.5036\n",
      "Epoch 70 - Train Loss: 0.6964 - Train Accuracy: 0.5188 - Val Loss: 0.7032 - Val Accuracy: 0.4493\n",
      "Epoch 71 - Train Loss: 0.6949 - Train Accuracy: 0.5061 - Val Loss: 0.7001 - Val Accuracy: 0.4674\n",
      "Epoch 72 - Train Loss: 0.6931 - Train Accuracy: 0.4980 - Val Loss: 0.6986 - Val Accuracy: 0.4420\n",
      "Epoch 73 - Train Loss: 0.6920 - Train Accuracy: 0.5002 - Val Loss: 0.6992 - Val Accuracy: 0.4601\n",
      "Epoch 74 - Train Loss: 0.7013 - Train Accuracy: 0.5174 - Val Loss: 0.7014 - Val Accuracy: 0.4601\n",
      "Epoch 75 - Train Loss: 0.6895 - Train Accuracy: 0.5048 - Val Loss: 0.6992 - Val Accuracy: 0.4420\n",
      "Epoch 76 - Train Loss: 0.6972 - Train Accuracy: 0.5029 - Val Loss: 0.7017 - Val Accuracy: 0.4529\n",
      "Epoch 77 - Train Loss: 0.6931 - Train Accuracy: 0.5337 - Val Loss: 0.7017 - Val Accuracy: 0.4928\n",
      "Epoch 78 - Train Loss: 0.6873 - Train Accuracy: 0.5251 - Val Loss: 0.7053 - Val Accuracy: 0.4457\n",
      "Epoch 79 - Train Loss: 0.6988 - Train Accuracy: 0.5066 - Val Loss: 0.7130 - Val Accuracy: 0.4529\n",
      "Epoch 80 - Train Loss: 0.6939 - Train Accuracy: 0.5138 - Val Loss: 0.7154 - Val Accuracy: 0.4457\n",
      "Epoch 81 - Train Loss: 0.6914 - Train Accuracy: 0.4989 - Val Loss: 0.7024 - Val Accuracy: 0.4493\n",
      "Epoch 82 - Train Loss: 0.6898 - Train Accuracy: 0.5084 - Val Loss: 0.6987 - Val Accuracy: 0.4710\n",
      "Epoch 83 - Train Loss: 0.6880 - Train Accuracy: 0.5084 - Val Loss: 0.7040 - Val Accuracy: 0.4384\n",
      "Epoch 84 - Train Loss: 0.6882 - Train Accuracy: 0.5238 - Val Loss: 0.7056 - Val Accuracy: 0.4457\n",
      "Epoch 85 - Train Loss: 0.6910 - Train Accuracy: 0.5229 - Val Loss: 0.7056 - Val Accuracy: 0.4529\n",
      "Epoch 86 - Train Loss: 0.6973 - Train Accuracy: 0.4980 - Val Loss: 0.7023 - Val Accuracy: 0.4529\n",
      "Epoch 87 - Train Loss: 0.6937 - Train Accuracy: 0.5170 - Val Loss: 0.7021 - Val Accuracy: 0.4565\n",
      "Epoch 88 - Train Loss: 0.6974 - Train Accuracy: 0.5156 - Val Loss: 0.6970 - Val Accuracy: 0.5145\n",
      "Epoch 89 - Train Loss: 0.6935 - Train Accuracy: 0.5152 - Val Loss: 0.7072 - Val Accuracy: 0.4493\n",
      "Epoch 90 - Train Loss: 0.6894 - Train Accuracy: 0.5134 - Val Loss: 0.7040 - Val Accuracy: 0.4457\n",
      "Epoch 91 - Train Loss: 0.6907 - Train Accuracy: 0.5106 - Val Loss: 0.6991 - Val Accuracy: 0.4493\n",
      "Epoch 92 - Train Loss: 0.6864 - Train Accuracy: 0.5156 - Val Loss: 0.6983 - Val Accuracy: 0.4565\n"
     ]
    }
   ],
   "source": [
    "# def train_and_validate(train_dataloader, val_dataloader, model, loss_fn, optimizer, num_epochs, print_every=100):\n",
    "train_losses, val_losses, train_accuracies, val_accuracies = train(\n",
    "    train_loader, val_loader, model, loss_fn, optimizer, 100, print_every=-1)"
   ]
  },
  {
   "cell_type": "code",
   "execution_count": 6,
   "metadata": {},
   "outputs": [
    {
     "name": "stdout",
     "output_type": "stream",
     "text": [
      "Test Error: \n",
      " Accuracy: 45.7%, Avg loss: 0.691688 \n",
      "\n"
     ]
    }
   ],
   "source": [
    "print(\"Minimum Train Accuracy: \" ,min(train_accuracies))\n",
    "test(test_loader, model, loss_fn)"
   ]
  }
 ],
 "metadata": {
  "kernelspec": {
   "display_name": "Python 3",
   "language": "python",
   "name": "python3"
  },
  "language_info": {
   "codemirror_mode": {
    "name": "ipython",
    "version": 3
   },
   "file_extension": ".py",
   "mimetype": "text/x-python",
   "name": "python",
   "nbconvert_exporter": "python",
   "pygments_lexer": "ipython3",
   "version": "3.11.5"
  }
 },
 "nbformat": 4,
 "nbformat_minor": 2
}
