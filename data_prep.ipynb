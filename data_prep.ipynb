{
 "cells": [
  {
   "cell_type": "markdown",
   "metadata": {},
   "source": [
    "Code to prep the data into dataloaders to import into the model\n",
    "\n",
    "~/data/\n",
    "    handlers : [handler1, handler2, ...]\n",
    "    dataloaders : [train_loader_year-month-day, test_loader_year-month-day]"
   ]
  },
  {
   "cell_type": "code",
   "execution_count": 1,
   "metadata": {},
   "outputs": [
    {
     "name": "stdout",
     "output_type": "stream",
     "text": [
      "pygame 2.5.1 (SDL 2.28.2, Python 3.11.5)\n",
      "Hello from the pygame community. https://www.pygame.org/contribute.html\n"
     ]
    }
   ],
   "source": [
    "# Packages\n",
    "from lib.models.EEG_Net_CNN import EEG_Net_CNN\n",
    "import matplotlib.pyplot as plt\n",
    "from lib.utils import load_data, train\n",
    "from lib.Datasets import EEGDataset\n",
    "from lib.DataObject import DataObject\n",
    "import lib.DataObjectUtils as util\n",
    "import torch\n",
    "import pickle\n",
    "import torch.nn as nn\n",
    "from lib.DataHandler import DataAcquisitionHandler\n",
    "from torch.utils.data import DataLoader, TensorDataset\n",
    "from torch.utils.data import WeightedRandomSampler\n",
    "import datetime"
   ]
  },
  {
   "cell_type": "code",
   "execution_count": 3,
   "metadata": {},
   "outputs": [
    {
     "name": "stderr",
     "output_type": "stream",
     "text": [
      "c:\\Users\\c25th\\code\\P300_BCI_Speller\\lib\\DataObjectUtils.py:220: RuntimeWarning: invalid value encountered in divide\n",
      "  norm_data = (avg_final - np.min(avg_final)) / (np.max(avg_final) - np.min(avg_final))\n",
      "c:\\Users\\c25th\\AppData\\Local\\Programs\\Python\\Python311\\Lib\\site-packages\\numpy\\core\\fromnumeric.py:3504: RuntimeWarning: Mean of empty slice.\n",
      "  return _methods._mean(a, axis=axis, dtype=dtype,\n",
      "c:\\Users\\c25th\\AppData\\Local\\Programs\\Python\\Python311\\Lib\\site-packages\\numpy\\core\\_methods.py:129: RuntimeWarning: invalid value encountered in scalar divide\n",
      "  ret = ret.dtype.type(ret / rcount)\n"
     ]
    },
    {
     "ename": "ValueError",
     "evalue": "zero-size array to reduction operation minimum which has no identity",
     "output_type": "error",
     "traceback": [
      "\u001b[1;31m---------------------------------------------------------------------------\u001b[0m",
      "\u001b[1;31mValueError\u001b[0m                                Traceback (most recent call last)",
      "\u001b[1;32mc:\\Users\\c25th\\code\\P300_BCI_Speller\\data_prep.ipynb Cell 3\u001b[0m line \u001b[0;36m1\n\u001b[0;32m     <a href='vscode-notebook-cell:/c%3A/Users/c25th/code/P300_BCI_Speller/data_prep.ipynb#W2sZmlsZQ%3D%3D?line=13'>14</a>\u001b[0m \u001b[39m# Apply Filters\u001b[39;00m\n\u001b[0;32m     <a href='vscode-notebook-cell:/c%3A/Users/c25th/code/P300_BCI_Speller/data_prep.ipynb#W2sZmlsZQ%3D%3D?line=14'>15</a>\u001b[0m data\u001b[39m.\u001b[39maccept(util\u001b[39m.\u001b[39mBandpassFilterVisitor(low\u001b[39m=\u001b[39m\u001b[39m0.1\u001b[39m, high\u001b[39m=\u001b[39m\u001b[39m30\u001b[39m))\n\u001b[1;32m---> <a href='vscode-notebook-cell:/c%3A/Users/c25th/code/P300_BCI_Speller/data_prep.ipynb#W2sZmlsZQ%3D%3D?line=15'>16</a>\u001b[0m data\u001b[39m.\u001b[39;49maccept(util\u001b[39m.\u001b[39;49mCommonAveragingVisitor())\n\u001b[0;32m     <a href='vscode-notebook-cell:/c%3A/Users/c25th/code/P300_BCI_Speller/data_prep.ipynb#W2sZmlsZQ%3D%3D?line=16'>17</a>\u001b[0m data\u001b[39m.\u001b[39maccept(util\u001b[39m.\u001b[39mSmoothDataVisitor(low\u001b[39m=\u001b[39m\u001b[39m0.1\u001b[39m, high\u001b[39m=\u001b[39m\u001b[39m30\u001b[39m, n\u001b[39m=\u001b[39m\u001b[39m15\u001b[39m))\n\u001b[0;32m     <a href='vscode-notebook-cell:/c%3A/Users/c25th/code/P300_BCI_Speller/data_prep.ipynb#W2sZmlsZQ%3D%3D?line=18'>19</a>\u001b[0m \u001b[39m# Extract data\u001b[39;00m\n",
      "File \u001b[1;32mc:\\Users\\c25th\\code\\P300_BCI_Speller\\lib\\DataObject.py:32\u001b[0m, in \u001b[0;36mDataObject.accept\u001b[1;34m(self, visitor)\u001b[0m\n\u001b[0;32m     31\u001b[0m \u001b[39mdef\u001b[39;00m \u001b[39maccept\u001b[39m(\u001b[39mself\u001b[39m, visitor):\n\u001b[1;32m---> 32\u001b[0m     visitor\u001b[39m.\u001b[39;49mvisit_data_object(\u001b[39mobject\u001b[39;49m\u001b[39m=\u001b[39;49m\u001b[39mself\u001b[39;49m)\n",
      "File \u001b[1;32mc:\\Users\\c25th\\code\\P300_BCI_Speller\\lib\\DataObjectUtils.py:203\u001b[0m, in \u001b[0;36mCommonAveragingVisitor.visit_data_object\u001b[1;34m(self, object)\u001b[0m\n\u001b[0;32m    201\u001b[0m \u001b[39mdef\u001b[39;00m \u001b[39mvisit_data_object\u001b[39m(\u001b[39mself\u001b[39m, \u001b[39mobject\u001b[39m):\n\u001b[0;32m    202\u001b[0m     \u001b[39mfor\u001b[39;00m session \u001b[39min\u001b[39;00m \u001b[39mobject\u001b[39m\u001b[39m.\u001b[39mkeyboard_sessions:\n\u001b[1;32m--> 203\u001b[0m         \u001b[39mself\u001b[39;49m\u001b[39m.\u001b[39;49mvisit_session_data(session\u001b[39m=\u001b[39;49msession)\n\u001b[0;32m    205\u001b[0m     \u001b[39mfor\u001b[39;00m session \u001b[39min\u001b[39;00m \u001b[39mobject\u001b[39m\u001b[39m.\u001b[39mbox_sessions:\n\u001b[0;32m    206\u001b[0m         \u001b[39mself\u001b[39m\u001b[39m.\u001b[39mvisit_session_data(session\u001b[39m=\u001b[39msession)\n",
      "File \u001b[1;32mc:\\Users\\c25th\\code\\P300_BCI_Speller\\lib\\DataObjectUtils.py:213\u001b[0m, in \u001b[0;36mCommonAveragingVisitor.visit_session_data\u001b[1;34m(self, session)\u001b[0m\n\u001b[0;32m    210\u001b[0m \u001b[39mfor\u001b[39;00m i, channel \u001b[39min\u001b[39;00m \u001b[39menumerate\u001b[39m(session\u001b[39m.\u001b[39mdata):\n\u001b[0;32m    211\u001b[0m     \u001b[39m# Only the channels with EM data will be filtered\u001b[39;00m\n\u001b[0;32m    212\u001b[0m     \u001b[39mif\u001b[39;00m i\u001b[39m>\u001b[39m\u001b[39m1\u001b[39m \u001b[39mand\u001b[39;00m i\u001b[39m<\u001b[39m\u001b[39m9\u001b[39m:\n\u001b[1;32m--> 213\u001b[0m         data\u001b[39m.\u001b[39mappend(\u001b[39mself\u001b[39;49m\u001b[39m.\u001b[39;49mcommon_average(channel))\n\u001b[0;32m    214\u001b[0m     \u001b[39melse\u001b[39;00m:\n\u001b[0;32m    215\u001b[0m         data\u001b[39m.\u001b[39mappend(channel)\n",
      "File \u001b[1;32mc:\\Users\\c25th\\code\\P300_BCI_Speller\\lib\\DataObjectUtils.py:220\u001b[0m, in \u001b[0;36mCommonAveragingVisitor.common_average\u001b[1;34m(self, channel)\u001b[0m\n\u001b[0;32m    218\u001b[0m avg_signal \u001b[39m=\u001b[39m np\u001b[39m.\u001b[39mmean(channel, axis\u001b[39m=\u001b[39m\u001b[39m0\u001b[39m)\n\u001b[0;32m    219\u001b[0m avg_final \u001b[39m=\u001b[39m channel \u001b[39m-\u001b[39m avg_signal\n\u001b[1;32m--> 220\u001b[0m norm_data \u001b[39m=\u001b[39m (avg_final \u001b[39m-\u001b[39m np\u001b[39m.\u001b[39;49mmin(avg_final)) \u001b[39m/\u001b[39m (np\u001b[39m.\u001b[39mmax(avg_final) \u001b[39m-\u001b[39m np\u001b[39m.\u001b[39mmin(avg_final))\n\u001b[0;32m    221\u001b[0m final_data \u001b[39m=\u001b[39m np\u001b[39m.\u001b[39msqrt(norm_data)\n\u001b[0;32m    222\u001b[0m \u001b[39mreturn\u001b[39;00m final_data\n",
      "File \u001b[1;32mc:\\Users\\c25th\\AppData\\Local\\Programs\\Python\\Python311\\Lib\\site-packages\\numpy\\core\\fromnumeric.py:2953\u001b[0m, in \u001b[0;36mmin\u001b[1;34m(a, axis, out, keepdims, initial, where)\u001b[0m\n\u001b[0;32m   2836\u001b[0m \u001b[39m@array_function_dispatch\u001b[39m(_min_dispatcher)\n\u001b[0;32m   2837\u001b[0m \u001b[39mdef\u001b[39;00m \u001b[39mmin\u001b[39m(a, axis\u001b[39m=\u001b[39m\u001b[39mNone\u001b[39;00m, out\u001b[39m=\u001b[39m\u001b[39mNone\u001b[39;00m, keepdims\u001b[39m=\u001b[39mnp\u001b[39m.\u001b[39m_NoValue, initial\u001b[39m=\u001b[39mnp\u001b[39m.\u001b[39m_NoValue,\n\u001b[0;32m   2838\u001b[0m         where\u001b[39m=\u001b[39mnp\u001b[39m.\u001b[39m_NoValue):\n\u001b[0;32m   2839\u001b[0m \u001b[39m    \u001b[39m\u001b[39m\"\"\"\u001b[39;00m\n\u001b[0;32m   2840\u001b[0m \u001b[39m    Return the minimum of an array or minimum along an axis.\u001b[39;00m\n\u001b[0;32m   2841\u001b[0m \n\u001b[1;32m   (...)\u001b[0m\n\u001b[0;32m   2951\u001b[0m \u001b[39m    6\u001b[39;00m\n\u001b[0;32m   2952\u001b[0m \u001b[39m    \"\"\"\u001b[39;00m\n\u001b[1;32m-> 2953\u001b[0m     \u001b[39mreturn\u001b[39;00m _wrapreduction(a, np\u001b[39m.\u001b[39;49mminimum, \u001b[39m'\u001b[39;49m\u001b[39mmin\u001b[39;49m\u001b[39m'\u001b[39;49m, axis, \u001b[39mNone\u001b[39;49;00m, out,\n\u001b[0;32m   2954\u001b[0m                           keepdims\u001b[39m=\u001b[39;49mkeepdims, initial\u001b[39m=\u001b[39;49minitial, where\u001b[39m=\u001b[39;49mwhere)\n",
      "File \u001b[1;32mc:\\Users\\c25th\\AppData\\Local\\Programs\\Python\\Python311\\Lib\\site-packages\\numpy\\core\\fromnumeric.py:88\u001b[0m, in \u001b[0;36m_wrapreduction\u001b[1;34m(obj, ufunc, method, axis, dtype, out, **kwargs)\u001b[0m\n\u001b[0;32m     85\u001b[0m         \u001b[39melse\u001b[39;00m:\n\u001b[0;32m     86\u001b[0m             \u001b[39mreturn\u001b[39;00m reduction(axis\u001b[39m=\u001b[39maxis, out\u001b[39m=\u001b[39mout, \u001b[39m*\u001b[39m\u001b[39m*\u001b[39mpasskwargs)\n\u001b[1;32m---> 88\u001b[0m \u001b[39mreturn\u001b[39;00m ufunc\u001b[39m.\u001b[39;49mreduce(obj, axis, dtype, out, \u001b[39m*\u001b[39;49m\u001b[39m*\u001b[39;49mpasskwargs)\n",
      "\u001b[1;31mValueError\u001b[0m: zero-size array to reduction operation minimum which has no identity"
     ]
    }
   ],
   "source": [
    "# Get Data\n",
    "\n",
    "# Get list of handler objects\n",
    "dir = \"C:/Users/c25th/code/P300_BCI_Speller/data/handlers\"\n",
    "handler_list = []\n",
    "handler_list.extend(load_data(dir))\n",
    "\n",
    "# Make all Handler objects into one single DataObject\n",
    "data = DataObject(handler_list.pop(0).get_data())\n",
    "for handler in handler_list:\n",
    "    new_data_obj = DataObject(handler.get_data())\n",
    "    data.accept(util.AddDataVisitor(new_data_obj))\n",
    "\n",
    "# Apply Filters\n",
    "data.accept(util.BandpassFilterVisitor(low=0.1, high=30))\n",
    "data.accept(util.CommonAveragingVisitor())\n",
    "data.accept(util.SmoothDataVisitor(low=0.1, high=30, n=15))\n",
    "\n",
    "# Extract data\n",
    "key_data, box_data = data.get_data(decorator=util.MakeTensorWindowsDataDecorator())\n",
    "\n",
    "# Verify everything worked as expected\n",
    "sample = box_data[0]\n",
    "print(\"List of samples:\" ,len(box_data))\n",
    "print(\"Sample Len - (channels, label):\", len(box_data[0]))\n",
    "print(\"Number of Channels:\", len(box_data[0][0]))\n",
    "max_channel_len = 0\n",
    "min_channel_len = 10000000\n",
    "for sample in box_data:\n",
    "    for channel in sample[0]:\n",
    "        if len(channel) > max_channel_len:\n",
    "            max_channel_len = len(channel)\n",
    "        if len(channel) < min_channel_len:\n",
    "            min_channel_len = len(channel)\n",
    "print(\"Max Channel Len - [reading_1, ...]:\", max_channel_len)\n",
    "print(\"Min Channel Len - [reading_1, ...]:\", min_channel_len)\n",
    "print(\"Sample example:\", sample)"
   ]
  },
  {
   "cell_type": "code",
   "execution_count": 3,
   "metadata": {},
   "outputs": [
    {
     "name": "stdout",
     "output_type": "stream",
     "text": [
      "Train dataset size: 2209\n",
      "Val dataset size: 276\n",
      "Test dataset size: 277\n",
      "Train loader size: 70\n",
      "Val loader size: 9\n",
      "Test loader size: 9\n",
      "Sample data shape: 2762\n"
     ]
    },
    {
     "data": {
      "image/png": "[encoded data removed]",
      "text/plain": [
       "<Figure size 640x480 with 1 Axes>"
      ]
     },
     "metadata": {},
     "output_type": "display_data"
    }
   ],
   "source": [
    "# Prep Data\n",
    "\n",
    "# Set seed\n",
    "torch.manual_seed(0)\n",
    "\n",
    "# Make dataset\n",
    "dataset = EEGDataset(box_data)\n",
    "\n",
    "# Even out class distribution by downsampling\n",
    "dataset.downsample()\n",
    "\n",
    "# Split into train and test\n",
    "train_size = int(0.8 * len(dataset))\n",
    "val_size = int(0.1 * len(dataset))\n",
    "test_size = len(dataset) - train_size - val_size\n",
    "train_dataset, val_dataset, test_dataset = torch.utils.data.random_split(dataset, [train_size, val_size, test_size])\n",
    "\n",
    "# Create dataloaders\n",
    "batch_size = 32\n",
    "train_loader = DataLoader(train_dataset, batch_size=batch_size, shuffle=True)\n",
    "val_loader = DataLoader(val_dataset, batch_size=batch_size, shuffle=True)\n",
    "test_loader = DataLoader(test_dataset, batch_size=batch_size, shuffle=True)\n",
    "\n",
    "# Verify data is loaded correctly\n",
    "print(\"Train dataset size:\", len(train_dataset))\n",
    "print(\"Val dataset size:\", len(val_dataset))\n",
    "print(\"Test dataset size:\", len(test_dataset))\n",
    "print(\"Train loader size:\", len(train_loader))\n",
    "print(\"Val loader size:\", len(val_loader))\n",
    "print(\"Test loader size:\", len(test_loader))\n",
    "print(\"Sample data shape:\", len(dataset))\n",
    "\n",
    "# Display the class distribution for the training set\n",
    "\n",
    "# Difference between positive and negative samples for each batch\n",
    "differences = []\n",
    "\n",
    "# Analyze class distribution for each batch\n",
    "for _, labels in train_loader:\n",
    "    positive_count = (labels == 1).sum().item()\n",
    "    negative_count = (labels == 0).sum().item()\n",
    "    \n",
    "    # Compute the difference and append to the list\n",
    "    differences.append(positive_count - negative_count)\n",
    "\n",
    "# Plotting the histogram\n",
    "fig, ax = plt.subplots()\n",
    "ax.hist(differences, bins=range(min(differences), max(differences) + 2), align='left')\n",
    "ax.set_xlabel('More Negative Samples <---------------------> More Positive Samples     ')\n",
    "ax.set_ylabel('Frequency')\n",
    "ax.set_title('Frequency of Class Imbalance in Batches')\n",
    "ax.axvline(0, color='red', linewidth=1)  # Draw a vertical line at zero for reference\n",
    "\n",
    "plt.show()"
   ]
  },
  {
   "cell_type": "code",
   "execution_count": 4,
   "metadata": {},
   "outputs": [],
   "source": [
    "# Print the dataloaders to a file using pickle\n",
    "filepath = \"C:/Users/c25th/code/P300_BCI_Speller/\"\n",
    "date = datetime.datetime.now().strftime(\"%Y-%m-%d\")\n",
    "\n",
    "train_filename = \"data/dataloaders/train_loader_\"+str(date)+\".txt\"\n",
    "val_filename = \"data/dataloaders/val_loader_\"+str(date)+\".txt\"\n",
    "test_filename = \"data/dataloaders/test_loader_\"+str(date)+\".txt\"\n",
    "\n",
    "with open(train_filename, 'wb') as f:\n",
    "    pickle.dump(train_loader, f)\n",
    "\n",
    "with open(val_filename, 'wb') as f:\n",
    "    pickle.dump(val_loader, f)\n",
    "\n",
    "with open(test_filename, 'wb') as f:\n",
    "    pickle.dump(test_loader, f)"
   ]
  }
 ],
 "metadata": {
  "kernelspec": {
   "display_name": "Python 3",
   "language": "python",
   "name": "python3"
  },
  "language_info": {
   "codemirror_mode": {
    "name": "ipython",
    "version": 3
   },
   "file_extension": ".py",
   "mimetype": "text/x-python",
   "name": "python",
   "nbconvert_exporter": "python",
   "pygments_lexer": "ipython3",
   "version": "3.11.5"
  }
 },
 "nbformat": 4,
 "nbformat_minor": 2
}
