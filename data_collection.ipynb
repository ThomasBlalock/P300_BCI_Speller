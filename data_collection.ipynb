{
 "cells": [
  {
   "cell_type": "code",
   "execution_count": 1,
   "metadata": {},
   "outputs": [
    {
     "name": "stdout",
     "output_type": "stream",
     "text": [
      "pygame 2.5.1 (SDL 2.28.2, Python 3.11.5)\n",
      "Hello from the pygame community. https://www.pygame.org/contribute.html\n"
     ]
    }
   ],
   "source": [
    "from lib.DataHandler import DataAcquisitionHandler\n",
    "handler = DataAcquisitionHandler() # Only one handler can exist at a time"
   ]
  },
  {
   "cell_type": "code",
   "execution_count": 2,
   "metadata": {},
   "outputs": [
    {
     "name": "stdout",
     "output_type": "stream",
     "text": [
      "Label : False\n",
      "Label : True\n",
      "Label : True\n",
      "Label : False\n",
      "Label : True\n",
      "Label : True\n",
      "Label : True\n",
      "Label : True\n",
      "Label : True\n",
      "Label : False\n",
      "Label : True\n",
      "Label : False\n",
      "Label : False\n",
      "Label : True\n",
      "Label : True\n",
      "Label : False\n",
      "Label : True\n",
      "Label : False\n",
      "Label : False\n",
      "Label : True\n",
      "Label : False\n",
      "Label : False\n",
      "Label : True\n",
      "Label : False\n",
      "Label : False\n",
      "Label : True\n",
      "Label : True\n",
      "Label : True\n",
      "Label : True\n",
      "Label : True\n",
      "Label : False\n",
      "Label : True\n",
      "Label : True\n",
      "Label : True\n",
      "Label : True\n",
      "Label : False\n",
      "Label : True\n",
      "Label : True\n",
      "Label : True\n",
      "Label : False\n",
      "Label : True\n",
      "Label : True\n",
      "Label : False\n",
      "Label : False\n",
      "Label : False\n",
      "Label : False\n",
      "Label : False\n",
      "Label : True\n",
      "Label : False\n",
      "Label : False\n",
      "Label : False\n",
      "Label : False\n",
      "Label : False\n",
      "Label : True\n",
      "Label : True\n",
      "Label : False\n",
      "Label : False\n",
      "Label : True\n",
      "Label : False\n",
      "Label : False\n",
      "Label : False\n",
      "Label : False\n",
      "Label : True\n",
      "Label : False\n",
      "Label : True\n",
      "Label : False\n",
      "Label : False\n",
      "Label : False\n",
      "Label : False\n",
      "Label : False\n",
      "Label : False\n",
      "Label : True\n",
      "Label : False\n",
      "Label : False\n",
      "Label : False\n",
      "Label : False\n",
      "Label : True\n",
      "Label : False\n",
      "Label : True\n",
      "Label : True\n",
      "Label : False\n",
      "Label : True\n",
      "Label : True\n"
     ]
    }
   ],
   "source": [
    "# Collect box data\n",
    "# 15 min ~= 270 samples\n",
    "\n",
    "# TODO: Make the keyboard collection script tell you randomly what letter to look at\n",
    "# TODO: Get a haircut\n",
    "\n",
    "time = \"Time: 2245 - 2250/n\"\n",
    "sleep = \"Sleep last night: 6.5 hours/n\"\n",
    "location = \"Location: College dorm room/n\"\n",
    "score = \"Conducive environment to collect data (1/10): 10/n\"\n",
    "conditions = \"Conditions: Pitch black room.. ~13 in monitor displaying GUI. Fullscreen/n\"\n",
    "sound = \"Quiet and wearing earplugs/n\"\n",
    "verification = \"Impedence verified visually on OpenBCI GUI/n\"\n",
    "\n",
    "message = time + sleep + location + conditions + score + verification + sound\n",
    "\n",
    "handler.run_data_trial_box(box_size = \"full\", description=message)"
   ]
  },
  {
   "cell_type": "code",
   "execution_count": 3,
   "metadata": {},
   "outputs": [],
   "source": [
    "import pickle\n",
    "filename = \"C:/Users/c25th/code/P300_BCI_Speller/data/box_data/handler_box_data_full_Oct_30_2023.pkl\"\n",
    "with open(filename, 'wb') as f:\n",
    "            pickle.dump(handler, f)"
   ]
  },
  {
   "cell_type": "code",
   "execution_count": 22,
   "metadata": {},
   "outputs": [
    {
     "name": "stdout",
     "output_type": "stream",
     "text": [
      "271\n"
     ]
    }
   ],
   "source": [
    "data = handler.get_data()\n",
    "print(len(data['box_data'][0]['metadata']['trials']))"
   ]
  }
 ],
 "metadata": {
  "kernelspec": {
   "display_name": "Python 3",
   "language": "python",
   "name": "python3"
  },
  "language_info": {
   "codemirror_mode": {
    "name": "ipython",
    "version": 3
   },
   "file_extension": ".py",
   "mimetype": "text/x-python",
   "name": "python",
   "nbconvert_exporter": "python",
   "pygments_lexer": "ipython3",
   "version": "3.11.5"
  },
  "orig_nbformat": 4
 },
 "nbformat": 4,
 "nbformat_minor": 2
}
