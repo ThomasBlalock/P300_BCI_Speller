{
 "cells": [
  {
   "cell_type": "markdown",
   "metadata": {},
   "source": [
    "# File to experiment with different machine learning models."
   ]
  },
  {
   "cell_type": "code",
   "execution_count": 1,
   "metadata": {},
   "outputs": [
    {
     "name": "stdout",
     "output_type": "stream",
     "text": [
      "pygame 2.5.1 (SDL 2.28.2, Python 3.11.5)\n",
      "Hello from the pygame community. https://www.pygame.org/contribute.html\n"
     ]
    }
   ],
   "source": [
    "from lib.DataObject import DataObject\n",
    "import lib.DataObjectUtils as util\n",
    "import torch\n",
    "import pickle\n",
    "import torch.nn as nn\n",
    "from lib.DataHandler import DataAcquisitionHandler\n",
    "from torch.utils.data import DataLoader, TensorDataset"
   ]
  },
  {
   "cell_type": "code",
   "execution_count": 2,
   "metadata": {},
   "outputs": [],
   "source": [
    "# load data from data/* using pickle\n",
    "filename = 'data/handler_box_data_full_Oct_30_2023.pkl'\n",
    "with open(filename, 'rb') as f:\n",
    "    handler = pickle.load(f)"
   ]
  },
  {
   "cell_type": "code",
   "execution_count": 6,
   "metadata": {},
   "outputs": [
    {
     "name": "stdout",
     "output_type": "stream",
     "text": [
      "List of samples: 83\n",
      "Sample - (channels, label): 2\n",
      "Channels: 24\n",
      "channel - [reading_1, ...] 248\n",
      "Sample example: (tensor([[8.8000e+01, 8.9000e+01, 9.0000e+01,  ..., 7.7000e+01, 7.8000e+01,\n",
      "         7.9000e+01],\n",
      "        [4.4984e+03, 4.1819e+03, 4.4068e+03,  ..., 4.6585e+03, 4.6550e+03,\n",
      "         4.1807e+03],\n",
      "        [2.4223e+03, 2.4339e+03, 2.4448e+03,  ..., 2.3917e+03, 2.3875e+03,\n",
      "         2.3846e+03],\n",
      "        ...,\n",
      "        [0.0000e+00, 0.0000e+00, 0.0000e+00,  ..., 0.0000e+00, 0.0000e+00,\n",
      "         0.0000e+00],\n",
      "        [1.6987e+09, 1.6987e+09, 1.6987e+09,  ..., 1.6987e+09, 1.6987e+09,\n",
      "         1.6987e+09],\n",
      "        [0.0000e+00, 0.0000e+00, 0.0000e+00,  ..., 0.0000e+00, 0.0000e+00,\n",
      "         0.0000e+00]]), tensor(0))\n"
     ]
    }
   ],
   "source": [
    "# Data filter visitor test\n",
    "\n",
    "data = DataObject(handler.get_data())\n",
    "\n",
    "data.accept(util.BandpassFilterVisitor(low=0.1, high=10))\n",
    "data.accept(util.BandstopFilterVisitor(low=49, high=51))\n",
    "\n",
    "key_data, box_data = data.get_data(decorator=util.MakeTensorWindowsDataDecorator())\n",
    "\n",
    "sample = box_data[0]\n",
    "\n",
    "print(\"List of samples:\" ,len(box_data))\n",
    "print(\"Sample - (channels, label):\", len(box_data[0]))\n",
    "print(\"Channels:\", len(box_data[0][0]))\n",
    "print(\"channel - [reading_1, ...]:\", len(box_data[0][0][0]))\n",
    "print(\"Sample example:\", sample)"
   ]
  },
  {
   "cell_type": "code",
   "execution_count": 7,
   "metadata": {},
   "outputs": [],
   "source": [
    "# Dataset\n",
    "\n",
    "class EEGDataset(torch.utils.data.Dataset):\n",
    "\n",
    "    def __init__(self, data):\n",
    "        self.data, self.labels = self.parse_data(data)\n",
    "        self.window_size = self.data.shape[2]\n",
    "\n",
    "    def __len__(self):\n",
    "        return len(self.data)\n",
    "\n",
    "    def __getitem__(self, index):\n",
    "        return self.data[index], self.labels[index]\n",
    "    \n",
    "    def parse_data(self, data):\n",
    "        \"\"\"\n",
    "        Data comes in the form of a list of tuples (data, label)\n",
    "        data is a 2D tensor (channels, readings)\n",
    "        label is a 1D tensor (1)\n",
    "\n",
    "        return:\n",
    "        data: 3D tensor (samples, channels, readings)\n",
    "        label: 1D tensor (samples)\n",
    "        \"\"\"\n",
    "\n",
    "        data_list = []\n",
    "        label_list = []\n",
    "\n",
    "        for sample in data:\n",
    "            data_list.append(sample[0])\n",
    "            label_list.append(sample[1])\n",
    "\n",
    "        return torch.stack(data_list), torch.stack(label_list)"
   ]
  },
  {
   "cell_type": "code",
   "execution_count": 8,
   "metadata": {},
   "outputs": [
    {
     "ename": "RuntimeError",
     "evalue": "stack expects each tensor to be equal size, but got [24, 248] at entry 0 and [24, 249] at entry 10",
     "output_type": "error",
     "traceback": [
      "\u001b[1;31m---------------------------------------------------------------------------\u001b[0m",
      "\u001b[1;31mRuntimeError\u001b[0m                              Traceback (most recent call last)",
      "\u001b[1;32mc:\\Users\\c25th\\code\\P300_BCI_Speller\\experiments\\model.ipynb Cell 6\u001b[0m line \u001b[0;36m3\n\u001b[0;32m      <a href='vscode-notebook-cell:/c%3A/Users/c25th/code/P300_BCI_Speller/experiments/model.ipynb#X10sZmlsZQ%3D%3D?line=0'>1</a>\u001b[0m \u001b[39m# Data loader\u001b[39;00m\n\u001b[1;32m----> <a href='vscode-notebook-cell:/c%3A/Users/c25th/code/P300_BCI_Speller/experiments/model.ipynb#X10sZmlsZQ%3D%3D?line=2'>3</a>\u001b[0m dataset \u001b[39m=\u001b[39m EEGDataset(box_data)\n\u001b[0;32m      <a href='vscode-notebook-cell:/c%3A/Users/c25th/code/P300_BCI_Speller/experiments/model.ipynb#X10sZmlsZQ%3D%3D?line=3'>4</a>\u001b[0m train_size \u001b[39m=\u001b[39m \u001b[39mint\u001b[39m(\u001b[39m0.8\u001b[39m \u001b[39m*\u001b[39m \u001b[39mlen\u001b[39m(dataset))\n\u001b[0;32m      <a href='vscode-notebook-cell:/c%3A/Users/c25th/code/P300_BCI_Speller/experiments/model.ipynb#X10sZmlsZQ%3D%3D?line=4'>5</a>\u001b[0m test_size \u001b[39m=\u001b[39m \u001b[39mlen\u001b[39m(dataset) \u001b[39m-\u001b[39m train_size\n",
      "\u001b[1;32mc:\\Users\\c25th\\code\\P300_BCI_Speller\\experiments\\model.ipynb Cell 6\u001b[0m line \u001b[0;36m6\n\u001b[0;32m      <a href='vscode-notebook-cell:/c%3A/Users/c25th/code/P300_BCI_Speller/experiments/model.ipynb#X10sZmlsZQ%3D%3D?line=4'>5</a>\u001b[0m \u001b[39mdef\u001b[39;00m \u001b[39m__init__\u001b[39m(\u001b[39mself\u001b[39m, data):\n\u001b[1;32m----> <a href='vscode-notebook-cell:/c%3A/Users/c25th/code/P300_BCI_Speller/experiments/model.ipynb#X10sZmlsZQ%3D%3D?line=5'>6</a>\u001b[0m     \u001b[39mself\u001b[39m\u001b[39m.\u001b[39mdata, \u001b[39mself\u001b[39m\u001b[39m.\u001b[39mlabels \u001b[39m=\u001b[39m \u001b[39mself\u001b[39;49m\u001b[39m.\u001b[39;49mparse_data(data)\n\u001b[0;32m      <a href='vscode-notebook-cell:/c%3A/Users/c25th/code/P300_BCI_Speller/experiments/model.ipynb#X10sZmlsZQ%3D%3D?line=6'>7</a>\u001b[0m     \u001b[39mself\u001b[39m\u001b[39m.\u001b[39mwindow_size \u001b[39m=\u001b[39m \u001b[39mself\u001b[39m\u001b[39m.\u001b[39mdata\u001b[39m.\u001b[39mshape[\u001b[39m2\u001b[39m]\n",
      "\u001b[1;32mc:\\Users\\c25th\\code\\P300_BCI_Speller\\experiments\\model.ipynb Cell 6\u001b[0m line \u001b[0;36m3\n\u001b[0;32m     <a href='vscode-notebook-cell:/c%3A/Users/c25th/code/P300_BCI_Speller/experiments/model.ipynb#X10sZmlsZQ%3D%3D?line=29'>30</a>\u001b[0m     data_list\u001b[39m.\u001b[39mappend(sample[\u001b[39m0\u001b[39m])\n\u001b[0;32m     <a href='vscode-notebook-cell:/c%3A/Users/c25th/code/P300_BCI_Speller/experiments/model.ipynb#X10sZmlsZQ%3D%3D?line=30'>31</a>\u001b[0m     label_list\u001b[39m.\u001b[39mappend(sample[\u001b[39m1\u001b[39m])\n\u001b[1;32m---> <a href='vscode-notebook-cell:/c%3A/Users/c25th/code/P300_BCI_Speller/experiments/model.ipynb#X10sZmlsZQ%3D%3D?line=32'>33</a>\u001b[0m \u001b[39mreturn\u001b[39;00m torch\u001b[39m.\u001b[39;49mstack(data_list), torch\u001b[39m.\u001b[39mstack(label_list)\n",
      "\u001b[1;31mRuntimeError\u001b[0m: stack expects each tensor to be equal size, but got [24, 248] at entry 0 and [24, 249] at entry 10"
     ]
    }
   ],
   "source": [
    "# Data loader\n",
    "\n",
    "dataset = EEGDataset(box_data)\n",
    "train_size = int(0.8 * len(dataset))\n",
    "test_size = len(dataset) - train_size\n",
    "train_dataset, test_dataset = torch.utils.data.random_split(dataset, [train_size, test_size])\n",
    "\n",
    "train_loader = DataLoader(train_dataset, batch_size=32, shuffle=True)\n",
    "test_loader = DataLoader(test_dataset, batch_size=32, shuffle=True)\n",
    "\n",
    "print(dataset.window_size)"
   ]
  },
  {
   "cell_type": "code",
   "execution_count": 1,
   "metadata": {},
   "outputs": [
    {
     "ename": "NameError",
     "evalue": "name 'torch' is not defined",
     "output_type": "error",
     "traceback": [
      "\u001b[1;31m---------------------------------------------------------------------------\u001b[0m",
      "\u001b[1;31mNameError\u001b[0m                                 Traceback (most recent call last)",
      "\u001b[1;32mc:\\Users\\c25th\\code\\P300_BCI_Speller\\experiments\\model.ipynb Cell 3\u001b[0m line \u001b[0;36m2\n\u001b[0;32m      <a href='vscode-notebook-cell:/c%3A/Users/c25th/code/P300_BCI_Speller/experiments/model.ipynb#W3sZmlsZQ%3D%3D?line=0'>1</a>\u001b[0m \u001b[39m# create p300Model\u001b[39;00m\n\u001b[1;32m----> <a href='vscode-notebook-cell:/c%3A/Users/c25th/code/P300_BCI_Speller/experiments/model.ipynb#W3sZmlsZQ%3D%3D?line=1'>2</a>\u001b[0m \u001b[39mclass\u001b[39;00m \u001b[39mEEGNet\u001b[39;00m(torch\u001b[39m.\u001b[39mnn\u001b[39m.\u001b[39mModule):\n\u001b[0;32m      <a href='vscode-notebook-cell:/c%3A/Users/c25th/code/P300_BCI_Speller/experiments/model.ipynb#W3sZmlsZQ%3D%3D?line=2'>3</a>\u001b[0m \u001b[39m    \u001b[39m\u001b[39m\"\"\"\u001b[39;00m\n\u001b[0;32m      <a href='vscode-notebook-cell:/c%3A/Users/c25th/code/P300_BCI_Speller/experiments/model.ipynb#W3sZmlsZQ%3D%3D?line=3'>4</a>\u001b[0m \u001b[39m    Pytorch implementation of EEGNet\u001b[39;00m\n\u001b[0;32m      <a href='vscode-notebook-cell:/c%3A/Users/c25th/code/P300_BCI_Speller/experiments/model.ipynb#W3sZmlsZQ%3D%3D?line=4'>5</a>\u001b[0m \u001b[39m    \"\"\"\u001b[39;00m\n\u001b[0;32m      <a href='vscode-notebook-cell:/c%3A/Users/c25th/code/P300_BCI_Speller/experiments/model.ipynb#W3sZmlsZQ%3D%3D?line=6'>7</a>\u001b[0m     \u001b[39mdef\u001b[39;00m \u001b[39m__init__\u001b[39m(\u001b[39mself\u001b[39m):\n",
      "\u001b[1;31mNameError\u001b[0m: name 'torch' is not defined"
     ]
    }
   ],
   "source": [
    "# create p300Model\n",
    "class EEGNet(torch.nn.Module):\n",
    "    \"\"\"\n",
    "    Pytorch implementation of EEGNet\n",
    "\n",
    "    Expecting input of shape (batch_size, channels, readings)\n",
    "    batch_size: number of samples in a batch\n",
    "    channels: number of channels in a sample (8)\n",
    "    readings: number of readings in a channel (len())\n",
    "    \"\"\"\n",
    "\n",
    "    def __init__(self):\n",
    "        super(EEGNet, self).__init__()\n",
    "\n",
    "        # block 1 nn.sequential\n",
    "        self.block1 = torch.nn.Sequential(\n",
    "            # Conv2D\n",
    "            nn.Conv2d(1, 16, (1, 51), padding=0, bias=False),\n",
    "            \n",
    "            # Batch norm\n",
    "            nn.BatchNorm2d(16, eps=1e-05, momentum=0.1, affine=True, track_running_stats=True),\n",
    "\n",
    "            # DepthwiseConv2D\n",
    "            nn.Conv2d(16, 32, (2, 1), groups=16, bias=False),\n",
    "\n",
    "            # Batch norm\n",
    "            nn.BatchNorm2d(32, eps=1e-05, momentum=0.1, affine=True, track_running_stats=True),\n",
    "\n",
    "            # ELU Activation\n",
    "            nn.ELU(alpha=1.0),\n",
    "\n",
    "            # Avg Pooling 2D\n",
    "            nn.AvgPool2d(kernel_size=(1, 4), stride=(1, 4), padding=0),\n",
    "\n",
    "            # Spacial Dropout 2D\n",
    "            nn.Dropout2d(p=0.15)\n",
    "        )\n",
    "\n",
    "        # block 2 nn.sequential\n",
    "        self.block2 = torch.nn.Sequential(\n",
    "            # Separable Conv2D\n",
    "            nn.Conv2d(32, 32, (1, 15), padding=0, bias=False),\n",
    "\n",
    "            # Batch norm\n",
    "            nn.BatchNorm2d(32, eps=1e-05, momentum=0.1, affine=True, track_running_stats=True),\n",
    "\n",
    "            # ELU Activation\n",
    "            nn.ELU(alpha=1.0),\n",
    "\n",
    "            # Avg Pooling 2D\n",
    "            nn.AvgPool2d(kernel_size=(1, 8), stride=(1, 8), padding=0),\n",
    "\n",
    "            # Spacial Dropout 2D\n",
    "            nn.Dropout2d(p=0.15)\n",
    "        )\n",
    "\n",
    "        # Fully Connected Layer\n",
    "        self.fc = nn.Linear(in_features=736, out_features=2, bias=True)\n",
    "\n",
    "    def forward(self, x):\n",
    "        # block 1\n",
    "        x = self.block1(x)\n",
    "\n",
    "        # block 2\n",
    "        x = self.block2(x)\n",
    "\n",
    "        # flatten\n",
    "        x = x.view(x.shape[0], -1)\n",
    "\n",
    "        # fc\n",
    "        x = self.fc(x)\n",
    "\n",
    "        return x"
   ]
  }
 ],
 "metadata": {
  "kernelspec": {
   "display_name": "Python 3",
   "language": "python",
   "name": "python3"
  },
  "language_info": {
   "codemirror_mode": {
    "name": "ipython",
    "version": 3
   },
   "file_extension": ".py",
   "mimetype": "text/x-python",
   "name": "python",
   "nbconvert_exporter": "python",
   "pygments_lexer": "ipython3",
   "version": "3.11.5"
  }
 },
 "nbformat": 4,
 "nbformat_minor": 2
}
