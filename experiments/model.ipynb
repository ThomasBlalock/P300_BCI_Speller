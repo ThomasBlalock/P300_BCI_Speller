{
 "cells": [
  {
   "cell_type": "markdown",
   "metadata": {},
   "source": [
    "# File to experiment with different machine learning models."
   ]
  },
  {
   "cell_type": "code",
   "execution_count": 1,
   "metadata": {},
   "outputs": [
    {
     "name": "stdout",
     "output_type": "stream",
     "text": [
      "pygame 2.5.1 (SDL 2.28.2, Python 3.11.5)\n",
      "Hello from the pygame community. https://www.pygame.org/contribute.html\n"
     ]
    }
   ],
   "source": [
    "from lib.DataObject import DataObject\n",
    "import lib.DataObjectUtils as util\n",
    "import torch\n",
    "import pickle\n",
    "import torch.nn as nn\n",
    "from lib.DataHandler import DataAcquisitionHandler"
   ]
  },
  {
   "cell_type": "code",
   "execution_count": 6,
   "metadata": {},
   "outputs": [],
   "source": [
    "# load data from data/* using pickle\n",
    "filename = 'data/handler_box_data_full_Oct_30_2023.pkl'\n",
    "with open(filename, 'rb') as f:\n",
    "    handler = pickle.load(f)"
   ]
  },
  {
   "cell_type": "code",
   "execution_count": null,
   "metadata": {},
   "outputs": [],
   "source": [
    "# Data filter visitor test\n",
    "\n",
    "data = DataObject(handler.get_data())\n",
    "\n",
    "data.accept(util.BandpassFilterVisitor(low=0.1, high=10))\n",
    "data.accept(util.BandstopFilterVisitor(low=49, high=51))\n",
    "\n",
    "formatted_data = data.get_data(decorator=util.MakeTensorWindowsDataDecorator())\n",
    "\n",
    "print(formatted_data[0].shape)\n",
    "print(len(formatted_data[1]))\n",
    "print(len(formatted_data[1][0]))\n",
    "print(len(formatted_data[1][0][0]))\n",
    "print(len(formatted_data[1][0][0][0]))\n",
    "print(len(formatted_data[1][2][0][0]))\n",
    "print(formatted_data)"
   ]
  },
  {
   "cell_type": "code",
   "execution_count": 1,
   "metadata": {},
   "outputs": [
    {
     "ename": "NameError",
     "evalue": "name 'torch' is not defined",
     "output_type": "error",
     "traceback": [
      "\u001b[1;31m---------------------------------------------------------------------------\u001b[0m",
      "\u001b[1;31mNameError\u001b[0m                                 Traceback (most recent call last)",
      "\u001b[1;32mc:\\Users\\c25th\\code\\P300_BCI_Speller\\experiments\\model.ipynb Cell 3\u001b[0m line \u001b[0;36m2\n\u001b[0;32m      <a href='vscode-notebook-cell:/c%3A/Users/c25th/code/P300_BCI_Speller/experiments/model.ipynb#W3sZmlsZQ%3D%3D?line=0'>1</a>\u001b[0m \u001b[39m# create p300Model\u001b[39;00m\n\u001b[1;32m----> <a href='vscode-notebook-cell:/c%3A/Users/c25th/code/P300_BCI_Speller/experiments/model.ipynb#W3sZmlsZQ%3D%3D?line=1'>2</a>\u001b[0m \u001b[39mclass\u001b[39;00m \u001b[39mEEGNet\u001b[39;00m(torch\u001b[39m.\u001b[39mnn\u001b[39m.\u001b[39mModule):\n\u001b[0;32m      <a href='vscode-notebook-cell:/c%3A/Users/c25th/code/P300_BCI_Speller/experiments/model.ipynb#W3sZmlsZQ%3D%3D?line=2'>3</a>\u001b[0m \u001b[39m    \u001b[39m\u001b[39m\"\"\"\u001b[39;00m\n\u001b[0;32m      <a href='vscode-notebook-cell:/c%3A/Users/c25th/code/P300_BCI_Speller/experiments/model.ipynb#W3sZmlsZQ%3D%3D?line=3'>4</a>\u001b[0m \u001b[39m    Pytorch implementation of EEGNet\u001b[39;00m\n\u001b[0;32m      <a href='vscode-notebook-cell:/c%3A/Users/c25th/code/P300_BCI_Speller/experiments/model.ipynb#W3sZmlsZQ%3D%3D?line=4'>5</a>\u001b[0m \u001b[39m    \"\"\"\u001b[39;00m\n\u001b[0;32m      <a href='vscode-notebook-cell:/c%3A/Users/c25th/code/P300_BCI_Speller/experiments/model.ipynb#W3sZmlsZQ%3D%3D?line=6'>7</a>\u001b[0m     \u001b[39mdef\u001b[39;00m \u001b[39m__init__\u001b[39m(\u001b[39mself\u001b[39m):\n",
      "\u001b[1;31mNameError\u001b[0m: name 'torch' is not defined"
     ]
    }
   ],
   "source": [
    "# create p300Model\n",
    "class EEGNet(torch.nn.Module):\n",
    "    \"\"\"\n",
    "    Pytorch implementation of EEGNet\n",
    "    \"\"\"\n",
    "\n",
    "    def __init__(self):\n",
    "        super(EEGNet, self).__init__()\n",
    "\n",
    "        # block 1 nn.sequential\n",
    "        self.block1 = torch.nn.Sequential(\n",
    "            # Conv2D\n",
    "            nn.Conv2d(1, 16, (1, 51), padding=0, bias=False),\n",
    "            \n",
    "            # Batch norm\n",
    "            nn.BatchNorm2d(16, eps=1e-05, momentum=0.1, affine=True, track_running_stats=True),\n",
    "\n",
    "            # DepthwiseConv2D\n",
    "            nn.Conv2d(16, 32, (2, 1), groups=16, bias=False),\n",
    "\n",
    "            # Batch norm\n",
    "            nn.BatchNorm2d(32, eps=1e-05, momentum=0.1, affine=True, track_running_stats=True),\n",
    "\n",
    "            # ELU Activation\n",
    "            nn.ELU(alpha=1.0),\n",
    "\n",
    "            # Avg Pooling 2D\n",
    "            nn.AvgPool2d(kernel_size=(1, 4), stride=(1, 4), padding=0),\n",
    "\n",
    "            # Spacial Dropout 2D\n",
    "            nn.Dropout2d(p=0.15)\n",
    "        )\n",
    "\n",
    "        # block 2 nn.sequential\n",
    "        self.block2 = torch.nn.Sequential(\n",
    "            # Separable Conv2D\n",
    "            nn.Conv2d(32, 32, (1, 15), padding=0, bias=False),\n",
    "\n",
    "            # Batch norm\n",
    "            nn.BatchNorm2d(32, eps=1e-05, momentum=0.1, affine=True, track_running_stats=True),\n",
    "\n",
    "            # ELU Activation\n",
    "            nn.ELU(alpha=1.0),\n",
    "\n",
    "            # Avg Pooling 2D\n",
    "            nn.AvgPool2d(kernel_size=(1, 8), stride=(1, 8), padding=0),\n",
    "\n",
    "            # Spacial Dropout 2D\n",
    "            nn.Dropout2d(p=0.15)\n",
    "        )\n",
    "\n",
    "        # Fully Connected Layer\n",
    "        self.fc = nn.Linear(in_features=736, out_features=2, bias=True)\n",
    "\n",
    "    def forward(self, x):\n",
    "        # block 1\n",
    "        x = self.block1(x)\n",
    "\n",
    "        # block 2\n",
    "        x = self.block2(x)\n",
    "\n",
    "        # flatten\n",
    "        x = x.view(x.shape[0], -1)\n",
    "\n",
    "        # fc\n",
    "        x = self.fc(x)\n",
    "\n",
    "        return x"
   ]
  }
 ],
 "metadata": {
  "kernelspec": {
   "display_name": "Python 3",
   "language": "python",
   "name": "python3"
  },
  "language_info": {
   "codemirror_mode": {
    "name": "ipython",
    "version": 3
   },
   "file_extension": ".py",
   "mimetype": "text/x-python",
   "name": "python",
   "nbconvert_exporter": "python",
   "pygments_lexer": "ipython3",
   "version": "3.11.5"
  }
 },
 "nbformat": 4,
 "nbformat_minor": 2
}
