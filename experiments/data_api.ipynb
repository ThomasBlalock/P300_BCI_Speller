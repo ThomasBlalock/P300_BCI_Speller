{
 "cells": [
  {
   "cell_type": "code",
   "execution_count": 15,
   "metadata": {},
   "outputs": [
    {
     "name": "stdout",
     "output_type": "stream",
     "text": [
      "Going\n"
     ]
    },
    {
     "name": "stderr",
     "output_type": "stream",
     "text": [
      "usage: ipykernel_launcher.py [-h] [--serial-port SERIAL_PORT]\n",
      "                             [--board-id BOARD_ID]\n",
      "ipykernel_launcher.py: error: unrecognized arguments: --ip=127.0.0.1 --stdin=9003 --control=9001 --hb=9000 --Session.signature_scheme=\"hmac-sha256\" --Session.key=b\"f81c7a99-e397-479f-9337-ea2995212496\" --shell=9002 --transport=\"tcp\" --iopub=9004 --f=c:\\Users\\c25th\\AppData\\Roaming\\jupyter\\runtime\\kernel-v2-7360jEvBqJkElKaC.json\n"
     ]
    },
    {
     "ename": "SystemExit",
     "evalue": "2",
     "output_type": "error",
     "traceback": [
      "An exception has occurred, use %tb to see the full traceback.\n",
      "\u001b[1;31mSystemExit\u001b[0m\u001b[1;31m:\u001b[0m 2\n"
     ]
    },
    {
     "name": "stderr",
     "output_type": "stream",
     "text": [
      "C:\\Users\\c25th\\AppData\\Roaming\\Python\\Python311\\site-packages\\IPython\\core\\interactiveshell.py:3534: UserWarning: To exit: use 'exit', 'quit', or Ctrl-D.\n",
      "  warn(\"To exit: use 'exit', 'quit', or Ctrl-D.\", stacklevel=1)\n"
     ]
    }
   ],
   "source": [
    "print(\"Going\")\n",
    "\n",
    "import argparse\n",
    "import time\n",
    "\n",
    "from brainflow.board_shim import BoardShim, BrainFlowInputParams, BoardIds\n",
    "\n",
    "def get_data():\n",
    "    BoardShim.enable_dev_board_logger()\n",
    "\n",
    "    parser = argparse.ArgumentParser()\n",
    "\n",
    "    # Set serial port for Cyton \n",
    "    fake_port = 'HID\\\\WCOM4840&COL03\\\\5&37DF5246&0&0002' \n",
    "    parser.add_argument('--serial-port', type=str, default=fake_port) \n",
    "\n",
    "    parser.add_argument('--board-id', type=int, default=BoardIds.CYTON_BOARD)\n",
    "    args = parser.parse_args()\n",
    "\n",
    "    params = BrainFlowInputParams()\n",
    "    params.serial_port = args.serial_port\n",
    "\n",
    "    board = BoardShim(args.board_id, params)\n",
    "    board.prepare_session()\n",
    "\n",
    "    board.start_stream ()\n",
    "    time.sleep(10)\n",
    "    # data = board.get_current_board_data (256) # get latest 256 packages or less, doesnt remove them from internal buffer\n",
    "    data = board.get_board_data()  # get all data and remove it from internal buffer\n",
    "    board.stop_stream()\n",
    "    board.release_session()\n",
    "\n",
    "    return data\n",
    "data = get_data()\n",
    "print(data)\n",
    "print(\"Done\")\n"
   ]
  },
  {
   "cell_type": "code",
   "execution_count": 18,
   "metadata": {},
   "outputs": [
    {
     "ename": "ImportError",
     "evalue": "cannot import name 'CYTON_BOARD' from 'brainflow.board_shim' (c:\\Users\\c25th\\AppData\\Local\\Programs\\Python\\Python311\\Lib\\site-packages\\brainflow\\board_shim.py)",
     "output_type": "error",
     "traceback": [
      "\u001b[1;31m---------------------------------------------------------------------------\u001b[0m",
      "\u001b[1;31mImportError\u001b[0m                               Traceback (most recent call last)",
      "Cell \u001b[1;32mIn[18], line 1\u001b[0m\n\u001b[1;32m----> 1\u001b[0m \u001b[39mfrom\u001b[39;00m \u001b[39mbrainflow\u001b[39;00m\u001b[39m.\u001b[39;00m\u001b[39mboard_shim\u001b[39;00m \u001b[39mimport\u001b[39;00m BoardShim, BrainFlowInputParams, CYTON_BOARD\n\u001b[0;32m      2\u001b[0m \u001b[39mprint\u001b[39m(\u001b[39m\"\u001b[39m\u001b[39mDone with imports\u001b[39m\u001b[39m\"\u001b[39m)\n\u001b[0;32m      4\u001b[0m params \u001b[39m=\u001b[39m BrainFlowInputParams()\n",
      "\u001b[1;31mImportError\u001b[0m: cannot import name 'CYTON_BOARD' from 'brainflow.board_shim' (c:\\Users\\c25th\\AppData\\Local\\Programs\\Python\\Python311\\Lib\\site-packages\\brainflow\\board_shim.py)"
     ]
    }
   ],
   "source": [
    "\n",
    "from brainflow.board_shim import BoardShim, BrainFlowInputParams, CYTON_BOARD\n",
    "print(\"Done with imports\")\n",
    "\n",
    "params = BrainFlowInputParams()\n",
    "params.serial_port = 'HID\\\\WCOM4840&COL03\\\\5&37DF5246&0&0002'  # replace with your serial port\n",
    "board = BoardShim(CYTON_BOARD, params)\n",
    "board.prepare_session()\n",
    "i = 0\n",
    "\n",
    "print(\"Starting\")\n",
    "\n",
    "while i<10:\n",
    "    data = board.get_board_data() # get latest data\n",
    "    # process data\n",
    "    print(data)\n",
    "    i+=1\n",
    "\n",
    "board.release_session()"
   ]
  },
  {
   "cell_type": "code",
   "execution_count": 2,
   "metadata": {},
   "outputs": [
    {
     "name": "stdout",
     "output_type": "stream",
     "text": [
      "[[ 0.00000000e+00  1.00000000e+00  2.00000000e+00 ...  1.63000000e+02\n",
      "   1.64000000e+02  1.65000000e+02]\n",
      " [-1.79064385e+05 -1.79063423e+05 -1.79061769e+05 ... -1.78818024e+05\n",
      "  -1.78821533e+05 -1.78822516e+05]\n",
      " [-1.87500022e+05 -1.87500022e+05 -1.87500022e+05 ... -1.87500022e+05\n",
      "  -1.87500022e+05 -1.87500022e+05]\n",
      " ...\n",
      " [ 0.00000000e+00  0.00000000e+00  0.00000000e+00 ...  0.00000000e+00\n",
      "   0.00000000e+00  0.00000000e+00]\n",
      " [ 1.69531457e+09  1.69531458e+09  1.69531458e+09 ...  1.69531458e+09\n",
      "   1.69531458e+09  1.69531458e+09]\n",
      " [ 0.00000000e+00  0.00000000e+00  0.00000000e+00 ...  0.00000000e+00\n",
      "   0.00000000e+00  0.00000000e+00]]\n"
     ]
    }
   ],
   "source": [
    "import argparse\n",
    "import time\n",
    "\n",
    "from brainflow.board_shim import BoardShim, BoardIds, BrainFlowPresets\n",
    "from brainflow.board_shim import BrainFlowInputParams\n",
    "\n",
    "port = 'COM4'\n",
    "\n",
    "BoardShim.enable_dev_board_logger()\n",
    "\n",
    "params = BrainFlowInputParams()\n",
    "params.serial_port = port\n",
    "\n",
    "board = BoardShim(BoardIds.CYTON_BOARD, params)\n",
    "board.prepare_session()\n",
    "board.start_stream ()\n",
    "time.sleep(10)\n",
    "# data = board.get_current_board_data (256) # get latest 256 packages or less, doesnt remove them from internal buffer\n",
    "data = board.get_board_data()  # get all data and remove it from internal buffer\n",
    "board.stop_stream()\n",
    "board.release_session()\n",
    "\n",
    "print(data)"
   ]
  },
  {
   "cell_type": "code",
   "execution_count": 3,
   "metadata": {},
   "outputs": [
    {
     "name": "stdout",
     "output_type": "stream",
     "text": [
      "24\n"
     ]
    }
   ],
   "source": [
    "print(len(data))"
   ]
  },
  {
   "cell_type": "code",
   "execution_count": null,
   "metadata": {},
   "outputs": [],
   "source": [
    "import argparse\n",
    "import time\n",
    "\n",
    "from brainflow.board_shim import BoardShim, BoardIds, BrainFlowPresets\n",
    "from brainflow.board_shim import BrainFlowInputParams\n",
    "\n",
    "port = '6677'#'COM4'\n",
    "ip = '225.1.1.1'\n",
    "\n",
    "BoardShim.enable_dev_board_logger()\n",
    "\n",
    "params = BrainFlowInputParams()\n",
    "params.serial_port = port\n",
    "\n",
    "board = BoardShim(BoardIds.CYTON_BOARD, params)\n",
    "board.prepare_session()\n",
    "board.start_stream ()\n",
    "time.sleep(10)\n",
    "# data = board.get_current_board_data (256) # get latest 256 packages or less, doesnt remove them from internal buffer\n",
    "data = board.get_board_data()  # get all data and remove it from internal buffer\n",
    "board.stop_stream()\n",
    "board.release_session()\n",
    "\n",
    "print(data)"
   ]
  },
  {
   "cell_type": "code",
   "execution_count": 5,
   "metadata": {},
   "outputs": [
    {
     "ename": "TypeError",
     "evalue": "'str' object cannot be interpreted as an integer",
     "output_type": "error",
     "traceback": [
      "\u001b[1;31m---------------------------------------------------------------------------\u001b[0m",
      "\u001b[1;31mTypeError\u001b[0m                                 Traceback (most recent call last)",
      "\u001b[1;32mc:\\Users\\c25th\\OneDrive\\Desktop\\experiments\\data_api.ipynb Cell 6\u001b[0m line \u001b[0;36m1\n\u001b[0;32m     <a href='vscode-notebook-cell:/c%3A/Users/c25th/OneDrive/Desktop/experiments/data_api.ipynb#W5sZmlsZQ%3D%3D?line=9'>10</a>\u001b[0m \u001b[39m# create a socket and connect to the IP/port\u001b[39;00m\n\u001b[0;32m     <a href='vscode-notebook-cell:/c%3A/Users/c25th/OneDrive/Desktop/experiments/data_api.ipynb#W5sZmlsZQ%3D%3D?line=10'>11</a>\u001b[0m s \u001b[39m=\u001b[39m socket\u001b[39m.\u001b[39msocket(socket\u001b[39m.\u001b[39mAF_INET, socket\u001b[39m.\u001b[39mSOCK_STREAM)\n\u001b[1;32m---> <a href='vscode-notebook-cell:/c%3A/Users/c25th/OneDrive/Desktop/experiments/data_api.ipynb#W5sZmlsZQ%3D%3D?line=11'>12</a>\u001b[0m s\u001b[39m.\u001b[39;49mconnect((ip, port))\n\u001b[0;32m     <a href='vscode-notebook-cell:/c%3A/Users/c25th/OneDrive/Desktop/experiments/data_api.ipynb#W5sZmlsZQ%3D%3D?line=13'>14</a>\u001b[0m \u001b[39mwhile\u001b[39;00m \u001b[39mTrue\u001b[39;00m:\n\u001b[0;32m     <a href='vscode-notebook-cell:/c%3A/Users/c25th/OneDrive/Desktop/experiments/data_api.ipynb#W5sZmlsZQ%3D%3D?line=14'>15</a>\u001b[0m     \u001b[39m# receive data from the socket\u001b[39;00m\n\u001b[0;32m     <a href='vscode-notebook-cell:/c%3A/Users/c25th/OneDrive/Desktop/experiments/data_api.ipynb#W5sZmlsZQ%3D%3D?line=15'>16</a>\u001b[0m     data \u001b[39m=\u001b[39m s\u001b[39m.\u001b[39mrecv(\u001b[39m1024\u001b[39m)\n",
      "\u001b[1;31mTypeError\u001b[0m: 'str' object cannot be interpreted as an integer"
     ]
    }
   ],
   "source": [
    "import argparse\n",
    "import time\n",
    "import socket\n",
    "\n",
    "ip = '225.1.1.1'\n",
    "port = 6677\n",
    "\n",
    "\n",
    "\n",
    "# create a socket and connect to the IP/port\n",
    "s = socket.socket(socket.AF_INET, socket.SOCK_STREAM)\n",
    "s.connect((ip, port))\n",
    "\n",
    "while True:\n",
    "    # receive data from the socket\n",
    "    data = s.recv(1024)\n",
    "    \n",
    "    # process the data\n",
    "    \n",
    "    # print for debugging\n",
    "    print(data)\n",
    "\n",
    "    time.sleep(0.1)\n",
    "\n",
    "s.close()"
   ]
  },
  {
   "cell_type": "code",
   "execution_count": 9,
   "metadata": {},
   "outputs": [
    {
     "name": "stdout",
     "output_type": "stream",
     "text": [
      "Serving on ('127.0.0.1', 6677)\n",
      "Server closed.\n"
     ]
    }
   ],
   "source": [
    "from pythonosc import dispatcher\n",
    "from pythonosc import osc_server\n",
    "\n",
    "ip = '10.1.1.100'\n",
    "port = 1000\n",
    "\n",
    "def eeg_handler(unused_addr, ch1, ch2, ch3, ch4, ch5, ch6, ch7, ch8, *args):\n",
    "    # Print all channel values    \n",
    "    print(f\"Channel 1: {ch1}\")\n",
    "    print(f\"Channel 2: {ch2}\") \n",
    "    print(f\"Channel 3: {ch3}\")\n",
    "    print(f\"Channel 4: {ch4}\")\n",
    "    print(f\"Channel 5: {ch5}\")\n",
    "    print(f\"Channel 6: {ch6}\")\n",
    "    print(f\"Channel 7: {ch7}\")\n",
    "    print(f\"Channel 8: {ch8}\")\n",
    "\n",
    "\n",
    "\n",
    "# Initialize the OSC dispatcher\n",
    "dispatcher = dispatcher.Dispatcher()\n",
    "dispatcher.map(\"/openbci\", eeg_handler)\n",
    "\n",
    "\n",
    "\n",
    "# Initialize and start the OSC server\n",
    "server = osc_server.ThreadingOSCUDPServer(('10.1.1.100', port), dispatcher)\n",
    "print(\"Serving on {}\".format(server.server_address))\n",
    "\n",
    "try:\n",
    "    server.serve_forever()\n",
    "except KeyboardInterrupt:\n",
    "    print(\"Server closed.\")"
   ]
  },
  {
   "cell_type": "code",
   "execution_count": 2,
   "metadata": {},
   "outputs": [
    {
     "ename": "OSError",
     "evalue": "[WinError 10049] The requested address is not valid in its context",
     "output_type": "error",
     "traceback": [
      "\u001b[1;31m---------------------------------------------------------------------------\u001b[0m",
      "\u001b[1;31mOSError\u001b[0m                                   Traceback (most recent call last)",
      "\u001b[1;32mc:\\Users\\c25th\\OneDrive\\Desktop\\experiments\\data_api.ipynb Cell 8\u001b[0m line \u001b[0;36m2\n\u001b[0;32m     <a href='vscode-notebook-cell:/c%3A/Users/c25th/OneDrive/Desktop/experiments/data_api.ipynb#X10sZmlsZQ%3D%3D?line=19'>20</a>\u001b[0m dispatcher\u001b[39m.\u001b[39mmap(\u001b[39m\"\u001b[39m\u001b[39m/openbci\u001b[39m\u001b[39m\"\u001b[39m, eeg_handler)\n\u001b[0;32m     <a href='vscode-notebook-cell:/c%3A/Users/c25th/OneDrive/Desktop/experiments/data_api.ipynb#X10sZmlsZQ%3D%3D?line=23'>24</a>\u001b[0m \u001b[39m# Initialize and start the OSC server\u001b[39;00m\n\u001b[1;32m---> <a href='vscode-notebook-cell:/c%3A/Users/c25th/OneDrive/Desktop/experiments/data_api.ipynb#X10sZmlsZQ%3D%3D?line=25'>26</a>\u001b[0m server \u001b[39m=\u001b[39m osc_server\u001b[39m.\u001b[39;49mThreadingOSCUDPServer((ip, port), dispatcher)\n\u001b[0;32m     <a href='vscode-notebook-cell:/c%3A/Users/c25th/OneDrive/Desktop/experiments/data_api.ipynb#X10sZmlsZQ%3D%3D?line=27'>28</a>\u001b[0m \u001b[39mprint\u001b[39m(\u001b[39m\"\u001b[39m\u001b[39mServing on \u001b[39m\u001b[39m{}\u001b[39;00m\u001b[39m\"\u001b[39m\u001b[39m.\u001b[39mformat(server\u001b[39m.\u001b[39mserver_address))\n\u001b[0;32m     <a href='vscode-notebook-cell:/c%3A/Users/c25th/OneDrive/Desktop/experiments/data_api.ipynb#X10sZmlsZQ%3D%3D?line=30'>31</a>\u001b[0m \u001b[39mtry\u001b[39;00m:\n",
      "File \u001b[1;32mc:\\Users\\c25th\\AppData\\Local\\Programs\\Python\\Python311\\Lib\\site-packages\\pythonosc\\osc_server.py:60\u001b[0m, in \u001b[0;36mOSCUDPServer.__init__\u001b[1;34m(self, server_address, dispatcher, bind_and_activate)\u001b[0m\n\u001b[0;32m     52\u001b[0m \u001b[39mdef\u001b[39;00m \u001b[39m__init__\u001b[39m(\u001b[39mself\u001b[39m, server_address: Tuple[\u001b[39mstr\u001b[39m, \u001b[39mint\u001b[39m], dispatcher: Dispatcher, bind_and_activate: \u001b[39mbool\u001b[39m \u001b[39m=\u001b[39m \u001b[39mTrue\u001b[39;00m) \u001b[39m-\u001b[39m\u001b[39m>\u001b[39m \u001b[39mNone\u001b[39;00m:\n\u001b[0;32m     53\u001b[0m \u001b[39m    \u001b[39m\u001b[39m\"\"\"Initialize\u001b[39;00m\n\u001b[0;32m     54\u001b[0m \n\u001b[0;32m     55\u001b[0m \u001b[39m    Args:\u001b[39;00m\n\u001b[1;32m   (...)\u001b[0m\n\u001b[0;32m     58\u001b[0m \u001b[39m        (optional) bind_and_activate: default=True defines if the server has to start on call of constructor  \u001b[39;00m\n\u001b[0;32m     59\u001b[0m \u001b[39m    \"\"\"\u001b[39;00m\n\u001b[1;32m---> 60\u001b[0m     \u001b[39msuper\u001b[39;49m()\u001b[39m.\u001b[39;49m\u001b[39m__init__\u001b[39;49m(server_address, _UDPHandler, bind_and_activate)\n\u001b[0;32m     61\u001b[0m     \u001b[39mself\u001b[39m\u001b[39m.\u001b[39m_dispatcher \u001b[39m=\u001b[39m dispatcher\n",
      "File \u001b[1;32mc:\\Users\\c25th\\AppData\\Local\\Programs\\Python\\Python311\\Lib\\socketserver.py:456\u001b[0m, in \u001b[0;36mTCPServer.__init__\u001b[1;34m(self, server_address, RequestHandlerClass, bind_and_activate)\u001b[0m\n\u001b[0;32m    454\u001b[0m \u001b[39mif\u001b[39;00m bind_and_activate:\n\u001b[0;32m    455\u001b[0m     \u001b[39mtry\u001b[39;00m:\n\u001b[1;32m--> 456\u001b[0m         \u001b[39mself\u001b[39;49m\u001b[39m.\u001b[39;49mserver_bind()\n\u001b[0;32m    457\u001b[0m         \u001b[39mself\u001b[39m\u001b[39m.\u001b[39mserver_activate()\n\u001b[0;32m    458\u001b[0m     \u001b[39mexcept\u001b[39;00m:\n",
      "File \u001b[1;32mc:\\Users\\c25th\\AppData\\Local\\Programs\\Python\\Python311\\Lib\\socketserver.py:472\u001b[0m, in \u001b[0;36mTCPServer.server_bind\u001b[1;34m(self)\u001b[0m\n\u001b[0;32m    470\u001b[0m \u001b[39mif\u001b[39;00m \u001b[39mself\u001b[39m\u001b[39m.\u001b[39mallow_reuse_port \u001b[39mand\u001b[39;00m \u001b[39mhasattr\u001b[39m(socket, \u001b[39m\"\u001b[39m\u001b[39mSO_REUSEPORT\u001b[39m\u001b[39m\"\u001b[39m):\n\u001b[0;32m    471\u001b[0m     \u001b[39mself\u001b[39m\u001b[39m.\u001b[39msocket\u001b[39m.\u001b[39msetsockopt(socket\u001b[39m.\u001b[39mSOL_SOCKET, socket\u001b[39m.\u001b[39mSO_REUSEPORT, \u001b[39m1\u001b[39m)\n\u001b[1;32m--> 472\u001b[0m \u001b[39mself\u001b[39;49m\u001b[39m.\u001b[39;49msocket\u001b[39m.\u001b[39;49mbind(\u001b[39mself\u001b[39;49m\u001b[39m.\u001b[39;49mserver_address)\n\u001b[0;32m    473\u001b[0m \u001b[39mself\u001b[39m\u001b[39m.\u001b[39mserver_address \u001b[39m=\u001b[39m \u001b[39mself\u001b[39m\u001b[39m.\u001b[39msocket\u001b[39m.\u001b[39mgetsockname()\n",
      "\u001b[1;31mOSError\u001b[0m: [WinError 10049] The requested address is not valid in its context"
     ]
    }
   ],
   "source": [
    "\n",
    "from pythonosc import dispatcher\n",
    "\n",
    "from pythonosc import osc_server\n",
    "\n",
    "ip = '10.1.1.100'\n",
    "port = 1000\n",
    "\n",
    "def eeg_handler(unused_addr, ch1, ch2, ch3, ch4, ch5, ch6, ch7, ch8, *args):\n",
    "\n",
    "    print(f\"EEG data [Channel 8]: {ch8}\")\n",
    "\n",
    " \n",
    "\n",
    "if __name__ == \"__main__\":\n",
    "\n",
    "    # Initialize the OSC dispatcher\n",
    "\n",
    "    dispatcher = dispatcher.Dispatcher()\n",
    "\n",
    "    dispatcher.map(\"/openbci\", eeg_handler)\n",
    "\n",
    " \n",
    "\n",
    "    # Initialize and start the OSC server\n",
    "\n",
    "    server = osc_server.ThreadingOSCUDPServer((ip, port), dispatcher)\n",
    "\n",
    "    print(\"Serving on {}\".format(server.server_address))\n",
    "\n",
    "\n",
    "    try:\n",
    "\n",
    "        server.serve_forever()\n",
    "\n",
    "    except KeyboardInterrupt:\n",
    "\n",
    "        print(\"Server closed.\")\n"
   ]
  }
 ],
 "metadata": {
  "kernelspec": {
   "display_name": "Python 3",
   "language": "python",
   "name": "python3"
  },
  "language_info": {
   "codemirror_mode": {
    "name": "ipython",
    "version": 3
   },
   "file_extension": ".py",
   "mimetype": "text/x-python",
   "name": "python",
   "nbconvert_exporter": "python",
   "pygments_lexer": "ipython3",
   "version": "3.11.5"
  },
  "orig_nbformat": 4
 },
 "nbformat": 4,
 "nbformat_minor": 2
}
