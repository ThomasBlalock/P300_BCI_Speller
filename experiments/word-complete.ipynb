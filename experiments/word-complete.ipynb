{
 "cells": [
  {
   "cell_type": "code",
   "execution_count": 4,
   "metadata": {},
   "outputs": [
    {
     "name": "stdout",
     "output_type": "stream",
     "text": [
      "['actinium']\n"
     ]
    },
    {
     "name": "stderr",
     "output_type": "stream",
     "text": [
      "[nltk_data] Downloading package wordnet to\n",
      "[nltk_data]     C:\\Users\\c25th\\AppData\\Roaming\\nltk_data...\n",
      "[nltk_data]   Package wordnet is already up-to-date!\n"
     ]
    }
   ],
   "source": [
    "import nltk\n",
    "nltk.download('wordnet')\n",
    "from nltk.corpus import wordnet\n",
    "\n",
    "incomplete_word = \"ac\"\n",
    "\n",
    "syns = wordnet.synsets(incomplete_word)\n",
    "\n",
    "# Get all lemmas of the synsets\n",
    "lemmas = set()\n",
    "for syn in syns:\n",
    "    for lemma in syn.lemmas():\n",
    "        lemmas.add(lemma.name())\n",
    "\n",
    "# Filter to get only the ones starting with incomplete word \n",
    "suggestions = [lemma for lemma in lemmas if lemma.startswith(incomplete_word)]\n",
    "\n",
    "print(suggestions)"
   ]
  },
  {
   "cell_type": "code",
   "execution_count": 12,
   "metadata": {},
   "outputs": [
    {
     "name": "stdout",
     "output_type": "stream",
     "text": [
      "[]\n",
      "[]\n"
     ]
    }
   ],
   "source": [
    "incomplete_word = \"fai\"\n",
    "\n",
    "syns = wordnet.synsets(incomplete_word)\n",
    "print(syns)\n",
    "\n",
    "# Get all lemmas of the synsets\n",
    "lemmas = set()\n",
    "for syn in syns:\n",
    "    print(syn)\n",
    "    for lemma in syn.lemmas():\n",
    "        print(lemma)\n",
    "        lemmas.add(lemma.name())\n",
    "\n",
    "# Filter to get only the ones starting with incomplete word \n",
    "suggestions = [lemma for lemma in lemmas if lemma.startswith(incomplete_word)]\n",
    "\n",
    "print(suggestions)"
   ]
  },
  {
   "cell_type": "code",
   "execution_count": 34,
   "metadata": {},
   "outputs": [
    {
     "name": "stderr",
     "output_type": "stream",
     "text": [
      "[nltk_data] Downloading package words to\n",
      "[nltk_data]     C:\\Users\\c25th\\AppData\\Roaming\\nltk_data...\n",
      "[nltk_data]   Package words is already up-to-date!\n"
     ]
    }
   ],
   "source": [
    "import nltk\n",
    "nltk.download('words')\n",
    "from nltk.corpus import words\n",
    "from collections import defaultdict\n",
    "\n",
    "from collections import defaultdict\n",
    "\n",
    "class TrieNode:\n",
    "    def __init__(self):\n",
    "        self.children = defaultdict(TrieNode)\n",
    "        self.is_word = False\n",
    "\n",
    "class Trie:\n",
    "    def __init__(self):\n",
    "        self.root = TrieNode()\n",
    "        frequencies = nltk.FreqDist(words.words())\n",
    "        for word in frequencies.keys():\n",
    "            self.insert(word)\n",
    "    \n",
    "    def insert(self, word):\n",
    "        current = self.root\n",
    "        for char in word:\n",
    "            current = current.children[char]\n",
    "        current.is_word = True\n",
    "\n",
    "    def autocomplete(self, prefix):\n",
    "        current = self.root\n",
    "        for char in prefix:\n",
    "            if char not in current.children:\n",
    "                return [] \n",
    "            current = current.children[char]\n",
    "\n",
    "        suggestions = []\n",
    "        self._traverse_suffix(current, prefix, suggestions)\n",
    "        \n",
    "        suggestions.sort(key=lambda x: frequencies[x], reverse=True)  \n",
    "        return suggestions[:5] # return top 5\n",
    "\n",
    "    \n",
    "    def _traverse_suffix(self, current, prefix, suggestions):\n",
    "        if current.is_word:\n",
    "            suggestions.append(prefix)\n",
    "        for char, node in current.children.items():\n",
    "            self._traverse_suffix(node, prefix + char, suggestions)\n"
   ]
  },
  {
   "cell_type": "code",
   "execution_count": 35,
   "metadata": {},
   "outputs": [
    {
     "name": "stdout",
     "output_type": "stream",
     "text": [
      "['word', 'work', 'worm', 'worble', 'worcester']\n"
     ]
    }
   ],
   "source": [
    "trie = Trie()\n",
    "\n",
    "prefix = \"wor\"\n",
    "suggestions = trie.autocomplete(prefix)\n",
    "print(suggestions)"
   ]
  }
 ],
 "metadata": {
  "kernelspec": {
   "display_name": "Python 3",
   "language": "python",
   "name": "python3"
  },
  "language_info": {
   "codemirror_mode": {
    "name": "ipython",
    "version": 3
   },
   "file_extension": ".py",
   "mimetype": "text/x-python",
   "name": "python",
   "nbconvert_exporter": "python",
   "pygments_lexer": "ipython3",
   "version": "3.11.5"
  },
  "orig_nbformat": 4
 },
 "nbformat": 4,
 "nbformat_minor": 2
}
