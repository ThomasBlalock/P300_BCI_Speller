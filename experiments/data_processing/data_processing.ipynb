{
 "cells": [
  {
   "cell_type": "code",
   "execution_count": 4,
   "metadata": {},
   "outputs": [],
   "source": [
    "from DataHandler import DataAcquisitionHandler"
   ]
  },
  {
   "cell_type": "code",
   "execution_count": 5,
   "metadata": {},
   "outputs": [
    {
     "name": "stdout",
     "output_type": "stream",
     "text": [
      "{'box_data': {'metadata': {'start_time': 1698254096.9270284, 'length': 66.15101170539856, 'trials': [{'timestamp': (1.6124939918518066, 2.6129705905914307), 'label': False}, {'timestamp': (4.535520553588867, 5.535949230194092), 'label': False}, {'timestamp': (7.843360424041748, 8.843704223632812), 'label': False}, {'timestamp': (11.05046534538269, 12.050799369812012), 'label': False}, {'timestamp': (13.656383991241455, 14.65677547454834), 'label': False}, {'timestamp': (16.96614170074463, 17.966572046279907), 'label': False}, {'timestamp': (20.37415909767151, 21.384049654006958), 'label': True}, {'timestamp': (23.191528797149658, 24.191861152648926), 'label': False}, {'timestamp': (26.600045442581177, 27.60047149658203), 'label': False}, {'timestamp': (30.00849151611328, 31.008914470672607), 'label': False}, {'timestamp': (33.31735062599182, 34.318182706832886), 'label': False}, {'timestamp': (36.024909019470215, 37.03983163833618), 'label': True}, {'timestamp': (39.247034788131714, 40.254889726638794), 'label': True}, {'timestamp': (42.76310849189758, 43.774993896484375), 'label': True}, {'timestamp': (45.88200378417969, 46.882325649261475), 'label': False}, {'timestamp': (49.090516328811646, 50.090983390808105), 'label': False}, {'timestamp': (51.69709825515747, 52.70694327354431), 'label': True}, {'timestamp': (54.914140701293945, 55.914509296417236), 'label': False}, {'timestamp': (58.22582125663757, 59.22625374794006), 'label': False}, {'timestamp': (61.744545698165894, 62.75588607788086), 'label': True}, {'timestamp': (64.66191625595093, 65.66234016418457), 'label': False}], 'flash_time_range': (0.1, 0.3), 'sample_time': 1, 'box_size': 'screen'}, 'data': array([[ 0.00000000e+00,  1.00000000e+00,  2.00000000e+00, ...,\n",
      "         4.00000000e+00,  5.00000000e+00,  6.00000000e+00],\n",
      "       [ 4.88973467e+03,  4.99778300e+03,  5.04811913e+03, ...,\n",
      "         3.00550497e+03,  3.05733866e+03,  3.10166217e+03],\n",
      "       [-1.87500022e+05, -1.87500022e+05, -1.87500022e+05, ...,\n",
      "        -1.79370313e+05, -1.79376683e+05, -1.79373107e+05],\n",
      "       ...,\n",
      "       [ 0.00000000e+00,  0.00000000e+00,  0.00000000e+00, ...,\n",
      "         0.00000000e+00,  0.00000000e+00,  0.00000000e+00],\n",
      "       [ 1.69825410e+09,  1.69825410e+09,  1.69825410e+09, ...,\n",
      "         1.69825416e+09,  1.69825416e+09,  1.69825416e+09],\n",
      "       [ 0.00000000e+00,  0.00000000e+00,  0.00000000e+00, ...,\n",
      "         0.00000000e+00,  0.00000000e+00,  0.00000000e+00]])}, 'keyboard_data': {'metadata': {'start_time': 1698254217.5625608, 'length': 41.68712782859802, 'trials': [{'timestamp': (2.4106013774871826, 3.424938678741455), 'pattern': ['1', '2', '3', '4', '5', '6', '7', '8', '9', '0', 'Backspace', 'End', 'Q', 'W', 'E', 'R', 'T', 'Y', 'U', 'I', 'O', 'P', '(', ')'], 'letter': 'A', 'label': False}, {'timestamp': (5.132108688354492, 6.15039587020874), 'pattern': [')', 'A', 'S', 'D', 'F', 'G', 'H', 'J', 'K', 'L', ';', \"'\"], 'letter': 'A', 'label': True}, {'timestamp': (8.360563278198242, 9.380937337875366), 'pattern': [')', 'A', 'S', 'D', 'F', 'G'], 'letter': 'A', 'label': True}, {'timestamp': (11.489364385604858, 12.505187749862671), 'pattern': [')', 'A', 'S'], 'letter': 'A', 'label': True}, {'timestamp': (14.612171411514282, 15.631027221679688), 'pattern': [')'], 'letter': 'A', 'label': False}, {'timestamp': (17.94089365005493, 18.958674430847168), 'pattern': ['A'], 'letter': 'A', 'label': True}, {'timestamp': (23.2777361869812, 24.293564319610596), 'pattern': ['1', '2', '3', '4', '5', '6', '7', '8', '9', '0', 'Backspace', 'End', 'Q', 'W', 'E', 'R', 'T', 'Y', 'U', 'I', 'O', 'P', '(', ')'], 'letter': 'A', 'label': False}, {'timestamp': (26.402531623840332, 27.431721210479736), 'pattern': [')', 'A', 'S', 'D', 'F', 'G', 'H', 'J', 'K', 'L', ';', \"'\"], 'letter': 'A', 'label': True}, {'timestamp': (29.33939528465271, 30.3516685962677), 'pattern': [')', 'A', 'S', 'D', 'F', 'G'], 'letter': 'A', 'label': True}, {'timestamp': (32.65757369995117, 33.66742420196533), 'pattern': [')', 'A', 'S'], 'letter': 'A', 'label': True}, {'timestamp': (36.07450604438782, 37.08347511291504), 'pattern': [')'], 'letter': 'A', 'label': False}, {'timestamp': (38.792622089385986, 39.81295561790466), 'pattern': ['A'], 'letter': 'A', 'label': True}], 'flash_time_range': (0.1, 0.3), 'sample_time': 1}, 'data': array([[ 0.00000000e+00,  1.00000000e+00,  2.00000000e+00, ...,\n",
      "         4.80000000e+01,  4.90000000e+01,  5.00000000e+01],\n",
      "       [ 0.00000000e+00,  2.02303404e+03,  2.03883672e+03, ...,\n",
      "         1.65279974e+03,  1.64383669e+03,  1.68116411e+03],\n",
      "       [ 0.00000000e+00, -1.53044965e+05, -1.53065417e+05, ...,\n",
      "        -1.54054839e+05, -1.54065009e+05, -1.54063534e+05],\n",
      "       ...,\n",
      "       [ 0.00000000e+00,  0.00000000e+00,  0.00000000e+00, ...,\n",
      "         0.00000000e+00,  0.00000000e+00,  0.00000000e+00],\n",
      "       [ 1.69825422e+09,  1.69825422e+09,  1.69825422e+09, ...,\n",
      "         1.69825426e+09,  1.69825426e+09,  1.69825426e+09],\n",
      "       [ 0.00000000e+00,  0.00000000e+00,  0.00000000e+00, ...,\n",
      "         0.00000000e+00,  0.00000000e+00,  0.00000000e+00]])}}\n"
     ]
    }
   ],
   "source": [
    "handler = DataAcquisitionHandler()\n",
    "handler.load('data.pkl')\n",
    "print(handler.get_data())"
   ]
  },
  {
   "cell_type": "code",
   "execution_count": null,
   "metadata": {},
   "outputs": [],
   "source": [
    "# TODO: make the data into a seperate object so you can do things with it more easily w/o navigating the labyrinth of a dictionary"
   ]
  }
 ],
 "metadata": {
  "kernelspec": {
   "display_name": "Python 3",
   "language": "python",
   "name": "python3"
  },
  "language_info": {
   "codemirror_mode": {
    "name": "ipython",
    "version": 3
   },
   "file_extension": ".py",
   "mimetype": "text/x-python",
   "name": "python",
   "nbconvert_exporter": "python",
   "pygments_lexer": "ipython3",
   "version": "3.11.5"
  }
 },
 "nbformat": 4,
 "nbformat_minor": 2
}
