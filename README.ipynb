{
 "cells": [
  {
   "cell_type": "markdown",
   "metadata": {},
   "source": [
    "# p300 Speller Application\n",
    "By: Thomas Blalock<br>\n",
    "Date: December 6, 2023<br>\n",
    "GitHub: https://github.com/ThomasBlalock/P300_BCI_Speller<br>\n",
    "### Abstract\n",
    "This paper details the development of a brain-computer interface (BCI) speller application using electroencephalography (EEG) to detect P300 event-related potentials. The system utilizes a 3D-printed EEG helmet with 8 electrodes positioned to optimize P300 detection. Custom stimulus-producing software was created, including a box GUI to elicit strong P300 responses for pretraining and a QWERTY keyboard GUI to enable communication. Over 3,000 EEG samples were collected, preprocessed with filtering and smoothing techniques, and used to train a 5-layer convolutional neural network (CNN) to classify P300 responses. However, the CNN only achieved 51.30% validation accuracy, slightly better than the 50% baseline. Next steps to improve accuracy include collecting more training data, enhancing data preprocessing, and exploring different model architectures like recurrent neural networks. Overall, this research lays the groundwork for a BCI speller but further optimization is required to achieve usable accuracy.\n",
    "### Contents\n",
    "- Introduction\n",
    "- Hardware Setup\n",
    "- Hardware-Software Integration\n",
    "- Stimulus-Producing Software\n",
    "- Data Collection\n",
    "- Data Preprocessing\n",
    "- Data Loading\n",
    "- Model Development\n",
    "- Model Training\n",
    "- Results\n",
    "- Next Steps\n",
    "- References"
   ]
  },
  {
   "cell_type": "markdown",
   "metadata": {},
   "source": [
    "### Introduction\n",
    "A brain-computer interface (BCI) reads and interprets the electromagnetic fields created by neural activity. This project employs a specific type of non-invasive BCI called electroencephalography (EEG), which reads electrical signals using electrodes that sit on a person's scalp. this project seeks to create a system called a speller application to enable people to communicate without any motor movement. Different BCI spellers utilize different signals in the brain. These various strategies for speller applications are referred to as speller paradigms. We employ the p300 speller paradigm, which utilizes the p300 novelty response in the brain that can be triggered by flashing colors as well as a digital keyboard that flashes in different patterns to determine what a subject is looking at. On the back-end, a classification model parses the data to determine if the p300 response is present. Significant noise is introduced in EEG systems, originating from other processes in the brain, the environment, and other processes in the body, such as blinking. Every part of this system pipeline can be optimized. The quality of the stimulus-producing software determines the size of the p300 response. The quality of data cleaning and feature extraction could determine if the model converges. And lastly, the quality of the machine learning model determines if the system yields the correct response. A literature report linked [here](https://docs.google.com/document/d/1aNbAXmB_J7fFUMmZ_Ofe9Z-wUfX3AwkIEsbiiaiTxu8/edit?usp=sharing) further details the methods and paradigms mentioned in this report."
   ]
  },
  {
   "cell_type": "markdown",
   "metadata": {},
   "source": [
    "### Hardware Setup\n",
    "In this project, we used a 3D-printed plastic frame with eight OpenBCI electrodes and an OpenBCI Cyton Board. The equipment was provided by Dr. Mello from the USAFA ACCR. The electrodes were placed in the p300 configuration found at this [link](https://www.researchgate.net/figure/Common-electrode-setup-for-P300-spellers-according-to-8-Eight-EEG-electrodes-are_fig1_221583051#:~:text=Eight%20EEG%20electrodes%20are%20placed,is%20attached%20to%20the%20rig). The wires were oriented orthogonal to each other to minimize cross-contamination.<br><br>\n",
    "<img src=\"content/helmet_front.jpg\" width=\"300\" height=\"300\">\n",
    "<img src=\"content/helmet_back.jpg\" width=\"300\" height=\"300\">\n",
    "<img src=\"content/helmet_bottom.jpg\" width=\"300\" height=\"300\">"
   ]
  },
  {
   "cell_type": "markdown",
   "metadata": {},
   "source": [
    "### Hardware-Software Integration\n",
    "The software generated to interact with the helmet assumes that the helmet transmits the signal to the computer through a USB port. Since only one process can access a USB port at a time, our scripts and the OpenBCI GUI cannot be running at the same time. A 'Board' object was created to handle all interactions with the EEG helmet. The code is modular enough so that it would be very easy to change the script to receive the signal over wifi rather than the USB port. Run the following code block to define this object."
   ]
  },
  {
   "cell_type": "code",
   "execution_count": 1,
   "metadata": {},
   "outputs": [],
   "source": [
    "# Define the Board class\n",
    "from brainflow.board_shim import BoardShim, BoardIds\n",
    "from brainflow.board_shim import BrainFlowInputParams\n",
    "import time\n",
    "\n",
    "\n",
    "class Board:\n",
    "    \"\"\"\n",
    "    This class is a wrapper for the BrainFlow Cyton board. It allows you to\n",
    "    start and stop the stream, and get data from the board.\n",
    "    \"\"\"\n",
    "\n",
    "    def __init__(self, port = 'COM4'):\n",
    "        \"\"\"Initializes the board and prepares the session.\n",
    "        \n",
    "        Args:\n",
    "            port (str): The port the board is connected to.\n",
    "        \"\"\"\n",
    "        self.port = port\n",
    "        # Prep board / data stream\n",
    "        BoardShim.enable_dev_board_logger()\n",
    "        params = BrainFlowInputParams()\n",
    "        params.serial_port = self.port\n",
    "        self.board = BoardShim(BoardIds.CYTON_BOARD, params)\n",
    "        self.board.prepare_session()\n",
    "        \n",
    "\n",
    "    def __del__(self):\n",
    "        \"\"\"Releases the session.\"\"\"\n",
    "        self.board.release_session()    \n",
    "        time.sleep(1.5) # It crashes if you  restart the board too quickly\n",
    "\n",
    "    def start_stream(self):\n",
    "        \"\"\"Starts the stream.\"\"\"\n",
    "        self.board.start_stream()\n",
    "\n",
    "    def stop_stream(self):\n",
    "        \"\"\"Stops the stream.\"\"\"\n",
    "        self.board.stop_stream()\n",
    "\n",
    "    def get_data(self):\n",
    "        \"\"\"Gets the data from the board.\n",
    "        \n",
    "        Returns:\n",
    "            list: The data from the board.\n",
    "        \"\"\"\n",
    "        return self.board.get_board_data()"
   ]
  },
  {
   "cell_type": "markdown",
   "metadata": {},
   "source": [
    "### Stimulus-Producing Software\n",
    "The end goal is to have a QWERTY keyboard that utilizes a binary search with the p300 responses to find the letter that a subject is looking at. It was determined that the machine learning model would converge more quickly if it was first trained on a more prominent p300 signal and then trained on the QWERTY keyboard. There are two GUI objects that flash different colors to stimulate the P300 response. The first version flashes different-sized boxes while the second version performs the binary search using a QWERTY keyboard with some non-letter values. "
   ]
  },
  {
   "cell_type": "markdown",
   "metadata": {},
   "source": [
    "##### Box GUI\n",
    "The first GUI is just a flashing box. It is designed to elicit a strong p300. The data collected using this GUI will be used to pretrain the model. The model will theoretically converge faster on a dataset with a more pronounced loss landscape. The GUI enables the user to specify differently sized and shaped boxes. This variation allows the user to vary the size of the p300 response since the size of the flashing box will likely correlate to the size of the p300 response. Multiple colors flash during a single sample. The colors and time between flashes are randomized to maximize the p300 response. The user controls the GUI by pressing any button to start a session and pressing any button to end the session. The following code block defines the 'Box_GUI' class.<br><br>\n",
    "<video width=\" \" height=\" \" \n",
    "       src=\"content/box_video.mp4\"  \n",
    "       controls>\n",
    "</video>"
   ]
  },
  {
   "cell_type": "code",
   "execution_count": 3,
   "metadata": {},
   "outputs": [
    {
     "ename": "AttributeError",
     "evalue": "partially initialized module 'pygame' has no attribute 'color' (most likely due to a circular import)",
     "output_type": "error",
     "traceback": [
      "\u001b[1;31m---------------------------------------------------------------------------\u001b[0m",
      "\u001b[1;31mAttributeError\u001b[0m                            Traceback (most recent call last)",
      "Cell \u001b[1;32mIn[3], line 2\u001b[0m\n\u001b[0;32m      1\u001b[0m \u001b[38;5;66;03m# Define the Box GUI class\u001b[39;00m\n\u001b[1;32m----> 2\u001b[0m \u001b[38;5;28;01mimport\u001b[39;00m \u001b[38;5;21;01mpygame\u001b[39;00m\n\u001b[0;32m      3\u001b[0m \u001b[38;5;28;01mimport\u001b[39;00m \u001b[38;5;21;01mrandom\u001b[39;00m\n\u001b[0;32m      4\u001b[0m \u001b[38;5;28;01mimport\u001b[39;00m \u001b[38;5;21;01mpyautogui\u001b[39;00m\n",
      "File \u001b[1;32mc:\\Users\\c25th\\AppData\\Local\\Programs\\Python\\Python311\\Lib\\site-packages\\pygame\\__init__.py:100\u001b[0m\n\u001b[0;32m     97\u001b[0m \u001b[38;5;28;01mimport\u001b[39;00m \u001b[38;5;21;01mpygame\u001b[39;00m\u001b[38;5;21;01m.\u001b[39;00m\u001b[38;5;21;01msurflock\u001b[39;00m\n\u001b[0;32m     98\u001b[0m \u001b[38;5;28;01mimport\u001b[39;00m \u001b[38;5;21;01mpygame\u001b[39;00m\u001b[38;5;21;01m.\u001b[39;00m\u001b[38;5;21;01mcolor\u001b[39;00m\n\u001b[1;32m--> 100\u001b[0m Color \u001b[38;5;241m=\u001b[39m \u001b[43mpygame\u001b[49m\u001b[38;5;241;43m.\u001b[39;49m\u001b[43mcolor\u001b[49m\u001b[38;5;241m.\u001b[39mColor\n\u001b[0;32m    101\u001b[0m \u001b[38;5;28;01mimport\u001b[39;00m \u001b[38;5;21;01mpygame\u001b[39;00m\u001b[38;5;21;01m.\u001b[39;00m\u001b[38;5;21;01mbufferproxy\u001b[39;00m\n\u001b[0;32m    103\u001b[0m BufferProxy \u001b[38;5;241m=\u001b[39m pygame\u001b[38;5;241m.\u001b[39mbufferproxy\u001b[38;5;241m.\u001b[39mBufferProxy\n",
      "\u001b[1;31mAttributeError\u001b[0m: partially initialized module 'pygame' has no attribute 'color' (most likely due to a circular import)"
     ]
    }
   ],
   "source": [
    "# Define the Box GUI class\n",
    "import pygame\n",
    "import random\n",
    "import pyautogui\n",
    "\n",
    "\n",
    "class Box_GUI:\n",
    "    \"\"\"\n",
    "    This class is a wrapper for the pygame GUI. It allows you to\n",
    "    flash a box on the screen and wait for a button press.\n",
    "    \"\"\"\n",
    "\n",
    "    # Constants\n",
    "    BLACK = (0, 0, 0)\n",
    "    WHITE = (255, 255, 255)\n",
    "    RED = (255, 0 , 0)\n",
    "    GREEN = (0, 255, 0)\n",
    "    YELLOW = (255, 255, 0)\n",
    "    PURPLE = (255, 0, 255)\n",
    "    BLUE = (0, 0, 255)\n",
    "    ORANGE = (255, 165, 0)\n",
    "    PINK = (255, 192, 203)\n",
    "    COLOR_LIST = [RED, GREEN, YELLOW, PURPLE, BLUE, ORANGE, PINK]\n",
    "\n",
    "    def __init__(self, window_size = None):\n",
    "        \"\"\"Initializes the pygame GUI and determines the window size.\n",
    "        \n",
    "        args:\n",
    "            window_size (tuple): The size of the window. If None, the size of the screen is used.\n",
    "        \"\"\"\n",
    "        if window_size == None:\n",
    "            width, height = pyautogui.size()\n",
    "        else:\n",
    "            width, height = window_size\n",
    "        self.window_size = (width, height-(height/20))\n",
    "\n",
    "        # Prep pygame window\n",
    "        pygame.init()\n",
    "        self.screen = pygame.display.set_mode(self.window_size)\n",
    "        self.screen.fill(self.BLACK)\n",
    "\n",
    "    def __del__(self):\n",
    "        pygame.quit()\n",
    "    \n",
    "    def reset_screen(self, box_size):\n",
    "        \"\"\"Resets the screen to black and draws a box in the center.\n",
    "        \n",
    "        args:\n",
    "            box_size (tuple): The size of the box.\n",
    "        \"\"\"\n",
    "        box_size = self.box_size_parser(box_size)\n",
    "        center = ((self.window_size[0] - box_size[0])/2, (self.window_size[1] - box_size[1])/2)\n",
    "        pygame.draw.rect(self.screen, self.GREEN, (center[0], center[1], box_size[0], box_size[1]), 0)\n",
    "        pygame.display.update()\n",
    "        pygame.display.flip()\n",
    "\n",
    "    def flash_box(self, box_size, color='random'):\n",
    "        \"\"\"Flashes a box on the screen.\n",
    "        \n",
    "        args:\n",
    "            box_size (tuple or string or int):\n",
    "                tuple: (x_width, y_width) of the box\n",
    "                string: 'screen' or 'full' to fill the screen\n",
    "                int: the height and width of the box\n",
    "            color (str): The color of the box. If 'random', a random color is chosen.\n",
    "        \"\"\"\n",
    "        if color == 'random':\n",
    "            color = random.choice(self.COLOR_LIST)\n",
    "        box_size = self.box_size_parser(box_size)\n",
    "        center = ((self.window_size[0] - box_size[0])/2, (self.window_size[1] - box_size[1])/2)\n",
    "        pygame.draw.rect(self.screen, color, (center[0], center[1], box_size[0], box_size[1]), 0)\n",
    "        pygame.display.update()\n",
    "        pygame.display.flip()\n",
    "\n",
    "    def button_press(self):\n",
    "        \"\"\"Listener for a button press.\"\"\"\n",
    "        for event in pygame.event.get():\n",
    "            if event.type == pygame.KEYDOWN:\n",
    "                return True\n",
    "        return False\n",
    "    \n",
    "    def box_size_parser(self, box_size):\n",
    "        \"\"\"Parses the box size input and returns.\n",
    "        \n",
    "        args:\n",
    "            box_size (tuple or string or int):\n",
    "                tuple: (x_width, y_width) of the box\n",
    "                string: 'screen' or 'full' to fill the screen\n",
    "                int: the height and width of the box\n",
    "        \n",
    "        returns:\n",
    "            tuple: (x_width, y_width) of the box\n",
    "        \"\"\"\n",
    "        if  type(box_size) == str:\n",
    "            if box_size == 'screen' or box_size == 'full':\n",
    "                return self.window_size\n",
    "        elif type(box_size) == int:\n",
    "            return (box_size, box_size)\n",
    "        elif type(box_size) == tuple and len(box_size) == 2:\n",
    "            return box_size\n",
    "        else:\n",
    "            raise ValueError('Invalid box size input: ' + type(box_size) + '. Must be string, int, or 2-valued tuple.')"
   ]
  },
  {
   "cell_type": "markdown",
   "metadata": {},
   "source": [
    "##### Keyboard GUI\n",
    "The other GUI is a QWERTY keyboard that performs a binary search to locate the letter a subject is looking at. Multiple colors flash during a single sample. The colors and time between flashes are randomized to maximize the p300 response. The user controls the GUI by pressing any button to start a session and pressing any button to end the session. The following code block defines the 'Keyboard_GUI' class.<br><br>\n",
    "<video width=\" \" height=\" \" \n",
    "       src=\"content/keyboard_video.mp4\"  \n",
    "       controls>\n",
    "</video>"
   ]
  },
  {
   "cell_type": "code",
   "execution_count": 4,
   "metadata": {},
   "outputs": [],
   "source": [
    "# Define the Keyboard GUI class\n",
    "\n",
    "\n",
    "class Keyboard_GUI:\n",
    "    \"\"\"\n",
    "    This class is a wrapper for the pygame GUI. It allows you to\n",
    "    display a keyboard and flash keys on the screen.\n",
    "    Controls:\n",
    "        - Any Key: Start the session\n",
    "        - Any Key: End the session\n",
    "    \"\"\"\n",
    "\n",
    "    # Constants\n",
    "    BLACK = (0, 0, 0)\n",
    "    WHITE = (255, 255, 255)\n",
    "    RED = (255, 0 , 0)\n",
    "    GREEN = (0, 255, 0)\n",
    "    YELLOW = (255, 255, 0)\n",
    "    PURPLE = (255, 0, 255)\n",
    "    BLUE = (0, 0, 255)\n",
    "    ORANGE = (255, 165, 0)\n",
    "    PINK = (255, 192, 203)\n",
    "    COLOR_LIST = [RED, YELLOW, PURPLE, BLUE, ORANGE, PINK]\n",
    "    KEY_COLOR_LIST = [GREEN, YELLOW, PINK, WHITE]\n",
    "\n",
    "    def __init__(self, window_size=None):\n",
    "        \"\"\"Initializes the pygame GUI and determines the window size.\n",
    "        \n",
    "        args:\n",
    "            window_size (tuple): The size of the window. If None, the size of the screen is used.\n",
    "        \"\"\"\n",
    "        if window_size == None:\n",
    "            width, height = pyautogui.size()\n",
    "        else:\n",
    "            width, height = window_size\n",
    "        self.window_size = (width, height-(height/20))\n",
    "        self.window_size = (width, height-(height/20))\n",
    "        self.keyboard = [[\"1\", \"2\", \"3\", \"4\", \"5\", \"6\", \"7\", \"8\", \"9\", \"0\", \"Backspace\", \"End\"],\n",
    "                    [\"Q\", \"W\", \"E\", \"R\", \"T\", \"Y\", \"U\", \"I\", \"O\", \"P\",\"(\", \")\"],\n",
    "                    [\"A\", \"S\", \"D\", \"F\", \"G\", \"H\", \"J\", \"K\", \"L\", \";\", \"'\"], \n",
    "                    [\"Z\", \"X\", \"C\", \"V\", \"B\", \"N\", \"M\", \",\", \".\", \"/\", \"Enter\"],\n",
    "                    [\"       \"]]\n",
    "\n",
    "        # Prep pygame window\n",
    "        pygame.init()\n",
    "        self.screen = pygame.display.set_mode(self.window_size)\n",
    "        self.screen.fill(self.BLACK)\n",
    "        self.font = pygame.font.SysFont(\"Arial\", 20)\n",
    "\n",
    "    def __del__(self):\n",
    "        pygame.quit()\n",
    "    \n",
    "    def reset_screen(self, button_size = None, flash_keys = [], color='random', target_letter=None):\n",
    "        \"\"\"Resets the screen to black and draws the keyboard.\n",
    "\n",
    "        args:\n",
    "            button_size (tuple): The size of the buttons.\n",
    "            flash_keys (list): The keys to flash.\n",
    "            color (str): The color of the flash. If 'random', a random color is chosen.\n",
    "            target_letter (str): The target letter to display on the bottom left corner.\n",
    "        \"\"\"\n",
    "\n",
    "        # Parse inputs\n",
    "        if color == 'random':\n",
    "            flash_color = random.choice(self.COLOR_LIST)\n",
    "            flash_color_key = random.choice(self.KEY_COLOR_LIST)\n",
    "        else:\n",
    "            flash_color = color\n",
    "        col_margin = 5\n",
    "        row_margin = 5\n",
    "        if button_size == None:\n",
    "            button_size = (self.window_size[0]/13, self.window_size[1]/5)\n",
    "\n",
    "        # Draw a big black box over everything\n",
    "        pygame.draw.rect(self.screen, self.BLACK, (0, 0, self.window_size[0], self.window_size[1]), 0)\n",
    "        \n",
    "        # Draw buttons\n",
    "        for y, row in enumerate(self.keyboard):\n",
    "            for x, key in enumerate(row):\n",
    "                \n",
    "                # Determine color\n",
    "                if key in flash_keys:\n",
    "                    color = flash_color\n",
    "                    key_color = flash_color_key\n",
    "                else:\n",
    "                    color = self.GREEN\n",
    "                    key_color = self.BLACK\n",
    "\n",
    "                # Determine indent\n",
    "                if y>=1 and y<=3: # Letters\n",
    "                    indent = 20\n",
    "                elif key==\"       \": # Space bar\n",
    "                    button_size = (button_size[0]*5, button_size[1])\n",
    "                    indent = int(self.window_size[0]/2 - button_size[0]/2)\n",
    "                else:\n",
    "                    indent = 0\n",
    "\n",
    "                # Draw button\n",
    "                pygame.draw.rect(self.screen, color, (indent+x*(button_size[0] + col_margin)+col_margin, \n",
    "                                                           y*(button_size[1] + row_margin)+row_margin, button_size[0], button_size[1]))\n",
    "                text_surface = self.font.render(key, True, key_color)\n",
    "                self.screen.blit(text_surface, (indent+x*(button_size[0] + col_margin)+col_margin+button_size[0]/2 - text_surface.get_width()/2, \n",
    "                                                y*(button_size[1] + row_margin)+row_margin+button_size[1]/2 - text_surface.get_height()/2))\n",
    "        \n",
    "        # Draw target letter on bottom left corner\n",
    "        if target_letter is not None:\n",
    "            text_surface = self.font.render(target_letter, True, self.WHITE)\n",
    "            self.screen.blit(text_surface, (5 + text_surface.get_width(), \n",
    "                                            self.window_size[1] - 5 - text_surface.get_height()))\n",
    "\n",
    "        pygame.display.flip()\n",
    "\n",
    "    def button_press(self):\n",
    "        \"\"\"Listener for a button press.\"\"\"\n",
    "        for event in pygame.event.get():\n",
    "            if event.type == pygame.KEYDOWN:\n",
    "                return True\n",
    "        return False\n",
    "    \n",
    "    def get_keyboard(self):\n",
    "        return self.keyboard\n",
    "    \n",
    "    def flash_keys(self, keys, color='random', target_letter=None):\n",
    "        \"\"\"Flashes keys on the keyboard.\n",
    "\n",
    "        args:\n",
    "            keys (str or list of str): The keys to flash.\n",
    "            color (str or tuple): The color of the flash. If 'random', a random color is chosen.\n",
    "            target_letter (str): The target letter to display on the bottom left corner.\n",
    "        \"\"\"\n",
    "        if type(keys) == str:\n",
    "            new_keys = [keys]\n",
    "        elif type(keys) == list:\n",
    "            new_keys = []\n",
    "            if type(keys[0]) == list:\n",
    "                for l in keys:\n",
    "                    new_keys.extend(l)\n",
    "            else:\n",
    "                new_keys = keys\n",
    "        else:\n",
    "            raise ValueError('Invalid key input: ' + type(keys) + '. Must be string or list of strings.')\n",
    "        \n",
    "        self.reset_screen(flash_keys=new_keys, color=color, target_letter=target_letter)\n",
    "\n",
    "    def get_search_pattern(self, prev_flash=None, response=True):\n",
    "        \"\"\"Gets the search pattern and full pattern from the previous flash.\n",
    "\n",
    "        args:\n",
    "            prev_flash (list): The keys previously flashed.\n",
    "            response (bool): Whether the flashing keys contained the target.\n",
    "\n",
    "        returns:\n",
    "            tuple: (search_pattern (list of str), full_pattern (list of str))\n",
    "        \"\"\"\n",
    "\n",
    "        if prev_flash is None: # First flash\n",
    "            pattern = self.nested_to_1d_list(self.keyboard[:int(len(self.keyboard)/2)])\n",
    "            full = self.nested_to_1d_list(self.keyboard)\n",
    "        else:\n",
    "            prev_flash = self.nested_to_1d_list(prev_flash)\n",
    "            if response: # Target was in the flashing keys\n",
    "                pattern = prev_flash[:int(len(prev_flash)/4)]\n",
    "                full = prev_flash[:int(len(prev_flash)/2)]\n",
    "            else: # Target was not in the flashing keys\n",
    "                pattern = prev_flash[int(len(prev_flash)/2):int(3*len(prev_flash)/4)]\n",
    "                full = prev_flash[int(len(prev_flash)/2):]\n",
    "        \n",
    "        return pattern, full\n",
    "    \n",
    "    def nested_to_1d_list(self, l):\n",
    "        \"\"\"Recursively converts a nested list to a 1D list.\n",
    "\n",
    "        args:\n",
    "            l (list): The nested list.\n",
    "        \n",
    "        returns:\n",
    "            list: The 1D list.\n",
    "        \"\"\"\n",
    "\n",
    "        new_l = []\n",
    "        if type(l)!=list:\n",
    "            new_l.append(l)\n",
    "        else:\n",
    "            for item in l:\n",
    "                new_l.extend(self.nested_to_1d_list(item))\n",
    "        return new_l"
   ]
  },
  {
   "cell_type": "markdown",
   "metadata": {},
   "source": [
    "### Data Collection\n",
    "Data collection was handled using a separate object named 'DataAcquisitionHandler'. This object has methods to collect data using both the box GUI and the keyboard GUI. It contains a 'Board' object and stores all the data internally. The following code block defines the object."
   ]
  },
  {
   "cell_type": "code",
   "execution_count": 5,
   "metadata": {},
   "outputs": [],
   "source": [
    "# Define DataAcquisitionHandler class\n",
    "import numpy as np\n",
    "import random\n",
    "import time\n",
    "\n",
    "\n",
    "class DataAcquisitionHandler:\n",
    "    \"\"\"Handles data acquisition from the Cyton board using the Board class and GUIs.\"\"\"\n",
    "\n",
    "    def __init__(self, port = 'COM4', flash_time = (0.1, 0.3), wait_time = (1.5, 2.5), sample_time=1):\n",
    "        \"\"\"Initializes the DataAcquisitionHandler.\n",
    "\n",
    "        Args:\n",
    "            port (str): The USB port the board is connected to.\n",
    "            flash_time (tuple): The range of time to flash the box for.\n",
    "            wait_time (tuple): The range of time to wait between flashes.\n",
    "            sample_time (float): The length of samples to collect.\n",
    "        \"\"\"\n",
    "\n",
    "        self.flash_time = flash_time\n",
    "        self.wait_time = wait_time\n",
    "        self.sample_time = sample_time\n",
    "        self.__board_port = port\n",
    "        self.__data = {}\n",
    "\n",
    "    def get_data(self):\n",
    "        return self.__data\n",
    "\n",
    "    def run_data_trial_box(self, box_size = 'screen', simulate=False, window_size = None, description=None):\n",
    "        \"\"\"Runs a data trial for the box GUI.\n",
    "\n",
    "        Args:\n",
    "            box_size (tuple or string or int):\n",
    "                tuple: (x_width, y_width) of the box\n",
    "                string: 'screen' or 'full' to fill the screen\n",
    "                int: the height and width of the box\n",
    "            simulate (bool): Whether to simulate the trial or not.\n",
    "            window_size (tuple): The size of the window. If None, the size of the screen is used.\n",
    "            description (str): A text description of the trial.\n",
    "\n",
    "        Postconditions:\n",
    "            self.__data: The data from the trial is added to the data dictionary.\n",
    "        \"\"\"\n",
    "\n",
    "        # Initialize\n",
    "        trials = []\n",
    "        if window_size is not None:\n",
    "            GUI = Box_GUI(window_size=window_size)\n",
    "        else:\n",
    "            GUI = Box_GUI()\n",
    "        GUI.reset_screen(box_size)\n",
    "        if not simulate:\n",
    "            board = Board(self.__board_port)\n",
    "\n",
    "        # Wait for any button press to start sequence\n",
    "        while True:\n",
    "            if GUI.button_press():\n",
    "                break\n",
    "\n",
    "        # Start data stream if not simulating\n",
    "        if  not simulate:\n",
    "            start_time = time.time()\n",
    "            board.start_stream()\n",
    "\n",
    "        # Data collection loop\n",
    "        while True:\n",
    "            GUI.reset_screen(box_size)\n",
    "\n",
    "            # Make random wait time in wait_time range\n",
    "            wait_time = random.uniform(self.wait_time[0], self.wait_time[1])\n",
    "            i = 0\n",
    "\n",
    "            # Check for button press to end trial\n",
    "            end = False\n",
    "            while i < wait_time:\n",
    "                if GUI.button_press():\n",
    "                    end = True\n",
    "                    break\n",
    "                time.sleep(0.1)\n",
    "                i += 0.1\n",
    "            if end:\n",
    "                break\n",
    "\n",
    "            if not simulate:\n",
    "                trial_start_time = time.time()\n",
    "            \n",
    "            # Randomly choose to flash or not\n",
    "            run_flash = random.choice([True, False])\n",
    "\n",
    "            # Flash screen\n",
    "            if run_flash:\n",
    "                sample_time = 0\n",
    "                while sample_time < self.sample_time:\n",
    "                    GUI.flash_box(box_size)\n",
    "\n",
    "                    # Select random flash time for inter-sample flashes\n",
    "                    flash_time = random.uniform(self.flash_time[0], self.flash_time[1])\n",
    "                    if sample_time + flash_time > self.sample_time:\n",
    "                        flash_time = self.sample_time - sample_time\n",
    "                    time.sleep(flash_time)\n",
    "                    sample_time += flash_time\n",
    "            else:\n",
    "                time.sleep(self.sample_time)\n",
    "            \n",
    "            # print(\"Label : \"+str(run_flash)) # Debugging print statement\n",
    "\n",
    "            # Get metadata and add to trials list\n",
    "            if not simulate:\n",
    "                trial_end_time = time.time()\n",
    "\n",
    "                trial_timestamps = (trial_start_time - start_time, trial_end_time - start_time)\n",
    "                trial = {'timestamp': trial_timestamps, 'label': run_flash}\n",
    "\n",
    "                trials.append(trial) # [{'timestamp': (start, end), 'flash_time': flash_time}, ...]\n",
    "        \n",
    "        # Gather data and stop stream if not simulating\n",
    "        if not simulate:\n",
    "            data = board.get_data()\n",
    "            board.stop_stream()\n",
    "            del board\n",
    "\n",
    "        del GUI\n",
    "\n",
    "        # Save data to dict\n",
    "        if not simulate:\n",
    "            end_time = time.time() - start_time\n",
    "            metadata = {\n",
    "                'start_time': start_time, # time in seconds\n",
    "                'length': end_time, # time in seconds\n",
    "                'trials': trials, # [(start, end), (start, end), ...]\n",
    "                'flash_time_range': self.flash_time, # time in seconds\n",
    "                'sample_time': self.sample_time, # time in seconds\n",
    "                'box_size': box_size,\n",
    "                'description': description # Text description passed in as an input\n",
    "            }\n",
    "\n",
    "            session_data = [{\n",
    "                'metadata': metadata, # {'start_time': start_time, 'length': length 'flash_time': flash_time, 'timestamps': [(start, end), (start, end), ...]}}\n",
    "                'data': data # [channel_1, channel_2, ..., channel_24]\n",
    "            }]\n",
    "\n",
    "            # Save data to dict\n",
    "            self.add_data({'box_data': session_data})\n",
    "\n",
    "    def run_data_trial_QWERTY(self, letter=\"Random\", simulate=False, window_size=None, description=None):\n",
    "        \"\"\"Runs a data trial for the keyboard GUI.\n",
    "\n",
    "        Args:\n",
    "            letter (str): The target letter to display on the bottom left corner.\n",
    "            simulate (bool): Whether to simulate the trial or not.\n",
    "            window_size (tuple): The size of the window. If None, the size of the screen is used.\n",
    "            description (str): A text description of the trial.\n",
    "\n",
    "        Postconditions:\n",
    "            self.__data: The data from the trial is added to the data dictionary.\n",
    "        \"\"\"\n",
    "\n",
    "        if letter==\"Random\":\n",
    "            random_letter = True\n",
    "        else:\n",
    "            random_letter = False\n",
    "\n",
    "        # Initialize\n",
    "        trials = []\n",
    "        if window_size is not None:\n",
    "            GUI = Keyboard_GUI(window_size=window_size)\n",
    "        else:\n",
    "            GUI = Keyboard_GUI(window_size = (1920, 1080))\n",
    "        GUI.reset_screen()\n",
    "\n",
    "        if not simulate:\n",
    "            board = Board(self.__board_port)\n",
    "\n",
    "        # Wait for any button press to start sequence\n",
    "        while True:\n",
    "            if GUI.button_press():\n",
    "                break\n",
    "\n",
    "        end = False\n",
    "\n",
    "        if not simulate:\n",
    "            start_time = time.time()\n",
    "            board.start_stream()\n",
    "\n",
    "        # Data collection loop\n",
    "        while True:\n",
    "\n",
    "            pattern = None\n",
    "            label = True\n",
    "\n",
    "            if end:\n",
    "                break\n",
    "\n",
    "            # Generate a random letter as the target\n",
    "            if random_letter:\n",
    "                choices = GUI.nested_to_1d_list(GUI.get_keyboard())\n",
    "                random_idx = np.random.randint(0, len(choices))\n",
    "                letter = choices[random_idx]\n",
    "                \n",
    "            GUI.reset_screen(target_letter=letter)\n",
    "\n",
    "            # Binary search loops\n",
    "            while True:\n",
    "                GUI.reset_screen(target_letter=letter)\n",
    "\n",
    "                # Make random wait time in wait_time range\n",
    "                wait_time = random.uniform(self.wait_time[0], self.wait_time[1])\n",
    "\n",
    "                # Check for button press to end trial\n",
    "                i = 0\n",
    "                end = False\n",
    "                while i < wait_time:\n",
    "                    if GUI.button_press():\n",
    "                        end = True\n",
    "                        break\n",
    "                    time.sleep(0.1)\n",
    "                    i += 0.1\n",
    "                if end:\n",
    "                    break\n",
    "\n",
    "                # Get flash pattern\n",
    "                if pattern is None:\n",
    "                    pattern, full = GUI.get_search_pattern()\n",
    "                elif (len(pattern)==1 or len(pattern)==0) and label:\n",
    "                    break\n",
    "                elif len(full)==2:\n",
    "                    break\n",
    "                else:\n",
    "                    pattern, full = GUI.get_search_pattern(prev_flash=full, response=label)\n",
    "\n",
    "                if not simulate:\n",
    "                    trial_start_time = time.time()\n",
    "\n",
    "                # Flash screen\n",
    "                sample_time = 0\n",
    "                while sample_time < self.sample_time:\n",
    "                    GUI.flash_keys(keys=pattern, target_letter=letter)\n",
    "\n",
    "                    # Select random flash time for inter-sample flashes\n",
    "                    flash_time = random.uniform(self.flash_time[0], self.flash_time[1])\n",
    "                    if sample_time + flash_time > self.sample_time:\n",
    "                        flash_time = self.sample_time - sample_time\n",
    "                    time.sleep(flash_time)\n",
    "                    sample_time += flash_time\n",
    "\n",
    "                # Get metadata and add to trials list\n",
    "                if not simulate:\n",
    "                    trial_end_time = time.time()\n",
    "                    trial_timestamps = (trial_start_time - start_time, trial_end_time - start_time)\n",
    "                    \n",
    "                label = self._get_label_keyboard(letter, pattern)\n",
    "                # print(\"Pattern : \"+str(pattern)) # Debugging print statements\n",
    "                # print(\"Label : \"+str(label))\n",
    "                # print(\"Letter : \"+str(letter))\n",
    "\n",
    "                # Create trial and add to trials list\n",
    "                if not simulate:\n",
    "                    trial = {\n",
    "                        'timestamp': trial_timestamps,\n",
    "                        'pattern': pattern,\n",
    "                        'letter': letter,\n",
    "                        'label': label\n",
    "                    }\n",
    "                    trials.append(trial)\n",
    "        \n",
    "        # Gather data and stop stream if not simulating\n",
    "        if not simulate:\n",
    "            data = board.get_data()\n",
    "            board.stop_stream()\n",
    "            del board\n",
    "\n",
    "        del GUI\n",
    "\n",
    "        # Save data to dict\n",
    "        if not simulate:\n",
    "            end_time = time.time() - start_time\n",
    "            metadata = {\n",
    "                'start_time': start_time, # time in seconds\n",
    "                'length': end_time, # time in seconds\n",
    "                'trials': trials, # [(start, end), (start, end), ...]\n",
    "                'flash_time_range': self.flash_time, # time in seconds\n",
    "                'sample_time': self.sample_time, # time in seconds\n",
    "                'description': description # Text description passed in as an input\n",
    "            }\n",
    "\n",
    "            session_data = [{\n",
    "                'metadata': metadata, # {'start_time': start_time, 'length': length 'flash_time': flash_time, 'trials': [{'timestamp': (start, end), 'pattern': pattern, 'letter': letter, 'label' label}...}}\n",
    "                'data': data # [channel_1, channel_2, ..., channel_24]\n",
    "            }]\n",
    "\n",
    "            self.add_data({'keyboard_data': session_data})\n",
    "\n",
    "    def _get_label_keyboard(self, letter, pattern):\n",
    "        \"\"\"Determines whether the target letter was in the flashing keys.\"\"\"\n",
    "        if letter in pattern:\n",
    "            return True\n",
    "        else:\n",
    "            return False\n",
    "\n",
    "    def add_data(self, data):\n",
    "        \"\"\"Adds data to the data dictionary.\n",
    "\n",
    "        Args:\n",
    "            data (dict): The data to add to the dictionary.\n",
    "        \"\"\"\n",
    "\n",
    "        for key in data.keys():\n",
    "            if key in self.__data.keys():\n",
    "                self.__data[key].extend(data[key]) # append to existing key\n",
    "            else:\n",
    "                self.__data[key] = data[key] # create new key"
   ]
  },
  {
   "cell_type": "markdown",
   "metadata": {},
   "source": [
    "The following code blocks run the scripts to collect data. Each session of data is attached to an unstructured description to allow the user to specify anything notable about the data collection session, such as environmental conditions, electrical impedance, and factors about the subject that would affect their neurochemistry like hours of sleep. The code below is in 'simulation' mode so that it can be run without the Cyton board. The GUIs are controlled by pressing any key to start and pressing any key to end a session."
   ]
  },
  {
   "cell_type": "code",
   "execution_count": 6,
   "metadata": {},
   "outputs": [],
   "source": [
    "# Imports and initialization\n",
    "import pickle\n",
    "import datetime\n",
    "session_num = \"1\"\n",
    "handler = DataAcquisitionHandler()"
   ]
  },
  {
   "cell_type": "code",
   "execution_count": 7,
   "metadata": {},
   "outputs": [],
   "source": [
    "# Data collection session description\n",
    "time_of_day = \"Time: \"+datetime.datetime.now().strftime(\"%H%M\")+\"/n\"\n",
    "sleep = \"Sleep last night: 7 hours/n\"\n",
    "location = \"Location: College dorm room/n\"\n",
    "score = \"Conducive environment to collect data (1/10): 9/n\"\n",
    "conditions = \"Conditions: Dark room.. ~11 in monitor displaying GUI. Fullscreen/n\"\n",
    "sound = \"Sound: Mostly quiet/n\"\n",
    "verification = \"Impedence verified visually on OpenBCI GUI/n\"\n",
    "impedence = \"Impedence: ~5/n\"\n",
    "message = time_of_day + sleep + location + conditions + score + verification + sound + impedence"
   ]
  },
  {
   "cell_type": "markdown",
   "metadata": {},
   "source": [
    "The box GUI features flashing boxes in the middle of the screen. The user specifies the size of the box as an argument in the 'run_data_trial_box()' method. Whether or not the GUI flashes is randomized, meaning that a user might have to wait through several negative sample collections before they see the screen flash. After collecting the data, the entire 'DataAcquisitionHandler' object is printed to file using the 'pickle' library. These files will be read and the data preprocessed later in the process."
   ]
  },
  {
   "cell_type": "code",
   "execution_count": 8,
   "metadata": {},
   "outputs": [
    {
     "ename": "KeyboardInterrupt",
     "evalue": "",
     "output_type": "error",
     "traceback": [
      "\u001b[1;31m---------------------------------------------------------------------------\u001b[0m",
      "\u001b[1;31mKeyboardInterrupt\u001b[0m                         Traceback (most recent call last)",
      "\u001b[1;32mc:\\Users\\c25th\\code\\P300_BCI_Speller\\README.ipynb Cell 17\u001b[0m line \u001b[0;36m2\n\u001b[0;32m      <a href='vscode-notebook-cell:/c%3A/Users/c25th/code/P300_BCI_Speller/README.ipynb#X22sZmlsZQ%3D%3D?line=0'>1</a>\u001b[0m \u001b[39m# Run box data collection session\u001b[39;00m\n\u001b[1;32m----> <a href='vscode-notebook-cell:/c%3A/Users/c25th/code/P300_BCI_Speller/README.ipynb#X22sZmlsZQ%3D%3D?line=1'>2</a>\u001b[0m handler\u001b[39m.\u001b[39;49mrun_data_trial_box(box_size\u001b[39m=\u001b[39;49m\u001b[39m500\u001b[39;49m, description\u001b[39m=\u001b[39;49mmessage, simulate\u001b[39m=\u001b[39;49m\u001b[39mTrue\u001b[39;49;00m)\n\u001b[0;32m      <a href='vscode-notebook-cell:/c%3A/Users/c25th/code/P300_BCI_Speller/README.ipynb#X22sZmlsZQ%3D%3D?line=3'>4</a>\u001b[0m \u001b[39m# Save data\u001b[39;00m\n\u001b[0;32m      <a href='vscode-notebook-cell:/c%3A/Users/c25th/code/P300_BCI_Speller/README.ipynb#X22sZmlsZQ%3D%3D?line=4'>5</a>\u001b[0m save_data \u001b[39m=\u001b[39m \u001b[39mFalse\u001b[39;00m\n",
      "\u001b[1;32mc:\\Users\\c25th\\code\\P300_BCI_Speller\\README.ipynb Cell 17\u001b[0m line \u001b[0;36m5\n\u001b[0;32m     <a href='vscode-notebook-cell:/c%3A/Users/c25th/code/P300_BCI_Speller/README.ipynb#X22sZmlsZQ%3D%3D?line=52'>53</a>\u001b[0m     board \u001b[39m=\u001b[39m Board(\u001b[39mself\u001b[39m\u001b[39m.\u001b[39m__board_port)\n\u001b[0;32m     <a href='vscode-notebook-cell:/c%3A/Users/c25th/code/P300_BCI_Speller/README.ipynb#X22sZmlsZQ%3D%3D?line=54'>55</a>\u001b[0m \u001b[39m# Wait for any button press to start sequence\u001b[39;00m\n\u001b[1;32m---> <a href='vscode-notebook-cell:/c%3A/Users/c25th/code/P300_BCI_Speller/README.ipynb#X22sZmlsZQ%3D%3D?line=55'>56</a>\u001b[0m \u001b[39mwhile\u001b[39;00m \u001b[39mTrue\u001b[39;00m:\n\u001b[0;32m     <a href='vscode-notebook-cell:/c%3A/Users/c25th/code/P300_BCI_Speller/README.ipynb#X22sZmlsZQ%3D%3D?line=56'>57</a>\u001b[0m     \u001b[39mif\u001b[39;00m GUI\u001b[39m.\u001b[39mbutton_press():\n\u001b[0;32m     <a href='vscode-notebook-cell:/c%3A/Users/c25th/code/P300_BCI_Speller/README.ipynb#X22sZmlsZQ%3D%3D?line=57'>58</a>\u001b[0m         \u001b[39mbreak\u001b[39;00m\n",
      "\u001b[1;31mKeyboardInterrupt\u001b[0m: "
     ]
    }
   ],
   "source": [
    "# Run box data collection session\n",
    "handler.run_data_trial_box(box_size=500, description=message, simulate=True)\n",
    "\n",
    "# Save data\n",
    "save_data = False\n",
    "if save_data:\n",
    "    filename = \"C:/Users/c25th/code/P300_BCI_Speller/\"\n",
    "    filename += \"data/handlers/\"\n",
    "    filename += \"handler_\"+datetime.datetime.now().strftime(\"%Y-%m-%d\")+\"_\"+session_num+\".pkl\"\n",
    "    with open(filename, 'wb') as f:\n",
    "                pickle.dump(handler, f)"
   ]
  },
  {
   "cell_type": "markdown",
   "metadata": {},
   "source": [
    "The keyboard GUI features a QWERTY keyboard which performs a binary search to locate the letter a subject is looking at. During data collection, the target letter is randomized and displayed by the GUI at the bottom left corner of the frame."
   ]
  },
  {
   "cell_type": "code",
   "execution_count": null,
   "metadata": {},
   "outputs": [],
   "source": [
    "# Run keyboard data collection session\n",
    "handler.run_data_trial_QWERTY(window_size=(1900, 1050),description=message, simulate=True)\n",
    "\n",
    "# Save data\n",
    "save_data = False\n",
    "if save_data:\n",
    "    filename = \"C:/Users/c25th/code/P300_BCI_Speller/\"\n",
    "    filename += \"data/handlers/\"\n",
    "    filename += \"handler_\"+datetime.datetime.now().strftime(\"%Y-%m-%d\")+\"_\"+session_num+\".pkl\"\n",
    "    with open(filename, 'wb') as f:\n",
    "                pickle.dump(handler, f)"
   ]
  },
  {
   "cell_type": "markdown",
   "metadata": {},
   "source": [
    "These GUIs produce the p300 stimulus when they flash. The randomization of the colors, the time intervals, and if the GUI flashes maximizes the p300 response since the subject cannot predict or expect certain stimuli with precision. The colors were selected to maximize the flashes' contrast with the background."
   ]
  },
  {
   "cell_type": "markdown",
   "metadata": {},
   "source": [
    "\n",
    "##### Data Collection for Curriculum Training\n",
    "Designing two different methods to elicit the p300 response serves to enable the machine learning model to converge faster. Theoretically, the more pronounced the p300 response is in the data, the easier it will be for the model to identify it. Interpreted another way, the loss landscape for data with a more pronounced p300 response is less complex than it would be otherwise, meaning that the model would be less likely to get stuck in an unusable local minimum during training. An acceptable local minimum for this 'easy' dataset would likely be close enough to an acceptable local minimum for the 'harder' dataset. Thus, pretraining the model on the 'easy' dataset would enable the model to converge much faster on the 'hard' dataset. In this context, the 'easy' dataset includes samples gathered from the box GUI since having the entire screen flash takes up more visual space---and thus more cognitive space---than flashing a key on a QWERTY keyboard. The 'hard' dataset is composed of samples collected from the QWERTY keyboard. This process of pretraining on an 'easy' dataset before training the model directly on your real objective is referred to as 'curriculum training'."
   ]
  },
  {
   "cell_type": "markdown",
   "metadata": {},
   "source": [
    "### Data Preprocessing\n",
    "Similarly to all electrical signal data, EEG data is extremely messy. In this project, the following cleaning methods were implemented to filter out extraneous data and help the model converge:\n",
    "- Common Averaging\n",
    "- Bandpass Filtering\n",
    "- Signals Smoothing\n",
    "\n",
    "Before implementing the above cleaning steps, we will load the 'DataAcquisitionHandler' objects and move the data to a 'DataObject' object to better organize the data and modularize the codebase."
   ]
  },
  {
   "cell_type": "code",
   "execution_count": 7,
   "metadata": {},
   "outputs": [],
   "source": [
    "# Define the 'load_data' function to load all files in a directory\n",
    "def load_data(directory):\n",
    "  \"\"\"Loads all files in a directory into a list.\n",
    "\n",
    "  Args:\n",
    "    directory: The directory to load files from.\n",
    "\n",
    "  Returns:\n",
    "    A list of all the loaded files.\n",
    "  \"\"\"\n",
    "\n",
    "  files = []\n",
    "  for filename in os.listdir(directory):\n",
    "    with open(os.path.join(directory, filename), \"rb\") as f:\n",
    "      files.append(pickle.load(f))\n",
    "\n",
    "  return files"
   ]
  },
  {
   "cell_type": "code",
   "execution_count": 8,
   "metadata": {},
   "outputs": [],
   "source": [
    "# Define the 'DataObject' class and all its composition classes\n",
    "class DataObject:\n",
    "    \"\"\"This class is a wrapper for the data collected from the Cyton board.\"\"\"\n",
    "\n",
    "    def __init__(self, data_dict, window_len = 250):\n",
    "        \"\"\"Initializes the DataObject with all the data.\n",
    "\n",
    "        Args:\n",
    "            data_dict (dict): The data dictionary from the handler object.\n",
    "            window_len (int): The length of the window to use for each sample.\n",
    "        \"\"\"\n",
    "\n",
    "        self.keyboard_sessions = []\n",
    "\n",
    "        if 'keyboard_data' in data_dict.keys():\n",
    "            keyboard_session_list = data_dict['keyboard_data']\n",
    "\n",
    "            for session_dict in keyboard_session_list:\n",
    "                self.keyboard_sessions.append(SessionData(session_dict=session_dict, type='keyboard', window_len = window_len))\n",
    "\n",
    "        self.box_sessions = []\n",
    "\n",
    "        if 'box_data' in data_dict.keys():\n",
    "            box_session_list = data_dict['box_data']\n",
    "\n",
    "            for session_dict in box_session_list:\n",
    "                self.box_sessions.append(SessionData(session_dict=session_dict, type='box', window_len = window_len))\n",
    "\n",
    "\n",
    "    def get_data(self, decorator=None, type='box'):\n",
    "        \"\"\"Gets the data from the DataObject.\n",
    "\n",
    "        Args:\n",
    "            decorator (object): The decorator object to use.\n",
    "            type (str): The type of data to get. Either 'box' or 'keyboard'.\n",
    "        \"\"\"\n",
    "        if decorator is None:\n",
    "            keyboard_data = self.keyboard_sessions\n",
    "            box_data = self.box_sessions\n",
    "        else:\n",
    "            keyboard_data, box_data = decorator.visit_data_object(object=self)\n",
    "        return (keyboard_data, box_data)\n",
    "    \n",
    "    def accept(self, visitor):\n",
    "        \"\"\"Accepts a visitor object and calls the visit_data_object method.\"\"\"\n",
    "        visitor.visit_data_object(object=self)\n",
    "\n",
    "\n",
    "\n",
    "\n",
    "class SessionData:\n",
    "    \"\"\"This class is a wrapper for the data collected from a single session.\"\"\"\n",
    "    \n",
    "    def __init__(self, session_dict, type, window_len = 250):\n",
    "        \"\"\"Initializes the SessionData with all the data.\n",
    "\n",
    "        Args:\n",
    "            session_dict (dict): The session dictionary from the handler object.\n",
    "            type (str): The type of session. Either 'box' or 'keyboard'.\n",
    "            window_len (int): The length of the window to use for each sample.\n",
    "        \"\"\"\n",
    "        metadata = session_dict['metadata']\n",
    "        self.data = session_dict['data']\n",
    "        self.start_time = metadata['start_time']\n",
    "        self.length = metadata['length']\n",
    "        self.flash_time_range = metadata['flash_time_range']\n",
    "        self.sample_time = metadata['sample_time']\n",
    "        self.description = metadata['description']\n",
    "        self.type = type\n",
    "\n",
    "        # Create trials list\n",
    "        self.trials = []\n",
    "        for trial in metadata['trials']:\n",
    "            if self.type == 'keyboard':\n",
    "                self.trials.append(KeyboardTrialData(trial_dict=trial, parent_session=self, window_len = window_len))\n",
    "            elif self.type == 'box':\n",
    "                self.trials.append(BoxTrialData(trial_dict=trial, parent_session=self, window_len = window_len))\n",
    "            else:\n",
    "                raise ValueError('Session type must be either keyboard or box')\n",
    "\n",
    "    def get_data(self, decorator=None):\n",
    "        \"\"\"Gets the data from the SessionData.\n",
    "\n",
    "        Args:\n",
    "            decorator (object): The decorator object to use.\n",
    "        \"\"\"\n",
    "        if decorator is None:\n",
    "            trials = self.trials\n",
    "        else:\n",
    "            trials = decorator.visit_session_data(session=self)\n",
    "        return trials\n",
    "    \n",
    "    def accept(self, visitor):\n",
    "        \"\"\"Accepts a visitor object and calls the visit_session_data method.\"\"\"\n",
    "        visitor.visit_session_data(session=self)\n",
    "\n",
    "\n",
    "\n",
    "class TrialData:\n",
    "    \"\"\"This class is a wrapper for the data collected from a single trial.\"\"\"\n",
    "\n",
    "    def __init__(self, trial_dict, parent_session, window_len = 250):\n",
    "        \"\"\"Initializes the TrialData with all the data.\n",
    "\n",
    "        Args:\n",
    "            trial_dict (dict): The trial dictionary from the handler object.\n",
    "            parent_session (object): The parent session object.\n",
    "            window_len (int): The length of the window to use for each sample.\n",
    "        \"\"\"\n",
    "        timestamp = trial_dict['timestamp']\n",
    "        data_len = len(parent_session.data[0])\n",
    "        self.start_idx = (int) ( (timestamp[0] / parent_session.length) * data_len )\n",
    "        self.end_idx = self.start_idx + window_len\n",
    "        self.label = trial_dict['label']\n",
    "        self.parent_session = parent_session\n",
    "\n",
    "    def get_data(self, decorator=None):\n",
    "        \"\"\"Gets the data from the TrialData.\n",
    "\n",
    "        Args:\n",
    "            decorator (object): The decorator object to use.\n",
    "        \"\"\"\n",
    "        if decorator is None:\n",
    "            data = self.parent_session.data[:, self.start_idx:self.end_idx]\n",
    "        else:\n",
    "            data = decorator.visit_trial_data(trial=self)\n",
    "        return data\n",
    "    \n",
    "    def accept(self, visitor):\n",
    "        \"\"\"Accepts a visitor object and calls the visit_trial_data method.\"\"\"\n",
    "        visitor.visit_trial_data(trial=self)\n",
    "    \n",
    "\n",
    "\n",
    "class BoxTrialData(TrialData):\n",
    "    \"\"\"A subclass of TrialData for box trials.\"\"\"\n",
    "\n",
    "    def __init__(self, trial_dict, parent_session, window_len = 250):\n",
    "        super().__init__(trial_dict, parent_session, window_len = window_len)\n",
    "\n",
    "\n",
    "\n",
    "class KeyboardTrialData(TrialData):\n",
    "    \"\"\"A subclass of TrialData for keyboard trials.\"\"\"\n",
    "\n",
    "    def __init__(self, trial_dict, parent_session, window_len = 250):\n",
    "        super().__init__(trial_dict, parent_session, window_len = window_len)\n",
    "        self.pattern = trial_dict['pattern']\n",
    "        self.letter = trial_dict['letter']"
   ]
  },
  {
   "cell_type": "code",
   "execution_count": null,
   "metadata": {},
   "outputs": [],
   "source": [
    "# Load all 'DataAcquisitionHandler' objects from a directory\n",
    "import os\n",
    "dir = \"data/handlers\"\n",
    "handler_list = []\n",
    "handler_list.extend(load_data(dir))"
   ]
  },
  {
   "cell_type": "markdown",
   "metadata": {},
   "source": [
    "In order to proceed, we need the data to all be in on 'DataObject'. The following code block defines a visitor that combines the data from one 'DataObject' into a different 'DataObject'. The code block after it combines all the data into a single 'DataObject'."
   ]
  },
  {
   "cell_type": "code",
   "execution_count": 9,
   "metadata": {},
   "outputs": [],
   "source": [
    "# Define a 'DataVisitor' template class\n",
    "\n",
    "\n",
    "class DataVisitor(object):\n",
    "\n",
    "    def visit_data_object(self, object):\n",
    "        raise NotImplementedError\n",
    "    \n",
    "    def visit_session_data(self, session):\n",
    "        raise NotImplementedError\n",
    "\n",
    "    def visit_trial_data(self, trial):\n",
    "        raise NotImplementedError"
   ]
  },
  {
   "cell_type": "code",
   "execution_count": 10,
   "metadata": {},
   "outputs": [],
   "source": [
    "# Define the 'AddDataVisitor' class\n",
    "\n",
    "\n",
    "class AddDataVisitor(DataVisitor):\n",
    "    \"\"\"Adds data to the DataObject\"\"\"\n",
    "\n",
    "    def __init__(self, dataObj):\n",
    "        \"\"\"Initializes the AddDataVisitor.\n",
    "        \n",
    "        Args:\n",
    "            dataObj (object): The DataObject to add data to.\n",
    "        \"\"\"\n",
    "        self.data = dataObj\n",
    "\n",
    "    def visit_data_object(self, object):\n",
    "        \"\"\"Adds data to the DataObject.\n",
    "\n",
    "        Args:\n",
    "            object (object): The DataObject to add data to.\n",
    "        \"\"\"\n",
    "        object.keyboard_sessions.extend(self.data.keyboard_sessions)\n",
    "        object.box_sessions.extend(self.data.box_sessions)\n",
    "    \n",
    "    def visit_session_data(self, session):\n",
    "        pass\n",
    "    \n",
    "    def visit_trial_data(self, trial):\n",
    "        pass"
   ]
  },
  {
   "cell_type": "code",
   "execution_count": 14,
   "metadata": {},
   "outputs": [],
   "source": [
    "# Combine all Handler objects into one single DataObject\n",
    "data = DataObject(handler_list.pop(0).get_data())\n",
    "for handler in handler_list:\n",
    "    new_data_obj = DataObject(handler.get_data())\n",
    "    data.accept(AddDataVisitor(new_data_obj))"
   ]
  },
  {
   "cell_type": "markdown",
   "metadata": {},
   "source": [
    "##### Common Averaging\n",
    "Variations in the placement of the helmet, electrical impedance, and numerous other factors can influence the average numeric value of a signal. Furthermore, the size of the p300 response can vary. These differences in magnitude among samples often hurt machine learning models' performances. This project normalizes the data using common averaging. Thus, data is generally normalized prior to training a model. The following code blocks defines a visitor object to normalize all the data in a 'DataObject' using common averaging."
   ]
  },
  {
   "cell_type": "code",
   "execution_count": 11,
   "metadata": {},
   "outputs": [],
   "source": [
    "# Define the 'CommonAveragingVisitor' class\n",
    "\n",
    "\n",
    "class CommonAveragingVisitor(DataVisitor):\n",
    "    \n",
    "    def __init__(self):\n",
    "        pass\n",
    "\n",
    "    def visit_data_object(self, object):\n",
    "        for session in object.keyboard_sessions:\n",
    "            self.visit_session_data(session=session)\n",
    "\n",
    "        for session in object.box_sessions:\n",
    "            self.visit_session_data(session=session)\n",
    "\n",
    "    def visit_session_data(self, session):\n",
    "        data = []\n",
    "        for i, channel in enumerate(session.data):\n",
    "            if len(channel) == 0:\n",
    "                continue\n",
    "\n",
    "            # Only the channels with EM data will be filtered\n",
    "            if i>1 and i<9:\n",
    "                data.append(self.common_average(channel))\n",
    "            else:\n",
    "                data.append(channel)\n",
    "        session.data = np.array(data)\n",
    "\n",
    "    def common_average(self, channel):\n",
    "        avg_signal = np.mean(channel, axis=0)\n",
    "        avg_final = channel - avg_signal\n",
    "        norm_data = (avg_final - np.min(avg_final)) / (np.max(avg_final) - np.min(avg_final))\n",
    "        final_data = np.sqrt(norm_data)\n",
    "        return final_data"
   ]
  },
  {
   "cell_type": "markdown",
   "metadata": {},
   "source": [
    "##### Bandpass Filtering\n",
    "The p300 stimulus response only occurs between 0.1 Hz and 30 Hz. Thus, every signal outside of that frequency range is noise and should be removed using a bandpass filter. The following code blocks define a filtering visitor template and a bandpass filter visitor."
   ]
  },
  {
   "cell_type": "code",
   "execution_count": 12,
   "metadata": {},
   "outputs": [],
   "source": [
    "# Define the 'FilterVisitor' class\n",
    "\n",
    "\n",
    "class FilterVisitor(DataVisitor):\n",
    "    \"\"\"Temmplate class for filtering data.\"\"\"\n",
    "\n",
    "    SAMPLE_RATE = 250\n",
    "    ORDER = 3\n",
    "\n",
    "    def __init__():\n",
    "        raise NotImplementedError\n",
    "\n",
    "    def visit_data_object(self, object):\n",
    "        \"\"\"Filters all the data in the DataObject. Offloads logic to visit_session_data().\n",
    "\n",
    "        Args:\n",
    "            object (object): The DataObject to filter.\n",
    "        \"\"\"\n",
    "        for session in object.keyboard_sessions:\n",
    "            self.visit_session_data(session=session)\n",
    "\n",
    "        for session in object.box_sessions:\n",
    "            self.visit_session_data(session=session)\n",
    "    \n",
    "    def visit_session_data(self, session):\n",
    "        \"\"\"Filters all the data in the SessionData. Offloads logic to filter().\n",
    "\n",
    "        Args:\n",
    "            session (object): The SessionData to filter.\n",
    "        \"\"\"\n",
    "        data = []\n",
    "        for i, channel in enumerate(session.data):\n",
    "            # Only the channels with EM data will be filtered\n",
    "            if i>1 and i<9:\n",
    "                data.append(self.filter(channel))\n",
    "            else:\n",
    "                data.append(channel)\n",
    "\n",
    "        session.data = np.array(data)\n",
    "\n",
    "    def visit_trial_data(self, trial):\n",
    "        pass\n",
    "\n",
    "    def filter(self, data):\n",
    "        raise NotImplementedError\n",
    "    \n"
   ]
  },
  {
   "cell_type": "code",
   "execution_count": 13,
   "metadata": {},
   "outputs": [],
   "source": [
    "# Define the 'BandpassFilterVisitor' class\n",
    "import scipy.signal as signal\n",
    "\n",
    "\n",
    "class BandpassFilterVisitor(FilterVisitor):\n",
    "    \"\"\"Filters data using a bandpass filter.\"\"\"\n",
    "\n",
    "    def __init__(self, low, high):\n",
    "        \"\"\"Initializes the BandpassFilterVisitor.\n",
    "\n",
    "        Args:\n",
    "            low (int): The low cutoff frequency.\n",
    "            high (int): The high cutoff frequency.\n",
    "        \"\"\"\n",
    "        self.low = low\n",
    "        self.high = high\n",
    "\n",
    "    def filter(self, data):\n",
    "        \"\"\"Bandpass filter using scipy.signal.butter\n",
    "        \n",
    "        Args:\n",
    "            data (list): The data to filter.\n",
    "        \"\"\"\n",
    "        b, a = signal.butter(3, [self.low, self.high], btype='bandpass', fs=self.SAMPLE_RATE)\n",
    "        return signal.lfilter(b, a, data)"
   ]
  },
  {
   "cell_type": "markdown",
   "metadata": {},
   "source": [
    "##### Signals Smoothing\n",
    "Signal data is plagued with random surges and irregular spikes that can drown out the desired signal. Smoothing the signal suppresses this randomness leaving only the longer trends. The p300 should yield a longer trend than background neural processes. This project smooths the data to suppress that background noise so it does not overwhelm the machine learning model. The following code block defines the visitor to smooth the data."
   ]
  },
  {
   "cell_type": "code",
   "execution_count": 14,
   "metadata": {},
   "outputs": [],
   "source": [
    "# Define the 'SmoothDataVisitor' class\n",
    "\n",
    "\n",
    "class SmoothDataVisitor(FilterVisitor):\n",
    "    \"\"\"Smooths data using a moving average.\"\"\"\n",
    "\n",
    "    SAMPLE_RATE = 250\n",
    "\n",
    "    def __init__(self, n=15, low=0.1, high=30):\n",
    "        \"\"\"Initializes the SmoothDataVisitor.\n",
    "\n",
    "        Args:\n",
    "            n (int): The number of samples to use for the moving average.\n",
    "            low (int): The low cutoff frequency.\n",
    "            high (int): The high cutoff frequency.\n",
    "        \"\"\"\n",
    "        self.n = n\n",
    "        self.b = [1.0/n] * n\n",
    "        _, self.a = signal.butter(3, [low, high], btype='bandpass', fs=self.SAMPLE_RATE)\n",
    "\n",
    "    def filter(self, channel):\n",
    "        \"\"\"Smooths the data using a moving average and a bandpass filter.\n",
    "\n",
    "        Args:\n",
    "            channel (list): The data to smooth.\n",
    "        \"\"\"\n",
    "        return signal.lfilter(self.b, self.a, channel)"
   ]
  },
  {
   "cell_type": "markdown",
   "metadata": {},
   "source": [
    "Now, we have a single data object with all our data and the visitor objects to clean the data. The following code block applies all the aforementioned cleaning steps to the data."
   ]
  },
  {
   "cell_type": "code",
   "execution_count": 19,
   "metadata": {},
   "outputs": [
    {
     "name": "stderr",
     "output_type": "stream",
     "text": [
      "C:\\Users\\c25th\\AppData\\Local\\Temp\\ipykernel_11116\\3941977868.py:32: RuntimeWarning: invalid value encountered in divide\n",
      "  norm_data = (avg_final - np.min(avg_final)) / (np.max(avg_final) - np.min(avg_final))\n"
     ]
    }
   ],
   "source": [
    "# Filter the data\n",
    "data.accept(BandpassFilterVisitor(low=0.1, high=30))\n",
    "data.accept(CommonAveragingVisitor())\n",
    "data.accept(SmoothDataVisitor(low=0.1, high=30, n=15))"
   ]
  },
  {
   "cell_type": "markdown",
   "metadata": {},
   "source": [
    "### Data Loading\n",
    "Now that the data is fully preprocessed, we will format it into a pytorch dataloader to train a neural network. The 'get_data()' method in the 'DataObject' accepts decorator objects as an argument. The following code blocks define a template decorator object, a decorator object to format the data into windows of fixed size, and a decorator to transform the data from numpy arrays into pytorch tensor windows of fixed size."
   ]
  },
  {
   "cell_type": "code",
   "execution_count": 15,
   "metadata": {},
   "outputs": [],
   "source": [
    "# Define the 'DataDecorator' template class\n",
    "\n",
    "\n",
    "class DataDecorator(object):\n",
    "\n",
    "    def visit_data_object(object):\n",
    "        raise NotImplementedError\n",
    "    \n",
    "    def visit_session_data(session):\n",
    "        raise NotImplementedError\n",
    "    \n",
    "    def visit_trial_data(trial, raw_data):\n",
    "        raise NotImplementedError"
   ]
  },
  {
   "cell_type": "code",
   "execution_count": 16,
   "metadata": {},
   "outputs": [],
   "source": [
    "# Define the 'MakeWindowsDataDecorator' class\n",
    "\n",
    "\n",
    "class MakeWindowsDataDecorator(DataDecorator):\n",
    "    \"\"\"\n",
    "    Returns a list of tuples ( data_window, label )\n",
    "    \"\"\"\n",
    "\n",
    "    def __init__(self):\n",
    "        pass\n",
    "\n",
    "\n",
    "    def visit_data_object(self, object):\n",
    "        \"\"\"\n",
    "        Returns a tuple of lists of tuples ( [( data_windows, label ) ...], [( data_windows, label ) ...] )\n",
    "        This first is the keyboard data, the second is the box data\n",
    "        \"\"\"\n",
    "        keyboard_sessions = object.keyboard_sessions\n",
    "        box_sessions = object.box_sessions\n",
    "\n",
    "        keyboard_data = []\n",
    "        for session in keyboard_sessions:\n",
    "            keyboard_data.extend(self.visit_session_data(session=session))\n",
    "\n",
    "        box_data = []\n",
    "        for session in box_sessions:\n",
    "            box_data.extend(self.visit_session_data(session=session))\n",
    "\n",
    "        return ( keyboard_data, box_data)\n",
    "    \n",
    "\n",
    "    def visit_session_data(self, session):\n",
    "        \"\"\"\n",
    "        Returns a list of tuples ( data_windows, label )\n",
    "        \"\"\"\n",
    "        data = []\n",
    "        for trial in session.trials:\n",
    "            data.append(self.visit_trial_data(trial=trial))\n",
    "        return data\n",
    "    \n",
    "\n",
    "    def visit_trial_data(self, trial):\n",
    "        \"\"\"\n",
    "        Returns a tuple ( data_windows, label )\n",
    "        \"\"\"\n",
    "\n",
    "        window = self.transform_window(trial.parent_session.data[:, trial.start_idx:trial.end_idx])\n",
    "        label = self.transform_label(trial.label)\n",
    "\n",
    "        return ( window, label )\n",
    "    \n",
    "    def transform_window(window):\n",
    "        return window\n",
    "    \n",
    "    def transform_label(label):\n",
    "        return label"
   ]
  },
  {
   "cell_type": "code",
   "execution_count": 17,
   "metadata": {},
   "outputs": [],
   "source": [
    "# Define the 'MakeTensorWindowsDataDecorator' class\n",
    "\n",
    "\n",
    "class MakeTensorWindowsDataDecorator(MakeWindowsDataDecorator):\n",
    "    \"\"\"\n",
    "    Returns a list of tuples ( data_window, label ) for each window in the format of a pytorch tensor\n",
    "    \"\"\"\n",
    "\n",
    "    def transform_label(self, label):\n",
    "        if not label:\n",
    "            label = 0\n",
    "        elif label:\n",
    "            label = 1\n",
    "        else:\n",
    "            raise ValueError('MakeTensorWindowsDataVisitor object/ transform_label method: Label must be a boolean')\n",
    "        \n",
    "        return torch.tensor(label)\n",
    "    \n",
    "    def transform_window(self, window):\n",
    "        return torch.from_numpy(window).float()"
   ]
  },
  {
   "cell_type": "markdown",
   "metadata": {},
   "source": [
    "The following code block retrieves the data from the DataObject and converts it into a list of tuples ( data_window, label ) for each window in the format of a pytorch tensor. It also prints the sizes of each nested list/tensor and an example sample to verify the process worked as expected."
   ]
  },
  {
   "cell_type": "code",
   "execution_count": 23,
   "metadata": {},
   "outputs": [
    {
     "name": "stdout",
     "output_type": "stream",
     "text": [
      "Number of samples: 2989\n",
      "Sample Size - (channels, label): (24, torch.Size([]))\n",
      "Channels size: torch.Size([24, 250])\n",
      "Sample example: (tensor([[ 1.6800e+02,  1.6900e+02,  1.7000e+02,  ...,  1.5900e+02,\n",
      "          1.6000e+02,  1.6100e+02],\n",
      "        [-2.3582e+04, -2.2705e+04, -1.9829e+04,  ..., -2.3476e+04,\n",
      "         -2.0718e+04, -1.9507e+04],\n",
      "        [ 1.8678e+07,  1.8803e+07,  1.8927e+07,  ...,  6.2734e+07,\n",
      "          6.2960e+07,  6.3187e+07],\n",
      "        ...,\n",
      "        [ 0.0000e+00,  0.0000e+00,  0.0000e+00,  ...,  0.0000e+00,\n",
      "          0.0000e+00,  0.0000e+00],\n",
      "        [ 1.7008e+09,  1.7008e+09,  1.7008e+09,  ...,  1.7008e+09,\n",
      "          1.7008e+09,  1.7008e+09],\n",
      "        [ 0.0000e+00,  0.0000e+00,  0.0000e+00,  ...,  0.0000e+00,\n",
      "          0.0000e+00,  0.0000e+00]]), tensor(1))\n"
     ]
    }
   ],
   "source": [
    "# Format data\n",
    "import torch\n",
    "keyboard_data, box_data = data.get_data(decorator=MakeTensorWindowsDataDecorator())\n",
    "\n",
    "# Verify everything worked as expected\n",
    "sample = box_data[0]\n",
    "print(\"Number of samples:\", len(box_data) + len(keyboard_data))\n",
    "print(\"Sample Size - (channels, label): ({}, {})\".format(len(box_data[0][0]), box_data[0][1].size()))\n",
    "print(\"Channels size:\", box_data[0][0].size())\n",
    "print(\"Sample example:\", sample)"
   ]
  },
  {
   "cell_type": "markdown",
   "metadata": {},
   "source": [
    "Pytorch dataloaders iterate through pytorch datasets to create batches of data. This project defines a custom 'EEGDataset' class in the following code block. Next, the data is loaded into an 'EEGDataset' object."
   ]
  },
  {
   "cell_type": "code",
   "execution_count": 18,
   "metadata": {},
   "outputs": [],
   "source": [
    "# Define the 'EEGDataset' class\n",
    "from torch.utils.data import WeightedRandomSampler, Dataset\n",
    "\n",
    "class EEGDataset(Dataset):\n",
    "    \"\"\"EEG dataset.\"\"\"\n",
    "\n",
    "    def __init__(self, data):\n",
    "        \"\"\" Initializes the EEGDataset.\n",
    "\n",
    "        Args:\n",
    "            data (list of tuples (channels, label)): The data to use for the dataset.\n",
    "        \"\"\"\n",
    "        self.data, self.labels = self.parse_data(data)\n",
    "        self.window_size = self.data.shape[2]\n",
    "\n",
    "    def __len__(self):\n",
    "        return len(self.data)\n",
    "\n",
    "    def __getitem__(self, index):\n",
    "        return self.data[index], self.labels[index]\n",
    "    \n",
    "    def parse_data(self, data):\n",
    "        \"\"\" Parses the data into a 3D tensor (X) and a 1D tensor (Y).\n",
    "\n",
    "        Args:\n",
    "            data (list of tuples (channels, label)): The data to parse.\n",
    "                channels is a 2D tensor (channel number, readings)\n",
    "                label is a 1D tensor (1)\n",
    "\n",
    "        return:\n",
    "            tuple: (X, Y)\n",
    "                X: 3D tensor (samples, channels, readings)\n",
    "                Y: 1D label tensor (samples)\n",
    "        \"\"\"\n",
    "\n",
    "        data_list = []\n",
    "        label_list = []\n",
    "\n",
    "        channels_idx = (1, 9)\n",
    "\n",
    "        for sample in data:\n",
    "            data_list.append(sample[0][channels_idx[0]:channels_idx[1]])\n",
    "            label_list.append(sample[1])\n",
    "\n",
    "        return torch.stack(data_list), torch.stack(label_list)\n",
    "    \n",
    "    def downsample(self):\n",
    "        \"\"\" Downsamples the dataset by removing samples from the majority class. \"\"\"\n",
    "\n",
    "        label_counts = torch.bincount(self.labels)\n",
    "        min_count = torch.min(label_counts).item()\n",
    "\n",
    "        downsampled_data = []\n",
    "        downsampled_labels = []\n",
    "        samples_per_class = dict()\n",
    "\n",
    "        # Iterate over data and add samples to the new downsampled dataset\n",
    "        for i in range(len(self.data)):\n",
    "            label = self.labels[i].item()\n",
    "            # If the class is not in the dictionary, or the count for this class is less than the minimum count\n",
    "            if samples_per_class.get(label, 0) < min_count:\n",
    "                # Add the sample to the downsampled set\n",
    "                downsampled_data.append(self.data[i])\n",
    "                downsampled_labels.append(self.labels[i])\n",
    "                # Increment the count for this class in the dictionary\n",
    "                samples_per_class[label] = samples_per_class.get(label, 0) + 1\n",
    "\n",
    "        # Replace the dataset with the downsampled set, stacked into tensors\n",
    "        self.data = torch.stack(downsampled_data)\n",
    "        self.labels = torch.stack(downsampled_labels)"
   ]
  },
  {
   "cell_type": "code",
   "execution_count": 19,
   "metadata": {},
   "outputs": [
    {
     "ename": "NameError",
     "evalue": "name 'torch' is not defined",
     "output_type": "error",
     "traceback": [
      "\u001b[1;31m---------------------------------------------------------------------------\u001b[0m",
      "\u001b[1;31mNameError\u001b[0m                                 Traceback (most recent call last)",
      "Cell \u001b[1;32mIn[19], line 4\u001b[0m\n\u001b[0;32m      1\u001b[0m \u001b[38;5;66;03m# Create dataset\u001b[39;00m\n\u001b[0;32m      2\u001b[0m \n\u001b[0;32m      3\u001b[0m \u001b[38;5;66;03m# Set seed\u001b[39;00m\n\u001b[1;32m----> 4\u001b[0m \u001b[43mtorch\u001b[49m\u001b[38;5;241m.\u001b[39mmanual_seed(\u001b[38;5;241m0\u001b[39m)\n\u001b[0;32m      6\u001b[0m \u001b[38;5;66;03m# Make dataset\u001b[39;00m\n\u001b[0;32m      7\u001b[0m dataset \u001b[38;5;241m=\u001b[39m EEGDataset(box_data)\n",
      "\u001b[1;31mNameError\u001b[0m: name 'torch' is not defined"
     ]
    }
   ],
   "source": [
    "# Create dataset\n",
    "\n",
    "# Set seed\n",
    "torch.manual_seed(0)\n",
    "\n",
    "# Make dataset\n",
    "dataset = EEGDataset(box_data)"
   ]
  },
  {
   "cell_type": "markdown",
   "metadata": {},
   "source": [
    "Although this project's method of collecting data makes it likely that the data will have almost as many samples of each class, it does not guarantee it. If a machine learning model is trained on a dataset with too many of one class, it will learn to always predict that class. To avoid this, we balance the dataset. There are two main methods of balancing datasets. The first is to augment the under-represented class by duplicating samples or adding transformed samples. The second method is to 'downsample', which means to remove samples of the over-represented class until the dataset contains equal amounts of classes. In this project, we undersample the dataset since it is more costly to transform the dataset with augmentations than it is to just collect more data. Thus, we will have an abundance of data and can afford to downsample."
   ]
  },
  {
   "cell_type": "code",
   "execution_count": 26,
   "metadata": {},
   "outputs": [],
   "source": [
    "# Even out class distribution by downsampling\n",
    "dataset.downsample()"
   ]
  },
  {
   "cell_type": "markdown",
   "metadata": {},
   "source": [
    "The following code block splits the dataset into a training, validation, and testing dataset. The datasets are used to create 'DataLoader' objects."
   ]
  },
  {
   "cell_type": "code",
   "execution_count": 20,
   "metadata": {},
   "outputs": [],
   "source": [
    "# Create training, validation, and testing dataloaders\n",
    "from torch.utils.data import DataLoader\n",
    "\n",
    "# Split into train and test\n",
    "train_size = int(0.8 * len(dataset))\n",
    "val_size = int(0.1 * len(dataset))\n",
    "test_size = len(dataset) - train_size - val_size\n",
    "train_dataset, val_dataset, test_dataset = torch.utils.data.random_split(dataset, [train_size, val_size, test_size])\n",
    "\n",
    "# Create dataloaders\n",
    "batch_size = 32\n",
    "train_loader = DataLoader(train_dataset, batch_size=batch_size, shuffle=True)\n",
    "val_loader = DataLoader(val_dataset, batch_size=batch_size, shuffle=True)\n",
    "test_loader = DataLoader(test_dataset, batch_size=batch_size, shuffle=True)\n",
    "\n",
    "# Print sizes\n",
    "print(\"Train loader size:\", len(train_loader))\n",
    "print(\"Val loader size:\", len(val_loader))\n",
    "print(\"Test loader size:\", len(test_loader))"
   ]
  },
  {
   "cell_type": "markdown",
   "metadata": {},
   "source": [
    "Although the overall dataset is balanced, each individual dataloader is not balanced. The following code block plots the distribution of labels so we can visually verify the distribution of the training dataloader is not problematic."
   ]
  },
  {
   "cell_type": "code",
   "execution_count": 28,
   "metadata": {},
   "outputs": [
    {
     "data": {
      "image/png": "[encoded data removed]",
      "text/plain": [
       "<Figure size 640x480 with 1 Axes>"
      ]
     },
     "metadata": {},
     "output_type": "display_data"
    }
   ],
   "source": [
    "# Display the class distribution for the training dataloader\n",
    "from matplotlib import pyplot as plt\n",
    "\n",
    "# Difference between positive and negative samples for each batch\n",
    "differences = []\n",
    "\n",
    "# Analyze class distribution for each batch\n",
    "for _, labels in train_loader:\n",
    "    positive_count = (labels == 1).sum().item()\n",
    "    negative_count = (labels == 0).sum().item()\n",
    "    \n",
    "    # Compute the difference and append to the list\n",
    "    differences.append(positive_count - negative_count)\n",
    "\n",
    "# Plotting the histogram\n",
    "fig, ax = plt.subplots()\n",
    "ax.hist(differences, bins=range(min(differences), max(differences) + 2), align='left')\n",
    "ax.set_xlabel('More Negative Samples <---------------------> More Positive Samples     ')\n",
    "ax.set_ylabel('Frequency')\n",
    "ax.set_title('Frequency of Class Imbalance in Batches')\n",
    "ax.axvline(0, color='red', linewidth=1)  # Draw a vertical line at zero for reference\n",
    "\n",
    "plt.show()"
   ]
  },
  {
   "cell_type": "markdown",
   "metadata": {},
   "source": [
    "Now, the data is completely ready for model training. The following code block prints the data to file using pytorch's built-in functionality."
   ]
  },
  {
   "cell_type": "code",
   "execution_count": 44,
   "metadata": {},
   "outputs": [],
   "source": [
    "# Print the dataloaders to file\n",
    "filepath = \"data/dataloaders/\"\n",
    "date = datetime.datetime.now().strftime(\"%Y-%m-%d\")\n",
    "\n",
    "train_filename = \"train_loader_\"+str(date)+\".txt\"\n",
    "val_filename = \"val_loader_\"+str(date)+\".txt\"\n",
    "test_filename = \"test_loader_\"+str(date)+\".txt\"\n",
    "\n",
    "torch.save(train_loader, filepath+train_filename)\n",
    "torch.save(val_loader, filepath+val_filename)\n",
    "torch.save(test_loader, filepath+test_filename)"
   ]
  },
  {
   "cell_type": "markdown",
   "metadata": {},
   "source": [
    "### Model Development\n",
    "The first model trained in this project was a simple convolutional neural network with five  one-dimensional convolutional layers and two dense layers. The network is sized to receive an input of 250 observations, which includes readings from the start of the stimulus to roughly 250 milliseconds past the surfacing of the p300 response. Batch normalization was applied to each of the convolutional layers to minimize overfitting. An Exponential Linear Unit (ELU) activation function was used to introduce non-linearity. This activation function selection was based on experimental results from the [Universal Joint Feature Extraction for P300 EEG Classification Using Multi-Task Autoencoder](https://github.com/IoBT-VISTEC/Pre-trained-EEG-for-Deep-Learning) project."
   ]
  },
  {
   "cell_type": "code",
   "execution_count": 21,
   "metadata": {},
   "outputs": [],
   "source": [
    "# Define EEG_Net_CNN class\n",
    "import torch\n",
    "import torch.nn as nn\n",
    "\n",
    "\n",
    "class EEG_Net_CNN(torch.nn.Module):\n",
    "    \"\"\" Pytorch implementation of EEGNet\n",
    "\n",
    "    Expecting input of shape (batch_size, channels, readings)\n",
    "    input = [batch_size, 8, 250] = [batch_size, channels, readings]\n",
    "    batch_size: number of samples in a batch\n",
    "    channels: number of channels in a sample\n",
    "    readings: number of readings in a channel\n",
    "    \"\"\"\n",
    "    \n",
    "    def __init__(self, num_channels=8, num_classes=2, input_length=250):\n",
    "        \"\"\" Initializes the EEG_Net_CNN.\n",
    "        \n",
    "        Args:\n",
    "            num_channels (int): The number of channels in the input.\n",
    "            num_classes (int): The number of classes in the output.\n",
    "            input_length (int): The length of the input.\n",
    "        \"\"\"\n",
    "        super(EEG_Net_CNN, self).__init__()\n",
    "\n",
    "        # Conv1\n",
    "        self.conv1 = torch.nn.Sequential(\n",
    "            nn.Conv1d(num_channels, 16, kernel_size=3, stride=1, padding=0, bias=False),\n",
    "            nn.BatchNorm1d(16),\n",
    "            nn.ELU(alpha=1.0),\n",
    "            nn.AvgPool1d(kernel_size=3, stride=1, padding=0)\n",
    "            # nn.Dropout(p=0.25)\n",
    "        )\n",
    "\n",
    "        # Conv2\n",
    "        self.conv2 = torch.nn.Sequential(\n",
    "            nn.Conv1d(16, 32, kernel_size=3, stride=1, padding=0, bias=False),\n",
    "            nn.BatchNorm1d(32),\n",
    "            nn.ELU(alpha=1.0),\n",
    "            nn.AvgPool1d(kernel_size=3, stride=1, padding=0)\n",
    "            # nn.Dropout(p=0.25)\n",
    "        )\n",
    "\n",
    "        # Conv3\n",
    "        self.conv3 = torch.nn.Sequential(\n",
    "            nn.Conv1d(32, 64, kernel_size=3, stride=1, padding=0, bias=False),\n",
    "            nn.BatchNorm1d(64),\n",
    "            nn.ELU(alpha=1.0),\n",
    "            nn.AvgPool1d(kernel_size=3, stride=1, padding=0)\n",
    "            # nn.Dropout(p=0.25)\n",
    "        )\n",
    "\n",
    "        # Conv4\n",
    "        self.conv4 = torch.nn.Sequential(\n",
    "            nn.Conv1d(64, 128, kernel_size=3, stride=1, padding=0, bias=False),\n",
    "            nn.BatchNorm1d(128),\n",
    "            nn.ELU(alpha=1.0),\n",
    "            nn.AvgPool1d(kernel_size=3, stride=1, padding=0)\n",
    "            # nn.Dropout(p=0.25)\n",
    "        )\n",
    "\n",
    "        # Conv5\n",
    "        self.conv5 = torch.nn.Sequential(\n",
    "            nn.Conv1d(128, 256, kernel_size=3, stride=1, padding=0, bias=False),\n",
    "            nn.BatchNorm1d(256),\n",
    "            nn.ELU(alpha=1.0),\n",
    "            nn.AvgPool1d(kernel_size=3, stride=1, padding=0)\n",
    "            # nn.Dropout(p=0.25)\n",
    "        )\n",
    "\n",
    "        # Output\n",
    "        self.out = torch.nn.Sequential(\n",
    "            nn.Linear(58880, 512),\n",
    "            nn.ReLU(),\n",
    "            nn.Linear(512, num_classes)\n",
    "        )\n",
    "\n",
    "    def forward(self, x):\n",
    "        # print(\"Input: \",x.shape)\n",
    "        x = self.conv1(x)\n",
    "        # print(\"Conv1 output: \", x.shape)\n",
    "        x = self.conv2(x)\n",
    "        # print(\"Conv2 output: \", x.shape)\n",
    "        x = self.conv3(x)\n",
    "        # print(\"Conv3 output: \", x.shape)\n",
    "        x = self.conv4(x)\n",
    "        # print(\"Conv4 output: \", x.shape)\n",
    "        x = self.conv5(x)\n",
    "        # print(\"Conv5 output: \", x.shape)\n",
    "        x = x.view(x.size(0), -1)\n",
    "        # print(\"Flattened output: \", x.shape)\n",
    "        x = self.out(x)\n",
    "\n",
    "        return x"
   ]
  },
  {
   "cell_type": "markdown",
   "metadata": {},
   "source": [
    "### Model Training\n",
    "The Universal Joint Feature Extraction for P300 EEG Classification Using Multi-Task Autoencoder project also used the 'Adam' optimizer, which dynamically adjusts learning rates. It handles sparse gradients on noisy problems, like signals regression, very well. This project used 'Binary Cross Entropy Loss' as the loss function. This is the standard choice of loss function for binary classification problems. The following three code blocks define a training and testing function, initialize the model, loss function, and optimizer, and trains and tests the model."
   ]
  },
  {
   "cell_type": "code",
   "execution_count": 29,
   "metadata": {},
   "outputs": [],
   "source": [
    "# Define the training and testing functions\n",
    "from tqdm import tqdm\n",
    "\n",
    "def train(train_dataloader, val_dataloader, model, loss_fn, optimizer, num_epochs):\n",
    "    \"\"\"Trains the model.\n",
    "\n",
    "    Args:\n",
    "        train_dataloader (DataLoader): The training dataloader.\n",
    "        val_dataloader (DataLoader): The validation dataloader.\n",
    "        model (object): The model to train.\n",
    "        loss_fn (object): The loss function to use.\n",
    "        optimizer (object): The optimizer to use.\n",
    "        num_epochs (int): The number of epochs to train for.\n",
    "    \"\"\"\n",
    "    train_losses = []\n",
    "    val_losses = []\n",
    "    train_accuracies = []\n",
    "    val_accuracies = []\n",
    "    \n",
    "    for epoch in range(num_epochs):\n",
    "        \n",
    "        # Training phase\n",
    "        model.train()\n",
    "        running_loss = 0.0\n",
    "        correct = 0\n",
    "        total = 0\n",
    "        for (X, y) in tqdm(train_dataloader):\n",
    "            optimizer.zero_grad()\n",
    "            pred = model(X) # Forward pass\n",
    "            loss = loss_fn(pred, y)\n",
    "            loss.backward() # Backward pass\n",
    "            optimizer.step()\n",
    "            \n",
    "            # Compute metrics\n",
    "            running_loss += loss.item()\n",
    "            correct += (pred.argmax(1) == y).type(torch.float).sum().item()\n",
    "            total += y.size(0)\n",
    "\n",
    "        # Compute metrics\n",
    "        avg_train_loss = running_loss / len(train_dataloader)\n",
    "        avg_train_acc = correct / total\n",
    "        \n",
    "        train_losses.append(avg_train_loss)\n",
    "        train_accuracies.append(avg_train_acc)\n",
    "        \n",
    "        # Validation phase\n",
    "        model.eval()\n",
    "        val_loss = 0.0\n",
    "        correct = 0\n",
    "        total = 0\n",
    "        with torch.no_grad():\n",
    "            for X, y in tqdm(val_dataloader):\n",
    "                pred = model(X)\n",
    "                loss = loss_fn(pred, y)\n",
    "                \n",
    "                val_loss += loss.item()\n",
    "                correct += (pred.argmax(1) == y).type(torch.float).sum().item()\n",
    "                total += y.size(0)\n",
    "        \n",
    "        # Compute metrics\n",
    "        avg_val_loss = val_loss / len(val_dataloader)\n",
    "        avg_val_acc = correct / total\n",
    "        \n",
    "        val_losses.append(avg_val_loss)\n",
    "        val_accuracies.append(avg_val_acc)\n",
    "        \n",
    "        print(f'Epoch {epoch+1} - Train Loss: {avg_train_loss:.4f} - Train Accuracy: {avg_train_acc:.4f} - Val Loss: {avg_val_loss:.4f} - Val Accuracy: {avg_val_acc:.4f}')\n",
    "\n",
    "    # Plot Loaas & Accuracy Charts\n",
    "    plt.figure(figsize=(12, 5))\n",
    "    plt.subplot(1, 2, 1)\n",
    "    plt.title(\"Loss\")\n",
    "    plt.plot(train_losses, label='Train')\n",
    "    plt.plot(val_losses, label='Validation')\n",
    "    plt.xlabel('Epoch')\n",
    "    plt.ylabel('Loss')\n",
    "    plt.legend()\n",
    "\n",
    "    plt.subplot(1, 2, 2)\n",
    "    plt.title(\"Accuracy\")\n",
    "    plt.plot(train_accuracies, label='Train')\n",
    "    plt.plot(val_accuracies, label='Validation')\n",
    "    plt.xlabel('Epoch')\n",
    "    plt.ylabel('Accuracy')\n",
    "    plt.legend()\n",
    "\n",
    "    plt.show()\n",
    "\n",
    "    return train_losses, val_losses, train_accuracies, val_accuracies\n",
    "\n",
    "def test(dataloader, model, loss_fn):\n",
    "    \"\"\"Tests the model.\n",
    "\n",
    "    Args:\n",
    "        dataloader (DataLoader): The test dataloader.\n",
    "        model (object): The model to test.\n",
    "        loss_fn (object): The loss function to use.\n",
    "    \"\"\"\n",
    "    size = len(dataloader.dataset)\n",
    "    num_batches = len(dataloader)\n",
    "    model.eval()\n",
    "    test_loss, correct = 0, 0\n",
    "    with torch.no_grad():\n",
    "        for X, y in tqdm(dataloader):\n",
    "            pred = model(X)\n",
    "            test_loss += loss_fn(pred, y).item()\n",
    "            correct += (pred.argmax(1) == y).type(torch.float).sum().item()\n",
    "    test_loss /= num_batches\n",
    "    correct /= size\n",
    "    print(f'Test Error: \\n Accuracy: {(100*correct):>0.1f}%, Avg loss: {test_loss:>8f} \\n')"
   ]
  },
  {
   "cell_type": "code",
   "execution_count": 36,
   "metadata": {},
   "outputs": [],
   "source": [
    "# Define big ass dense network model\n",
    "\n",
    "# Define EEG_Net_CNN class\n",
    "import torch\n",
    "import torch.nn as nn\n",
    "\n",
    "\n",
    "class Big_Ass_Dense_Net(torch.nn.Module):\n",
    "    \n",
    "    def __init__(self, num_channels=8, num_classes=2, input_length=250):\n",
    "        \"\"\" Initializes the EEG_Net_CNN.\n",
    "        \n",
    "        Args:\n",
    "            num_channels (int): The number of channels in the input.\n",
    "            num_classes (int): The number of classes in the output.\n",
    "            input_length (int): The length of the input.\n",
    "        \"\"\"\n",
    "        super(Big_Ass_Dense_Net, self).__init__()\n",
    "        hidden_size = input_length*num_channels*3\n",
    "\n",
    "        self.dense1 = nn.Sequential(\n",
    "            nn.Linear(input_length*num_channels, hidden_size),\n",
    "            nn.ReLU()\n",
    "        )\n",
    "        self.dense2 = nn.Sequential(\n",
    "            nn.Linear(hidden_size, hidden_size),\n",
    "            nn.ReLU()\n",
    "        )\n",
    "        self.dense3 = nn.Sequential(\n",
    "            nn.Linear(hidden_size, hidden_size),\n",
    "            nn.ReLU()\n",
    "        )\n",
    "        self.dense4 = nn.Sequential(\n",
    "            nn.Linear(hidden_size, hidden_size),\n",
    "            nn.ReLU()\n",
    "        )\n",
    "        self.dense5= nn.Sequential(\n",
    "            nn.Linear(hidden_size, hidden_size),\n",
    "            nn.ReLU()\n",
    "        )\n",
    "        self.dense6 = nn.Sequential(\n",
    "            nn.Linear(hidden_size, hidden_size),\n",
    "            nn.ReLU()\n",
    "        )\n",
    "        self.dense7 = nn.Sequential(\n",
    "            nn.Linear(hidden_size, hidden_size),\n",
    "            nn.ReLU()\n",
    "        )\n",
    "        self.dense8 = nn.Sequential(\n",
    "            nn.Linear(hidden_size, hidden_size),\n",
    "            nn.ReLU()\n",
    "        )\n",
    "        self.dense9 = nn.Sequential(\n",
    "            nn.Linear(hidden_size, hidden_size),\n",
    "            nn.ReLU()\n",
    "        )\n",
    "        self.out = nn.Sequential(\n",
    "            nn.Linear(hidden_size, num_classes),\n",
    "            nn.Softmax()\n",
    "        )\n",
    "\n",
    "    def forward(self, x):\n",
    "        x = x.view(x.size(0), -1)\n",
    "        x = self.dense1(x)\n",
    "        x = self.dense2(x)\n",
    "        x = self.dense3(x)\n",
    "        x = self.dense4(x)\n",
    "        x = self.dense5(x)\n",
    "        x = self.dense6(x)\n",
    "        x = self.dense7(x)\n",
    "        x = self.dense8(x)\n",
    "        x = self.dense9(x)\n",
    "        x = self.out(x)\n",
    "\n",
    "        return x"
   ]
  },
  {
   "cell_type": "code",
   "execution_count": 37,
   "metadata": {},
   "outputs": [],
   "source": [
    "# Initialize model, loss function, and optimizer\n",
    "model = Big_Ass_Dense_Net()\n",
    "loss_fn = torch.nn.CrossEntropyLoss()\n",
    "# optimizer = torch.optim.Adam(model.parameters())\n",
    "optimizer = torch.optim.SGD(model.parameters(), lr=0.001, momentum=0.9)"
   ]
  },
  {
   "cell_type": "code",
   "execution_count": 26,
   "metadata": {},
   "outputs": [],
   "source": [
    "# Load Dataloaders\n",
    "filepath = \"data/dataloaders/\"\n",
    "date = \"2023-12-04\"#datetime.datetime.now().strftime(\"%Y-%m-%d\")\n",
    "\n",
    "train_filename = \"train_loader_\"+str(date)+\".txt\"\n",
    "val_filename = \"val_loader_\"+str(date)+\".txt\"\n",
    "test_filename = \"test_loader_\"+str(date)+\".txt\"\n",
    "\n",
    "train_loader = torch.load(filepath+train_filename)\n",
    "val_loader = torch.load(filepath+val_filename)\n",
    "test_loader = torch.load(filepath+test_filename)"
   ]
  },
  {
   "cell_type": "code",
   "execution_count": 38,
   "metadata": {},
   "outputs": [
    {
     "name": "stderr",
     "output_type": "stream",
     "text": [
      "  0%|          | 0/70 [00:00<?, ?it/s]c:\\Users\\c25th\\AppData\\Local\\Programs\\Python\\Python311\\Lib\\site-packages\\torch\\nn\\modules\\module.py:1518: UserWarning: Implicit dimension choice for softmax has been deprecated. Change the call to include dim=X as an argument.\n",
      "  return self._call_impl(*args, **kwargs)\n",
      "100%|██████████| 70/70 [01:08<00:00,  1.02it/s]\n",
      "100%|██████████| 9/9 [00:01<00:00,  6.05it/s]\n"
     ]
    },
    {
     "name": "stdout",
     "output_type": "stream",
     "text": [
      "Epoch 1 - Train Loss: 0.7786 - Train Accuracy: 0.5061 - Val Loss: 0.8252 - Val Accuracy: 0.4493\n"
     ]
    },
    {
     "name": "stderr",
     "output_type": "stream",
     "text": [
      "100%|██████████| 70/70 [01:08<00:00,  1.02it/s]\n",
      "100%|██████████| 9/9 [00:01<00:00,  5.88it/s]\n"
     ]
    },
    {
     "name": "stdout",
     "output_type": "stream",
     "text": [
      "Epoch 2 - Train Loss: 0.7470 - Train Accuracy: 0.5034 - Val Loss: 0.7471 - Val Accuracy: 0.4457\n"
     ]
    },
    {
     "name": "stderr",
     "output_type": "stream",
     "text": [
      "100%|██████████| 70/70 [01:12<00:00,  1.03s/it]\n",
      "100%|██████████| 9/9 [00:01<00:00,  5.35it/s]\n"
     ]
    },
    {
     "name": "stdout",
     "output_type": "stream",
     "text": [
      "Epoch 3 - Train Loss: 0.7094 - Train Accuracy: 0.5002 - Val Loss: 0.6862 - Val Accuracy: 0.5471\n"
     ]
    },
    {
     "name": "stderr",
     "output_type": "stream",
     "text": [
      "100%|██████████| 70/70 [01:14<00:00,  1.06s/it]\n",
      "100%|██████████| 9/9 [00:01<00:00,  5.35it/s]\n"
     ]
    },
    {
     "name": "stdout",
     "output_type": "stream",
     "text": [
      "Epoch 4 - Train Loss: 0.7034 - Train Accuracy: 0.5156 - Val Loss: 0.6962 - Val Accuracy: 0.5616\n"
     ]
    },
    {
     "name": "stderr",
     "output_type": "stream",
     "text": [
      "100%|██████████| 70/70 [01:15<00:00,  1.08s/it]\n",
      "100%|██████████| 9/9 [00:01<00:00,  4.85it/s]\n"
     ]
    },
    {
     "name": "stdout",
     "output_type": "stream",
     "text": [
      "Epoch 5 - Train Loss: 0.7118 - Train Accuracy: 0.5093 - Val Loss: 0.7383 - Val Accuracy: 0.4493\n"
     ]
    },
    {
     "name": "stderr",
     "output_type": "stream",
     "text": [
      "100%|██████████| 70/70 [01:16<00:00,  1.09s/it]\n",
      "100%|██████████| 9/9 [00:01<00:00,  4.73it/s]\n"
     ]
    },
    {
     "name": "stdout",
     "output_type": "stream",
     "text": [
      "Epoch 6 - Train Loss: 0.7038 - Train Accuracy: 0.4903 - Val Loss: 0.7296 - Val Accuracy: 0.4493\n"
     ]
    },
    {
     "name": "stderr",
     "output_type": "stream",
     "text": [
      "100%|██████████| 70/70 [01:15<00:00,  1.07s/it]\n",
      "100%|██████████| 9/9 [00:01<00:00,  5.03it/s]\n"
     ]
    },
    {
     "name": "stdout",
     "output_type": "stream",
     "text": [
      "Epoch 7 - Train Loss: 0.7010 - Train Accuracy: 0.5165 - Val Loss: 0.6861 - Val Accuracy: 0.5616\n"
     ]
    },
    {
     "name": "stderr",
     "output_type": "stream",
     "text": [
      "100%|██████████| 70/70 [01:14<00:00,  1.07s/it]\n",
      "100%|██████████| 9/9 [00:01<00:00,  4.91it/s]\n"
     ]
    },
    {
     "name": "stdout",
     "output_type": "stream",
     "text": [
      "Epoch 8 - Train Loss: 0.6974 - Train Accuracy: 0.4885 - Val Loss: 0.7219 - Val Accuracy: 0.4529\n"
     ]
    },
    {
     "name": "stderr",
     "output_type": "stream",
     "text": [
      "100%|██████████| 70/70 [01:15<00:00,  1.08s/it]\n",
      "100%|██████████| 9/9 [00:01<00:00,  4.74it/s]\n"
     ]
    },
    {
     "name": "stdout",
     "output_type": "stream",
     "text": [
      "Epoch 9 - Train Loss: 0.6988 - Train Accuracy: 0.5093 - Val Loss: 0.7489 - Val Accuracy: 0.4493\n"
     ]
    },
    {
     "name": "stderr",
     "output_type": "stream",
     "text": [
      "100%|██████████| 70/70 [01:19<00:00,  1.14s/it]\n",
      "100%|██████████| 9/9 [00:01<00:00,  4.88it/s]\n"
     ]
    },
    {
     "name": "stdout",
     "output_type": "stream",
     "text": [
      "Epoch 10 - Train Loss: 0.6980 - Train Accuracy: 0.5124 - Val Loss: 0.6901 - Val Accuracy: 0.5435\n"
     ]
    },
    {
     "name": "stderr",
     "output_type": "stream",
     "text": [
      "100%|██████████| 70/70 [01:17<00:00,  1.11s/it]\n",
      "100%|██████████| 9/9 [00:01<00:00,  4.85it/s]\n"
     ]
    },
    {
     "name": "stdout",
     "output_type": "stream",
     "text": [
      "Epoch 11 - Train Loss: 0.6948 - Train Accuracy: 0.4894 - Val Loss: 0.6890 - Val Accuracy: 0.5761\n"
     ]
    },
    {
     "name": "stderr",
     "output_type": "stream",
     "text": [
      "100%|██████████| 70/70 [01:17<00:00,  1.11s/it]\n",
      "100%|██████████| 9/9 [00:01<00:00,  4.78it/s]\n"
     ]
    },
    {
     "name": "stdout",
     "output_type": "stream",
     "text": [
      "Epoch 12 - Train Loss: 0.6960 - Train Accuracy: 0.4871 - Val Loss: 0.7013 - Val Accuracy: 0.4493\n"
     ]
    },
    {
     "name": "stderr",
     "output_type": "stream",
     "text": [
      "100%|██████████| 70/70 [01:19<00:00,  1.13s/it]\n",
      "100%|██████████| 9/9 [00:01<00:00,  4.62it/s]\n"
     ]
    },
    {
     "name": "stdout",
     "output_type": "stream",
     "text": [
      "Epoch 13 - Train Loss: 0.6935 - Train Accuracy: 0.5066 - Val Loss: 0.6878 - Val Accuracy: 0.5725\n"
     ]
    },
    {
     "name": "stderr",
     "output_type": "stream",
     "text": [
      "100%|██████████| 70/70 [01:20<00:00,  1.14s/it]\n",
      "100%|██████████| 9/9 [00:01<00:00,  4.65it/s]\n"
     ]
    },
    {
     "name": "stdout",
     "output_type": "stream",
     "text": [
      "Epoch 14 - Train Loss: 0.6980 - Train Accuracy: 0.4853 - Val Loss: 0.6988 - Val Accuracy: 0.4457\n"
     ]
    },
    {
     "name": "stderr",
     "output_type": "stream",
     "text": [
      "100%|██████████| 70/70 [01:20<00:00,  1.15s/it]\n",
      "100%|██████████| 9/9 [00:01<00:00,  4.74it/s]\n"
     ]
    },
    {
     "name": "stdout",
     "output_type": "stream",
     "text": [
      "Epoch 15 - Train Loss: 0.6954 - Train Accuracy: 0.5165 - Val Loss: 0.6926 - Val Accuracy: 0.5290\n"
     ]
    },
    {
     "name": "stderr",
     "output_type": "stream",
     "text": [
      "100%|██████████| 70/70 [01:22<00:00,  1.18s/it]\n",
      "100%|██████████| 9/9 [00:01<00:00,  4.65it/s]\n"
     ]
    },
    {
     "name": "stdout",
     "output_type": "stream",
     "text": [
      "Epoch 16 - Train Loss: 0.6941 - Train Accuracy: 0.5093 - Val Loss: 0.7024 - Val Accuracy: 0.4384\n"
     ]
    },
    {
     "name": "stderr",
     "output_type": "stream",
     "text": [
      "100%|██████████| 70/70 [01:25<00:00,  1.22s/it]\n",
      "100%|██████████| 9/9 [00:01<00:00,  4.63it/s]\n"
     ]
    },
    {
     "name": "stdout",
     "output_type": "stream",
     "text": [
      "Epoch 17 - Train Loss: 0.6949 - Train Accuracy: 0.5251 - Val Loss: 0.6916 - Val Accuracy: 0.5254\n"
     ]
    },
    {
     "name": "stderr",
     "output_type": "stream",
     "text": [
      "100%|██████████| 70/70 [01:23<00:00,  1.20s/it]\n",
      "100%|██████████| 9/9 [00:01<00:00,  4.62it/s]\n"
     ]
    },
    {
     "name": "stdout",
     "output_type": "stream",
     "text": [
      "Epoch 18 - Train Loss: 0.6950 - Train Accuracy: 0.4948 - Val Loss: 0.7019 - Val Accuracy: 0.4384\n"
     ]
    },
    {
     "name": "stderr",
     "output_type": "stream",
     "text": [
      "100%|██████████| 70/70 [01:24<00:00,  1.21s/it]\n",
      "100%|██████████| 9/9 [00:01<00:00,  4.78it/s]\n"
     ]
    },
    {
     "name": "stdout",
     "output_type": "stream",
     "text": [
      "Epoch 19 - Train Loss: 0.6938 - Train Accuracy: 0.5179 - Val Loss: 0.6985 - Val Accuracy: 0.4565\n"
     ]
    },
    {
     "name": "stderr",
     "output_type": "stream",
     "text": [
      "100%|██████████| 70/70 [01:25<00:00,  1.22s/it]\n",
      "100%|██████████| 9/9 [00:01<00:00,  4.61it/s]\n"
     ]
    },
    {
     "name": "stdout",
     "output_type": "stream",
     "text": [
      "Epoch 20 - Train Loss: 0.6946 - Train Accuracy: 0.5143 - Val Loss: 0.7018 - Val Accuracy: 0.4493\n"
     ]
    },
    {
     "name": "stderr",
     "output_type": "stream",
     "text": [
      "100%|██████████| 70/70 [01:24<00:00,  1.21s/it]\n",
      "100%|██████████| 9/9 [00:01<00:00,  4.74it/s]\n"
     ]
    },
    {
     "name": "stdout",
     "output_type": "stream",
     "text": [
      "Epoch 21 - Train Loss: 0.6938 - Train Accuracy: 0.5066 - Val Loss: 0.6912 - Val Accuracy: 0.5109\n"
     ]
    },
    {
     "name": "stderr",
     "output_type": "stream",
     "text": [
      "100%|██████████| 70/70 [01:25<00:00,  1.22s/it]\n",
      "100%|██████████| 9/9 [00:02<00:00,  4.48it/s]\n"
     ]
    },
    {
     "name": "stdout",
     "output_type": "stream",
     "text": [
      "Epoch 22 - Train Loss: 0.6936 - Train Accuracy: 0.5084 - Val Loss: 0.6988 - Val Accuracy: 0.4493\n"
     ]
    },
    {
     "name": "stderr",
     "output_type": "stream",
     "text": [
      "100%|██████████| 70/70 [01:25<00:00,  1.22s/it]\n",
      "100%|██████████| 9/9 [00:01<00:00,  4.69it/s]\n"
     ]
    },
    {
     "name": "stdout",
     "output_type": "stream",
     "text": [
      "Epoch 23 - Train Loss: 0.6942 - Train Accuracy: 0.5093 - Val Loss: 0.6933 - Val Accuracy: 0.5181\n"
     ]
    },
    {
     "name": "stderr",
     "output_type": "stream",
     "text": [
      "100%|██████████| 70/70 [01:26<00:00,  1.23s/it]\n",
      "100%|██████████| 9/9 [00:01<00:00,  4.66it/s]\n"
     ]
    },
    {
     "name": "stdout",
     "output_type": "stream",
     "text": [
      "Epoch 24 - Train Loss: 0.6949 - Train Accuracy: 0.4998 - Val Loss: 0.6994 - Val Accuracy: 0.4529\n"
     ]
    },
    {
     "name": "stderr",
     "output_type": "stream",
     "text": [
      "100%|██████████| 70/70 [01:25<00:00,  1.23s/it]\n",
      "100%|██████████| 9/9 [00:01<00:00,  4.64it/s]\n"
     ]
    },
    {
     "name": "stdout",
     "output_type": "stream",
     "text": [
      "Epoch 25 - Train Loss: 0.6931 - Train Accuracy: 0.5138 - Val Loss: 0.6958 - Val Accuracy: 0.4457\n"
     ]
    },
    {
     "name": "stderr",
     "output_type": "stream",
     "text": [
      "100%|██████████| 70/70 [01:26<00:00,  1.23s/it]\n",
      "100%|██████████| 9/9 [00:01<00:00,  4.57it/s]\n"
     ]
    },
    {
     "name": "stdout",
     "output_type": "stream",
     "text": [
      "Epoch 26 - Train Loss: 0.6931 - Train Accuracy: 0.5097 - Val Loss: 0.6958 - Val Accuracy: 0.4529\n"
     ]
    },
    {
     "name": "stderr",
     "output_type": "stream",
     "text": [
      "100%|██████████| 70/70 [01:27<00:00,  1.25s/it]\n",
      "100%|██████████| 9/9 [00:01<00:00,  4.70it/s]\n"
     ]
    },
    {
     "name": "stdout",
     "output_type": "stream",
     "text": [
      "Epoch 27 - Train Loss: 0.6941 - Train Accuracy: 0.5066 - Val Loss: 0.6981 - Val Accuracy: 0.4457\n"
     ]
    },
    {
     "name": "stderr",
     "output_type": "stream",
     "text": [
      "100%|██████████| 70/70 [01:27<00:00,  1.25s/it]\n",
      "100%|██████████| 9/9 [00:01<00:00,  4.71it/s]\n"
     ]
    },
    {
     "name": "stdout",
     "output_type": "stream",
     "text": [
      "Epoch 28 - Train Loss: 0.6936 - Train Accuracy: 0.5120 - Val Loss: 0.6903 - Val Accuracy: 0.5036\n"
     ]
    },
    {
     "name": "stderr",
     "output_type": "stream",
     "text": [
      "100%|██████████| 70/70 [01:27<00:00,  1.25s/it]\n",
      "100%|██████████| 9/9 [00:01<00:00,  4.55it/s]\n"
     ]
    },
    {
     "name": "stdout",
     "output_type": "stream",
     "text": [
      "Epoch 29 - Train Loss: 0.6929 - Train Accuracy: 0.5034 - Val Loss: 0.7067 - Val Accuracy: 0.4384\n"
     ]
    },
    {
     "name": "stderr",
     "output_type": "stream",
     "text": [
      "100%|██████████| 70/70 [01:28<00:00,  1.26s/it]\n",
      "100%|██████████| 9/9 [00:01<00:00,  4.58it/s]\n"
     ]
    },
    {
     "name": "stdout",
     "output_type": "stream",
     "text": [
      "Epoch 30 - Train Loss: 0.6948 - Train Accuracy: 0.5124 - Val Loss: 0.6969 - Val Accuracy: 0.4384\n"
     ]
    },
    {
     "name": "stderr",
     "output_type": "stream",
     "text": [
      "100%|██████████| 70/70 [01:28<00:00,  1.27s/it]\n",
      "100%|██████████| 9/9 [00:01<00:00,  4.69it/s]\n"
     ]
    },
    {
     "name": "stdout",
     "output_type": "stream",
     "text": [
      "Epoch 31 - Train Loss: 0.6942 - Train Accuracy: 0.5061 - Val Loss: 0.7059 - Val Accuracy: 0.4493\n"
     ]
    },
    {
     "name": "stderr",
     "output_type": "stream",
     "text": [
      "100%|██████████| 70/70 [01:27<00:00,  1.26s/it]\n",
      "100%|██████████| 9/9 [00:01<00:00,  4.53it/s]\n"
     ]
    },
    {
     "name": "stdout",
     "output_type": "stream",
     "text": [
      "Epoch 32 - Train Loss: 0.6935 - Train Accuracy: 0.5079 - Val Loss: 0.6948 - Val Accuracy: 0.4529\n"
     ]
    },
    {
     "name": "stderr",
     "output_type": "stream",
     "text": [
      "100%|██████████| 70/70 [01:28<00:00,  1.26s/it]\n",
      "100%|██████████| 9/9 [00:01<00:00,  4.58it/s]\n"
     ]
    },
    {
     "name": "stdout",
     "output_type": "stream",
     "text": [
      "Epoch 33 - Train Loss: 0.6920 - Train Accuracy: 0.5129 - Val Loss: 0.7111 - Val Accuracy: 0.4384\n"
     ]
    },
    {
     "name": "stderr",
     "output_type": "stream",
     "text": [
      "100%|██████████| 70/70 [01:29<00:00,  1.28s/it]\n",
      "100%|██████████| 9/9 [00:01<00:00,  4.61it/s]\n"
     ]
    },
    {
     "name": "stdout",
     "output_type": "stream",
     "text": [
      "Epoch 34 - Train Loss: 0.6927 - Train Accuracy: 0.5188 - Val Loss: 0.6941 - Val Accuracy: 0.5109\n"
     ]
    },
    {
     "name": "stderr",
     "output_type": "stream",
     "text": [
      "100%|██████████| 70/70 [01:28<00:00,  1.26s/it]\n",
      "100%|██████████| 9/9 [00:01<00:00,  4.65it/s]\n"
     ]
    },
    {
     "name": "stdout",
     "output_type": "stream",
     "text": [
      "Epoch 35 - Train Loss: 0.6939 - Train Accuracy: 0.5129 - Val Loss: 0.6951 - Val Accuracy: 0.4565\n"
     ]
    },
    {
     "name": "stderr",
     "output_type": "stream",
     "text": [
      "100%|██████████| 70/70 [01:29<00:00,  1.27s/it]\n",
      "100%|██████████| 9/9 [00:01<00:00,  4.60it/s]\n"
     ]
    },
    {
     "name": "stdout",
     "output_type": "stream",
     "text": [
      "Epoch 36 - Train Loss: 0.6928 - Train Accuracy: 0.5079 - Val Loss: 0.6996 - Val Accuracy: 0.4384\n"
     ]
    },
    {
     "name": "stderr",
     "output_type": "stream",
     "text": [
      "100%|██████████| 70/70 [01:29<00:00,  1.27s/it]\n",
      "100%|██████████| 9/9 [00:01<00:00,  4.71it/s]\n"
     ]
    },
    {
     "name": "stdout",
     "output_type": "stream",
     "text": [
      "Epoch 37 - Train Loss: 0.6933 - Train Accuracy: 0.5129 - Val Loss: 0.6976 - Val Accuracy: 0.4529\n"
     ]
    },
    {
     "name": "stderr",
     "output_type": "stream",
     "text": [
      "100%|██████████| 70/70 [01:29<00:00,  1.28s/it]\n",
      "100%|██████████| 9/9 [00:01<00:00,  4.70it/s]\n"
     ]
    },
    {
     "name": "stdout",
     "output_type": "stream",
     "text": [
      "Epoch 38 - Train Loss: 0.6931 - Train Accuracy: 0.5156 - Val Loss: 0.6937 - Val Accuracy: 0.5072\n"
     ]
    },
    {
     "name": "stderr",
     "output_type": "stream",
     "text": [
      "100%|██████████| 70/70 [01:29<00:00,  1.27s/it]\n",
      "100%|██████████| 9/9 [00:01<00:00,  4.59it/s]\n"
     ]
    },
    {
     "name": "stdout",
     "output_type": "stream",
     "text": [
      "Epoch 39 - Train Loss: 0.6932 - Train Accuracy: 0.5048 - Val Loss: 0.6941 - Val Accuracy: 0.5072\n"
     ]
    },
    {
     "name": "stderr",
     "output_type": "stream",
     "text": [
      "100%|██████████| 70/70 [01:29<00:00,  1.28s/it]\n",
      "100%|██████████| 9/9 [00:01<00:00,  4.54it/s]\n"
     ]
    },
    {
     "name": "stdout",
     "output_type": "stream",
     "text": [
      "Epoch 40 - Train Loss: 0.6949 - Train Accuracy: 0.5066 - Val Loss: 0.6924 - Val Accuracy: 0.5181\n"
     ]
    },
    {
     "name": "stderr",
     "output_type": "stream",
     "text": [
      "100%|██████████| 70/70 [01:29<00:00,  1.28s/it]\n",
      "100%|██████████| 9/9 [00:01<00:00,  4.65it/s]\n"
     ]
    },
    {
     "name": "stdout",
     "output_type": "stream",
     "text": [
      "Epoch 41 - Train Loss: 0.6923 - Train Accuracy: 0.5143 - Val Loss: 0.6984 - Val Accuracy: 0.4529\n"
     ]
    },
    {
     "name": "stderr",
     "output_type": "stream",
     "text": [
      "100%|██████████| 70/70 [01:28<00:00,  1.27s/it]\n",
      "100%|██████████| 9/9 [00:01<00:00,  4.68it/s]\n"
     ]
    },
    {
     "name": "stdout",
     "output_type": "stream",
     "text": [
      "Epoch 42 - Train Loss: 0.6934 - Train Accuracy: 0.5134 - Val Loss: 0.6960 - Val Accuracy: 0.4493\n"
     ]
    },
    {
     "name": "stderr",
     "output_type": "stream",
     "text": [
      "100%|██████████| 70/70 [01:29<00:00,  1.27s/it]\n",
      "100%|██████████| 9/9 [00:01<00:00,  4.57it/s]\n"
     ]
    },
    {
     "name": "stdout",
     "output_type": "stream",
     "text": [
      "Epoch 43 - Train Loss: 0.6932 - Train Accuracy: 0.5061 - Val Loss: 0.6934 - Val Accuracy: 0.5145\n"
     ]
    },
    {
     "name": "stderr",
     "output_type": "stream",
     "text": [
      "100%|██████████| 70/70 [01:30<00:00,  1.29s/it]\n",
      "100%|██████████| 9/9 [00:02<00:00,  4.46it/s]\n"
     ]
    },
    {
     "name": "stdout",
     "output_type": "stream",
     "text": [
      "Epoch 44 - Train Loss: 0.6920 - Train Accuracy: 0.5156 - Val Loss: 0.7029 - Val Accuracy: 0.4493\n"
     ]
    },
    {
     "name": "stderr",
     "output_type": "stream",
     "text": [
      "100%|██████████| 70/70 [01:29<00:00,  1.28s/it]\n",
      "100%|██████████| 9/9 [00:01<00:00,  4.66it/s]\n"
     ]
    },
    {
     "name": "stdout",
     "output_type": "stream",
     "text": [
      "Epoch 45 - Train Loss: 0.6942 - Train Accuracy: 0.5088 - Val Loss: 0.6958 - Val Accuracy: 0.4493\n"
     ]
    },
    {
     "name": "stderr",
     "output_type": "stream",
     "text": [
      "100%|██████████| 70/70 [01:29<00:00,  1.28s/it]\n",
      "100%|██████████| 9/9 [00:01<00:00,  4.76it/s]\n"
     ]
    },
    {
     "name": "stdout",
     "output_type": "stream",
     "text": [
      "Epoch 46 - Train Loss: 0.6928 - Train Accuracy: 0.4975 - Val Loss: 0.6981 - Val Accuracy: 0.4529\n"
     ]
    },
    {
     "name": "stderr",
     "output_type": "stream",
     "text": [
      "100%|██████████| 70/70 [01:29<00:00,  1.28s/it]\n",
      "100%|██████████| 9/9 [00:01<00:00,  4.73it/s]\n"
     ]
    },
    {
     "name": "stdout",
     "output_type": "stream",
     "text": [
      "Epoch 47 - Train Loss: 0.6932 - Train Accuracy: 0.5075 - Val Loss: 0.6969 - Val Accuracy: 0.4384\n"
     ]
    },
    {
     "name": "stderr",
     "output_type": "stream",
     "text": [
      "100%|██████████| 70/70 [01:30<00:00,  1.30s/it]\n",
      "100%|██████████| 9/9 [00:01<00:00,  4.75it/s]\n"
     ]
    },
    {
     "name": "stdout",
     "output_type": "stream",
     "text": [
      "Epoch 48 - Train Loss: 0.6937 - Train Accuracy: 0.5075 - Val Loss: 0.6976 - Val Accuracy: 0.4493\n"
     ]
    },
    {
     "name": "stderr",
     "output_type": "stream",
     "text": [
      "100%|██████████| 70/70 [01:30<00:00,  1.29s/it]\n",
      "100%|██████████| 9/9 [00:01<00:00,  4.58it/s]\n"
     ]
    },
    {
     "name": "stdout",
     "output_type": "stream",
     "text": [
      "Epoch 49 - Train Loss: 0.6939 - Train Accuracy: 0.5093 - Val Loss: 0.6993 - Val Accuracy: 0.4529\n"
     ]
    },
    {
     "name": "stderr",
     "output_type": "stream",
     "text": [
      "100%|██████████| 70/70 [01:31<00:00,  1.30s/it]\n",
      "100%|██████████| 9/9 [00:01<00:00,  4.73it/s]\n"
     ]
    },
    {
     "name": "stdout",
     "output_type": "stream",
     "text": [
      "Epoch 50 - Train Loss: 0.6936 - Train Accuracy: 0.5165 - Val Loss: 0.7028 - Val Accuracy: 0.4348\n"
     ]
    },
    {
     "name": "stderr",
     "output_type": "stream",
     "text": [
      "100%|██████████| 70/70 [01:32<00:00,  1.32s/it]\n",
      "100%|██████████| 9/9 [00:01<00:00,  4.64it/s]\n"
     ]
    },
    {
     "name": "stdout",
     "output_type": "stream",
     "text": [
      "Epoch 51 - Train Loss: 0.6932 - Train Accuracy: 0.5152 - Val Loss: 0.6968 - Val Accuracy: 0.4493\n"
     ]
    },
    {
     "name": "stderr",
     "output_type": "stream",
     "text": [
      "100%|██████████| 70/70 [01:32<00:00,  1.32s/it]\n",
      "100%|██████████| 9/9 [00:01<00:00,  4.69it/s]\n"
     ]
    },
    {
     "name": "stdout",
     "output_type": "stream",
     "text": [
      "Epoch 52 - Train Loss: 0.6936 - Train Accuracy: 0.5115 - Val Loss: 0.6973 - Val Accuracy: 0.4384\n"
     ]
    },
    {
     "name": "stderr",
     "output_type": "stream",
     "text": [
      "100%|██████████| 70/70 [01:32<00:00,  1.32s/it]\n",
      "100%|██████████| 9/9 [00:01<00:00,  4.54it/s]\n"
     ]
    },
    {
     "name": "stdout",
     "output_type": "stream",
     "text": [
      "Epoch 53 - Train Loss: 0.6927 - Train Accuracy: 0.5165 - Val Loss: 0.6947 - Val Accuracy: 0.4457\n"
     ]
    },
    {
     "name": "stderr",
     "output_type": "stream",
     "text": [
      "100%|██████████| 70/70 [01:33<00:00,  1.34s/it]\n",
      "100%|██████████| 9/9 [00:01<00:00,  4.64it/s]\n"
     ]
    },
    {
     "name": "stdout",
     "output_type": "stream",
     "text": [
      "Epoch 54 - Train Loss: 0.6923 - Train Accuracy: 0.5183 - Val Loss: 0.6947 - Val Accuracy: 0.4457\n"
     ]
    },
    {
     "name": "stderr",
     "output_type": "stream",
     "text": [
      "100%|██████████| 70/70 [01:33<00:00,  1.34s/it]\n",
      "100%|██████████| 9/9 [00:01<00:00,  4.51it/s]\n"
     ]
    },
    {
     "name": "stdout",
     "output_type": "stream",
     "text": [
      "Epoch 55 - Train Loss: 0.6925 - Train Accuracy: 0.5156 - Val Loss: 0.6948 - Val Accuracy: 0.4420\n"
     ]
    },
    {
     "name": "stderr",
     "output_type": "stream",
     "text": [
      "100%|██████████| 70/70 [01:33<00:00,  1.34s/it]\n",
      "100%|██████████| 9/9 [00:02<00:00,  4.32it/s]\n"
     ]
    },
    {
     "name": "stdout",
     "output_type": "stream",
     "text": [
      "Epoch 56 - Train Loss: 0.6938 - Train Accuracy: 0.5134 - Val Loss: 0.6948 - Val Accuracy: 0.4384\n"
     ]
    },
    {
     "name": "stderr",
     "output_type": "stream",
     "text": [
      "100%|██████████| 70/70 [01:33<00:00,  1.33s/it]\n",
      "100%|██████████| 9/9 [00:01<00:00,  4.63it/s]\n"
     ]
    },
    {
     "name": "stdout",
     "output_type": "stream",
     "text": [
      "Epoch 57 - Train Loss: 0.6932 - Train Accuracy: 0.5038 - Val Loss: 0.6982 - Val Accuracy: 0.4493\n"
     ]
    },
    {
     "name": "stderr",
     "output_type": "stream",
     "text": [
      "100%|██████████| 70/70 [01:32<00:00,  1.33s/it]\n",
      "100%|██████████| 9/9 [00:01<00:00,  4.82it/s]\n"
     ]
    },
    {
     "name": "stdout",
     "output_type": "stream",
     "text": [
      "Epoch 58 - Train Loss: 0.6925 - Train Accuracy: 0.5161 - Val Loss: 0.6937 - Val Accuracy: 0.5109\n"
     ]
    },
    {
     "name": "stderr",
     "output_type": "stream",
     "text": [
      "100%|██████████| 70/70 [01:33<00:00,  1.33s/it]\n",
      "100%|██████████| 9/9 [00:01<00:00,  4.77it/s]\n"
     ]
    },
    {
     "name": "stdout",
     "output_type": "stream",
     "text": [
      "Epoch 59 - Train Loss: 0.6920 - Train Accuracy: 0.5211 - Val Loss: 0.6981 - Val Accuracy: 0.4420\n"
     ]
    },
    {
     "name": "stderr",
     "output_type": "stream",
     "text": [
      "100%|██████████| 70/70 [01:33<00:00,  1.33s/it]\n",
      "100%|██████████| 9/9 [00:01<00:00,  4.66it/s]\n"
     ]
    },
    {
     "name": "stdout",
     "output_type": "stream",
     "text": [
      "Epoch 60 - Train Loss: 0.6934 - Train Accuracy: 0.5188 - Val Loss: 0.6987 - Val Accuracy: 0.4493\n"
     ]
    },
    {
     "name": "stderr",
     "output_type": "stream",
     "text": [
      "100%|██████████| 70/70 [01:33<00:00,  1.33s/it]\n",
      "100%|██████████| 9/9 [00:01<00:00,  4.64it/s]\n"
     ]
    },
    {
     "name": "stdout",
     "output_type": "stream",
     "text": [
      "Epoch 61 - Train Loss: 0.6934 - Train Accuracy: 0.5111 - Val Loss: 0.6981 - Val Accuracy: 0.4493\n"
     ]
    },
    {
     "name": "stderr",
     "output_type": "stream",
     "text": [
      "100%|██████████| 70/70 [01:32<00:00,  1.32s/it]\n",
      "100%|██████████| 9/9 [00:01<00:00,  4.73it/s]\n"
     ]
    },
    {
     "name": "stdout",
     "output_type": "stream",
     "text": [
      "Epoch 62 - Train Loss: 0.6936 - Train Accuracy: 0.5043 - Val Loss: 0.6976 - Val Accuracy: 0.4493\n"
     ]
    },
    {
     "name": "stderr",
     "output_type": "stream",
     "text": [
      "100%|██████████| 70/70 [01:32<00:00,  1.32s/it]\n",
      "100%|██████████| 9/9 [00:01<00:00,  4.73it/s]\n"
     ]
    },
    {
     "name": "stdout",
     "output_type": "stream",
     "text": [
      "Epoch 63 - Train Loss: 0.6939 - Train Accuracy: 0.5043 - Val Loss: 0.6983 - Val Accuracy: 0.4493\n"
     ]
    },
    {
     "name": "stderr",
     "output_type": "stream",
     "text": [
      "100%|██████████| 70/70 [01:32<00:00,  1.32s/it]\n",
      "100%|██████████| 9/9 [00:01<00:00,  4.68it/s]\n"
     ]
    },
    {
     "name": "stdout",
     "output_type": "stream",
     "text": [
      "Epoch 64 - Train Loss: 0.6928 - Train Accuracy: 0.5093 - Val Loss: 0.6956 - Val Accuracy: 0.4493\n"
     ]
    },
    {
     "name": "stderr",
     "output_type": "stream",
     "text": [
      "100%|██████████| 70/70 [01:32<00:00,  1.32s/it]\n",
      "100%|██████████| 9/9 [00:01<00:00,  4.63it/s]\n"
     ]
    },
    {
     "name": "stdout",
     "output_type": "stream",
     "text": [
      "Epoch 65 - Train Loss: 0.6932 - Train Accuracy: 0.5120 - Val Loss: 0.6946 - Val Accuracy: 0.4420\n"
     ]
    },
    {
     "name": "stderr",
     "output_type": "stream",
     "text": [
      "100%|██████████| 70/70 [01:32<00:00,  1.32s/it]\n",
      "100%|██████████| 9/9 [00:01<00:00,  4.77it/s]\n"
     ]
    },
    {
     "name": "stdout",
     "output_type": "stream",
     "text": [
      "Epoch 66 - Train Loss: 0.6935 - Train Accuracy: 0.5061 - Val Loss: 0.6955 - Val Accuracy: 0.4493\n"
     ]
    },
    {
     "name": "stderr",
     "output_type": "stream",
     "text": [
      "100%|██████████| 70/70 [01:33<00:00,  1.33s/it]\n",
      "100%|██████████| 9/9 [00:01<00:00,  4.62it/s]\n"
     ]
    },
    {
     "name": "stdout",
     "output_type": "stream",
     "text": [
      "Epoch 67 - Train Loss: 0.6927 - Train Accuracy: 0.5075 - Val Loss: 0.6955 - Val Accuracy: 0.4457\n"
     ]
    },
    {
     "name": "stderr",
     "output_type": "stream",
     "text": [
      "100%|██████████| 70/70 [01:33<00:00,  1.33s/it]\n",
      "100%|██████████| 9/9 [00:01<00:00,  4.73it/s]\n"
     ]
    },
    {
     "name": "stdout",
     "output_type": "stream",
     "text": [
      "Epoch 68 - Train Loss: 0.6933 - Train Accuracy: 0.5143 - Val Loss: 0.6991 - Val Accuracy: 0.4420\n"
     ]
    },
    {
     "name": "stderr",
     "output_type": "stream",
     "text": [
      "100%|██████████| 70/70 [01:33<00:00,  1.34s/it]\n",
      "100%|██████████| 9/9 [00:01<00:00,  4.73it/s]\n"
     ]
    },
    {
     "name": "stdout",
     "output_type": "stream",
     "text": [
      "Epoch 69 - Train Loss: 0.6932 - Train Accuracy: 0.5052 - Val Loss: 0.6964 - Val Accuracy: 0.4457\n"
     ]
    },
    {
     "name": "stderr",
     "output_type": "stream",
     "text": [
      "100%|██████████| 70/70 [01:34<00:00,  1.35s/it]\n",
      "100%|██████████| 9/9 [00:01<00:00,  4.53it/s]\n"
     ]
    },
    {
     "name": "stdout",
     "output_type": "stream",
     "text": [
      "Epoch 70 - Train Loss: 0.6935 - Train Accuracy: 0.5138 - Val Loss: 0.6980 - Val Accuracy: 0.4457\n"
     ]
    },
    {
     "name": "stderr",
     "output_type": "stream",
     "text": [
      "100%|██████████| 70/70 [01:33<00:00,  1.34s/it]\n",
      "100%|██████████| 9/9 [00:01<00:00,  4.64it/s]\n"
     ]
    },
    {
     "name": "stdout",
     "output_type": "stream",
     "text": [
      "Epoch 71 - Train Loss: 0.6930 - Train Accuracy: 0.5016 - Val Loss: 0.6980 - Val Accuracy: 0.4457\n"
     ]
    },
    {
     "name": "stderr",
     "output_type": "stream",
     "text": [
      "100%|██████████| 70/70 [01:34<00:00,  1.35s/it]\n",
      "100%|██████████| 9/9 [00:01<00:00,  4.62it/s]\n"
     ]
    },
    {
     "name": "stdout",
     "output_type": "stream",
     "text": [
      "Epoch 72 - Train Loss: 0.6926 - Train Accuracy: 0.5242 - Val Loss: 0.6974 - Val Accuracy: 0.4420\n"
     ]
    },
    {
     "name": "stderr",
     "output_type": "stream",
     "text": [
      "100%|██████████| 70/70 [01:34<00:00,  1.35s/it]\n",
      "100%|██████████| 9/9 [00:01<00:00,  4.73it/s]\n"
     ]
    },
    {
     "name": "stdout",
     "output_type": "stream",
     "text": [
      "Epoch 73 - Train Loss: 0.6920 - Train Accuracy: 0.5197 - Val Loss: 0.6974 - Val Accuracy: 0.4384\n"
     ]
    },
    {
     "name": "stderr",
     "output_type": "stream",
     "text": [
      "100%|██████████| 70/70 [01:33<00:00,  1.33s/it]\n",
      "100%|██████████| 9/9 [00:01<00:00,  4.66it/s]\n"
     ]
    },
    {
     "name": "stdout",
     "output_type": "stream",
     "text": [
      "Epoch 74 - Train Loss: 0.6932 - Train Accuracy: 0.5152 - Val Loss: 0.6987 - Val Accuracy: 0.4348\n"
     ]
    },
    {
     "name": "stderr",
     "output_type": "stream",
     "text": [
      "100%|██████████| 70/70 [01:32<00:00,  1.33s/it]\n",
      "100%|██████████| 9/9 [00:01<00:00,  4.59it/s]\n"
     ]
    },
    {
     "name": "stdout",
     "output_type": "stream",
     "text": [
      "Epoch 75 - Train Loss: 0.6924 - Train Accuracy: 0.5075 - Val Loss: 0.6968 - Val Accuracy: 0.4420\n"
     ]
    },
    {
     "name": "stderr",
     "output_type": "stream",
     "text": [
      "100%|██████████| 70/70 [01:32<00:00,  1.33s/it]\n",
      "100%|██████████| 9/9 [00:01<00:00,  4.56it/s]\n"
     ]
    },
    {
     "name": "stdout",
     "output_type": "stream",
     "text": [
      "Epoch 76 - Train Loss: 0.6923 - Train Accuracy: 0.5138 - Val Loss: 0.6960 - Val Accuracy: 0.4493\n"
     ]
    },
    {
     "name": "stderr",
     "output_type": "stream",
     "text": [
      "100%|██████████| 70/70 [01:33<00:00,  1.34s/it]\n",
      "100%|██████████| 9/9 [00:01<00:00,  4.61it/s]\n"
     ]
    },
    {
     "name": "stdout",
     "output_type": "stream",
     "text": [
      "Epoch 77 - Train Loss: 0.6925 - Train Accuracy: 0.5129 - Val Loss: 0.6978 - Val Accuracy: 0.4493\n"
     ]
    },
    {
     "name": "stderr",
     "output_type": "stream",
     "text": [
      "100%|██████████| 70/70 [01:32<00:00,  1.32s/it]\n",
      "100%|██████████| 9/9 [00:01<00:00,  4.73it/s]\n"
     ]
    },
    {
     "name": "stdout",
     "output_type": "stream",
     "text": [
      "Epoch 78 - Train Loss: 0.6920 - Train Accuracy: 0.5147 - Val Loss: 0.6983 - Val Accuracy: 0.4384\n"
     ]
    },
    {
     "name": "stderr",
     "output_type": "stream",
     "text": [
      "100%|██████████| 70/70 [01:32<00:00,  1.33s/it]\n",
      "100%|██████████| 9/9 [00:01<00:00,  4.65it/s]\n"
     ]
    },
    {
     "name": "stdout",
     "output_type": "stream",
     "text": [
      "Epoch 79 - Train Loss: 0.6920 - Train Accuracy: 0.5197 - Val Loss: 0.6946 - Val Accuracy: 0.4529\n"
     ]
    },
    {
     "name": "stderr",
     "output_type": "stream",
     "text": [
      "100%|██████████| 70/70 [01:35<00:00,  1.36s/it]\n",
      "100%|██████████| 9/9 [00:01<00:00,  4.74it/s]\n"
     ]
    },
    {
     "name": "stdout",
     "output_type": "stream",
     "text": [
      "Epoch 80 - Train Loss: 0.6915 - Train Accuracy: 0.5319 - Val Loss: 0.6991 - Val Accuracy: 0.4457\n"
     ]
    },
    {
     "name": "stderr",
     "output_type": "stream",
     "text": [
      "100%|██████████| 70/70 [01:32<00:00,  1.32s/it]\n",
      "100%|██████████| 9/9 [00:01<00:00,  4.61it/s]\n"
     ]
    },
    {
     "name": "stdout",
     "output_type": "stream",
     "text": [
      "Epoch 81 - Train Loss: 0.6915 - Train Accuracy: 0.5188 - Val Loss: 0.6938 - Val Accuracy: 0.4783\n"
     ]
    },
    {
     "name": "stderr",
     "output_type": "stream",
     "text": [
      "100%|██████████| 70/70 [01:32<00:00,  1.32s/it]\n",
      "100%|██████████| 9/9 [00:01<00:00,  4.62it/s]\n"
     ]
    },
    {
     "name": "stdout",
     "output_type": "stream",
     "text": [
      "Epoch 82 - Train Loss: 0.6925 - Train Accuracy: 0.5192 - Val Loss: 0.7014 - Val Accuracy: 0.4348\n"
     ]
    },
    {
     "name": "stderr",
     "output_type": "stream",
     "text": [
      "100%|██████████| 70/70 [01:31<00:00,  1.31s/it]\n",
      "100%|██████████| 9/9 [00:01<00:00,  4.62it/s]\n"
     ]
    },
    {
     "name": "stdout",
     "output_type": "stream",
     "text": [
      "Epoch 83 - Train Loss: 0.6938 - Train Accuracy: 0.5220 - Val Loss: 0.6946 - Val Accuracy: 0.5145\n"
     ]
    },
    {
     "name": "stderr",
     "output_type": "stream",
     "text": [
      "100%|██████████| 70/70 [01:31<00:00,  1.31s/it]\n",
      "100%|██████████| 9/9 [00:01<00:00,  4.66it/s]\n"
     ]
    },
    {
     "name": "stdout",
     "output_type": "stream",
     "text": [
      "Epoch 84 - Train Loss: 0.6924 - Train Accuracy: 0.5066 - Val Loss: 0.6957 - Val Accuracy: 0.4493\n"
     ]
    },
    {
     "name": "stderr",
     "output_type": "stream",
     "text": [
      "100%|██████████| 70/70 [01:30<00:00,  1.30s/it]\n",
      "100%|██████████| 9/9 [00:01<00:00,  4.66it/s]\n"
     ]
    },
    {
     "name": "stdout",
     "output_type": "stream",
     "text": [
      "Epoch 85 - Train Loss: 0.6918 - Train Accuracy: 0.5174 - Val Loss: 0.6924 - Val Accuracy: 0.5181\n"
     ]
    },
    {
     "name": "stderr",
     "output_type": "stream",
     "text": [
      "100%|██████████| 70/70 [01:30<00:00,  1.30s/it]\n",
      "100%|██████████| 9/9 [00:01<00:00,  4.78it/s]\n"
     ]
    },
    {
     "name": "stdout",
     "output_type": "stream",
     "text": [
      "Epoch 86 - Train Loss: 0.6920 - Train Accuracy: 0.5211 - Val Loss: 0.6952 - Val Accuracy: 0.4601\n"
     ]
    },
    {
     "name": "stderr",
     "output_type": "stream",
     "text": [
      "100%|██████████| 70/70 [01:30<00:00,  1.30s/it]\n",
      "100%|██████████| 9/9 [00:01<00:00,  4.62it/s]\n"
     ]
    },
    {
     "name": "stdout",
     "output_type": "stream",
     "text": [
      "Epoch 87 - Train Loss: 0.6909 - Train Accuracy: 0.5192 - Val Loss: 0.6987 - Val Accuracy: 0.4529\n"
     ]
    },
    {
     "name": "stderr",
     "output_type": "stream",
     "text": [
      "100%|██████████| 70/70 [01:31<00:00,  1.30s/it]\n",
      "100%|██████████| 9/9 [00:01<00:00,  4.57it/s]\n"
     ]
    },
    {
     "name": "stdout",
     "output_type": "stream",
     "text": [
      "Epoch 88 - Train Loss: 0.6918 - Train Accuracy: 0.5188 - Val Loss: 0.6936 - Val Accuracy: 0.5000\n"
     ]
    },
    {
     "name": "stderr",
     "output_type": "stream",
     "text": [
      "100%|██████████| 70/70 [01:30<00:00,  1.30s/it]\n",
      "100%|██████████| 9/9 [00:02<00:00,  4.49it/s]\n"
     ]
    },
    {
     "name": "stdout",
     "output_type": "stream",
     "text": [
      "Epoch 89 - Train Loss: 0.6920 - Train Accuracy: 0.5156 - Val Loss: 0.6991 - Val Accuracy: 0.4493\n"
     ]
    },
    {
     "name": "stderr",
     "output_type": "stream",
     "text": [
      "100%|██████████| 70/70 [01:32<00:00,  1.32s/it]\n",
      "100%|██████████| 9/9 [00:01<00:00,  4.64it/s]\n"
     ]
    },
    {
     "name": "stdout",
     "output_type": "stream",
     "text": [
      "Epoch 90 - Train Loss: 0.6924 - Train Accuracy: 0.5224 - Val Loss: 0.6978 - Val Accuracy: 0.4384\n"
     ]
    },
    {
     "name": "stderr",
     "output_type": "stream",
     "text": [
      "100%|██████████| 70/70 [01:31<00:00,  1.30s/it]\n",
      "100%|██████████| 9/9 [00:01<00:00,  4.57it/s]\n"
     ]
    },
    {
     "name": "stdout",
     "output_type": "stream",
     "text": [
      "Epoch 91 - Train Loss: 0.6922 - Train Accuracy: 0.5138 - Val Loss: 0.7017 - Val Accuracy: 0.4384\n"
     ]
    },
    {
     "name": "stderr",
     "output_type": "stream",
     "text": [
      "100%|██████████| 70/70 [01:31<00:00,  1.31s/it]\n",
      "100%|██████████| 9/9 [00:02<00:00,  4.42it/s]\n"
     ]
    },
    {
     "name": "stdout",
     "output_type": "stream",
     "text": [
      "Epoch 92 - Train Loss: 0.6913 - Train Accuracy: 0.5224 - Val Loss: 0.7023 - Val Accuracy: 0.4638\n"
     ]
    },
    {
     "name": "stderr",
     "output_type": "stream",
     "text": [
      "100%|██████████| 70/70 [01:32<00:00,  1.32s/it]\n",
      "100%|██████████| 9/9 [00:01<00:00,  4.58it/s]\n"
     ]
    },
    {
     "name": "stdout",
     "output_type": "stream",
     "text": [
      "Epoch 93 - Train Loss: 0.6900 - Train Accuracy: 0.5306 - Val Loss: 0.6943 - Val Accuracy: 0.5000\n"
     ]
    },
    {
     "name": "stderr",
     "output_type": "stream",
     "text": [
      "100%|██████████| 70/70 [01:31<00:00,  1.31s/it]\n",
      "100%|██████████| 9/9 [00:01<00:00,  4.60it/s]\n"
     ]
    },
    {
     "name": "stdout",
     "output_type": "stream",
     "text": [
      "Epoch 94 - Train Loss: 0.6914 - Train Accuracy: 0.5287 - Val Loss: 0.7022 - Val Accuracy: 0.4638\n"
     ]
    },
    {
     "name": "stderr",
     "output_type": "stream",
     "text": [
      "100%|██████████| 70/70 [01:31<00:00,  1.31s/it]\n",
      "100%|██████████| 9/9 [00:01<00:00,  4.94it/s]\n"
     ]
    },
    {
     "name": "stdout",
     "output_type": "stream",
     "text": [
      "Epoch 95 - Train Loss: 0.6918 - Train Accuracy: 0.5242 - Val Loss: 0.6961 - Val Accuracy: 0.4493\n"
     ]
    },
    {
     "name": "stderr",
     "output_type": "stream",
     "text": [
      "100%|██████████| 70/70 [01:24<00:00,  1.21s/it]\n",
      "100%|██████████| 9/9 [00:01<00:00,  5.16it/s]\n"
     ]
    },
    {
     "name": "stdout",
     "output_type": "stream",
     "text": [
      "Epoch 96 - Train Loss: 0.6910 - Train Accuracy: 0.5265 - Val Loss: 0.7002 - Val Accuracy: 0.4638\n"
     ]
    },
    {
     "name": "stderr",
     "output_type": "stream",
     "text": [
      "100%|██████████| 70/70 [01:24<00:00,  1.21s/it]\n",
      "100%|██████████| 9/9 [00:01<00:00,  5.04it/s]\n"
     ]
    },
    {
     "name": "stdout",
     "output_type": "stream",
     "text": [
      "Epoch 97 - Train Loss: 0.6912 - Train Accuracy: 0.5292 - Val Loss: 0.6986 - Val Accuracy: 0.4493\n"
     ]
    },
    {
     "name": "stderr",
     "output_type": "stream",
     "text": [
      "100%|██████████| 70/70 [01:25<00:00,  1.21s/it]\n",
      "100%|██████████| 9/9 [00:01<00:00,  5.12it/s]\n"
     ]
    },
    {
     "name": "stdout",
     "output_type": "stream",
     "text": [
      "Epoch 98 - Train Loss: 0.6903 - Train Accuracy: 0.5260 - Val Loss: 0.6985 - Val Accuracy: 0.4420\n"
     ]
    },
    {
     "name": "stderr",
     "output_type": "stream",
     "text": [
      "100%|██████████| 70/70 [01:25<00:00,  1.22s/it]\n",
      "100%|██████████| 9/9 [00:01<00:00,  5.04it/s]\n"
     ]
    },
    {
     "name": "stdout",
     "output_type": "stream",
     "text": [
      "Epoch 99 - Train Loss: 0.6902 - Train Accuracy: 0.5206 - Val Loss: 0.6978 - Val Accuracy: 0.4783\n"
     ]
    },
    {
     "name": "stderr",
     "output_type": "stream",
     "text": [
      "100%|██████████| 70/70 [01:24<00:00,  1.21s/it]\n",
      "100%|██████████| 9/9 [00:01<00:00,  5.00it/s]\n"
     ]
    },
    {
     "name": "stdout",
     "output_type": "stream",
     "text": [
      "Epoch 100 - Train Loss: 0.6960 - Train Accuracy: 0.5238 - Val Loss: 0.7003 - Val Accuracy: 0.4601\n"
     ]
    },
    {
     "data": {
      "image/png": "[encoded data removed]",
      "text/plain": [
       "<Figure size 1200x500 with 2 Axes>"
      ]
     },
     "metadata": {},
     "output_type": "display_data"
    },
    {
     "name": "stdout",
     "output_type": "stream",
     "text": [
      "Maximum Train Accuracy:  0.5319148936170213\n"
     ]
    },
    {
     "name": "stderr",
     "output_type": "stream",
     "text": [
      "100%|██████████| 9/9 [00:01<00:00,  5.27it/s]"
     ]
    },
    {
     "name": "stdout",
     "output_type": "stream",
     "text": [
      "Test Error: \n",
      " Accuracy: 48.7%, Avg loss: 0.696964 \n",
      "\n"
     ]
    },
    {
     "name": "stderr",
     "output_type": "stream",
     "text": [
      "\n"
     ]
    }
   ],
   "source": [
    "import matplotlib.pyplot as plt\n",
    "\n",
    "# Train & test model\n",
    "train_losses, val_losses, train_accuracies, val_accuracies = train(\n",
    "    train_loader, val_loader, model, loss_fn, optimizer, 100)\n",
    "print(\"Maximum Train Accuracy: \", max(train_accuracies))\n",
    "test(test_loader, model, loss_fn)"
   ]
  },
  {
   "cell_type": "markdown",
   "metadata": {},
   "source": [
    "### Results\n",
    "Overall, roughly 3,000 samples of data were collected. These samples were collected in optimal conditions in locations and times with no periphery stimulus-producing distractions and no extraneous electrical signals. The first iteration of a classification model (EEG_Net_CNN) did not perform well enough over 100 epochs for use in a speller application. The model was initially trained on unnormalized data and did not achieve a usable accuracy. The model was then retrained on fully preprocessed data. It achieved a better yet still unusable testing accuracy of 51.30%. A more full analysis will be performed on the model after it has been optimized and has achieved a non-trivial performance gain over the baseline. A column chart comparing the baseline accuracy to the EEG_Net_CNN's accuracy is provided below:\n",
    "<br><br>\n",
    "![Barchart Comparison of EEG_Net_CNN Accuracy to the Baseline Accuracy](content/accuracy_chart.png)"
   ]
  },
  {
   "cell_type": "markdown",
   "metadata": {},
   "source": [
    "### Next Steps\n",
    "There is one main shortcoming in this project: the classification model's performance. This can be due to one or more of three factors:\n",
    "- The quality and size of the training dataset.\n",
    "- The quality of the data preprocessing.\n",
    "- The architecture and training algorithm of the model.\n",
    "##### Dataset\n",
    "Great pains were taken to optimize the p300 response and to ensure that all data collected was of good quality. Furthermore, 3,000 samples of data would be enough to fully train a small classification network like the EEG_Net_CNN. However, if the size of the neural network is increased, then more samples will need to be collected.\n",
    "##### Data Preprocessing\n",
    "All the applied data preprocessing steps are generally needed for neural networks to converge quickly with signals data. Thus, none of the current preprocessing steps should be removed. However, the bandpass filter currently allows too much noise to filter through. The high frequency cutoff will be optimized further to reduce noise. Additionally, autoencoders are commonly used to extract features from signals data. An autoencoder will be trained and used to extract latent representations for further processing.\n",
    "##### Model\n",
    "The simple CNN was unable to parse the EEG data. Before trying different model architectures, we will tune the hyperparameters and model parameters, such as the convolution kernel sizes, to increase the accuracy of this model. CNNs have been successful in classifying EEG data for speller applications in the past. This means that an optimal size and optimal hyperparameters would likely enable our model to perform well. Recurrent neural networks (RNNs) have also been made to perform well on EEG data in the past. Because everybody's brain operates differently, each brain has a different baseline. Perhaps, a RNN can learn how to characterize a specific person's neural patterns in its hidden state. After optimizing the CNN, we will wrap the CNN with a LSTM RNN to test if a hidden state increases accuracy. Lastly, other neural networks have been trained on EEG data to detect the p300 stimulus response. Finding a pretrained model and modifying that model with additional layers for transfer learning could yield a usable model faster than building a network from scratch."
   ]
  }
 ],
 "metadata": {
  "kernelspec": {
   "display_name": "Python 3",
   "language": "python",
   "name": "python3"
  },
  "language_info": {
   "codemirror_mode": {
    "name": "ipython",
    "version": 3
   },
   "file_extension": ".py",
   "mimetype": "text/x-python",
   "name": "python",
   "nbconvert_exporter": "python",
   "pygments_lexer": "ipython3",
   "version": "3.11.5"
  }
 },
 "nbformat": 4,
 "nbformat_minor": 2
}
